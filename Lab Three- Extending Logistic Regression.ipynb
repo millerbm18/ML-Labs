{
 "cells": [
  {
   "cell_type": "markdown",
   "id": "fe86ed7b",
   "metadata": {
    "pycharm": {
     "name": "#%% md\n"
    }
   },
   "source": [
    "# Lab Three: Extending Logistic Regression\n",
    " \n",
    "\n",
    "#### Everett Cienkus, Blake Miller, Colin Weil"
   ]
  },
  {
   "cell_type": "markdown",
   "id": "4adba831",
   "metadata": {
    "pycharm": {
     "name": "#%% md\n"
    }
   },
   "source": [
    "### 1. Preparation and Overview"
   ]
  },
  {
   "cell_type": "markdown",
   "id": "1bfd1ecc",
   "metadata": {},
   "source": [
    "#### 1.1 Business Case"
   ]
  },
  {
   "cell_type": "markdown",
   "id": "d247dfd4",
   "metadata": {},
   "source": [
    "Explain the task and what business-case or use-case it is designed to solve (or designed to investigate). Detail exactly what the classification task is and what parties would be interested in the results. For example, would the model be deployed or used mostly for offline analysis? "
   ]
  },
  {
   "cell_type": "markdown",
   "id": "3f8aaca9",
   "metadata": {},
   "source": [
    "#### 1.2 Preparation of Data"
   ]
  },
  {
   "cell_type": "code",
   "execution_count": 2,
   "id": "d776f8b0",
   "metadata": {},
   "outputs": [],
   "source": [
    "# Define and prepare your class variables. \n",
    "# Use proper variable representations (int, float, one-hot, etc.). \n",
    "# Use pre-processing methods (as needed) for dimensionality reduction, \n",
    "# scaling, etc. Remove variables that are not needed/useful for the analysis. \n",
    "# Describe the final dataset that is used for classification/regression \n",
    "# (include a description of any newly formed variables you created).\n",
    "# MAKE SURE TO NORMALIZE VALUES"
   ]
  },
  {
   "cell_type": "markdown",
   "id": "c899bcb3",
   "metadata": {},
   "source": [
    "#### 1.3 Division of Trainig and Testing Data"
   ]
  },
  {
   "cell_type": "code",
   "execution_count": 3,
   "id": "c72a38be",
   "metadata": {},
   "outputs": [],
   "source": [
    "# Divide your data into training and testing data using an 80% training \n",
    "# and 20% testing split. Use the cross validation modules that are part \n",
    "# of scikit-learn."
   ]
  },
  {
   "cell_type": "markdown",
   "id": "f22058f5",
   "metadata": {},
   "source": [
    "Argue \"for\" or \"against\" splitting your data using an 80/20 split. That is, why is the 80/20 split appropriate (or not) for your dataset?  "
   ]
  },
  {
   "cell_type": "markdown",
   "id": "dc6dd112",
   "metadata": {
    "pycharm": {
     "name": "#%%\n"
    }
   },
   "source": [
    "### 2. Modeling"
   ]
  },
  {
   "cell_type": "markdown",
   "id": "7254912c",
   "metadata": {},
   "source": [
    "#### 2.1 One-Versus-All Logistic Regression Classifier"
   ]
  },
  {
   "cell_type": "code",
   "execution_count": 6,
   "id": "ff4c3856",
   "metadata": {},
   "outputs": [],
   "source": []
  },
  {
   "cell_type": "markdown",
   "id": "6102f27e",
   "metadata": {},
   "source": [
    "#### 2. Training Classifier for Good Generalization Performance"
   ]
  },
  {
   "cell_type": "code",
   "execution_count": null,
   "id": "b8f60a34",
   "metadata": {},
   "outputs": [],
   "source": []
  },
  {
   "cell_type": "markdown",
   "id": "dc542313",
   "metadata": {},
   "source": [
    "Is your method of selecting parameters justified? That is, do you think there is any \"data snooping\" involved with this method of selecting parameters?"
   ]
  },
  {
   "cell_type": "markdown",
   "id": "349ddd42",
   "metadata": {},
   "source": [
    "#### 2.3 Comparing Best Performing Procedure to Scikit-Learn"
   ]
  },
  {
   "cell_type": "code",
   "execution_count": null,
   "id": "d0e1ada2",
   "metadata": {},
   "outputs": [],
   "source": [
    "# Visualize the performance differences in terms of training time and classification performance."
   ]
  },
  {
   "cell_type": "markdown",
   "id": "2038b3ee",
   "metadata": {},
   "source": [
    "Discuss the results. "
   ]
  },
  {
   "cell_type": "markdown",
   "id": "1c06cb74",
   "metadata": {},
   "source": [
    "### 3. Deployment"
   ]
  },
  {
   "cell_type": "markdown",
   "id": "df3a2bb8",
   "metadata": {},
   "source": [
    "Which implementation of logistic regression would you advise be used in a deployed machine learning model, your implementation or scikit-learn (or other third party)? Why?"
   ]
  },
  {
   "cell_type": "markdown",
   "id": "db76f603",
   "metadata": {},
   "source": [
    "### 4. BFGS (Can change but thought this would be better)"
   ]
  },
  {
   "cell_type": "code",
   "execution_count": 5,
   "id": "75888c7d",
   "metadata": {},
   "outputs": [],
   "source": [
    "# Implementation of BFGS"
   ]
  },
  {
   "cell_type": "markdown",
   "id": "33beecb4",
   "metadata": {},
   "source": [
    "Compare your performance accuracy and runtime to the BFGS implementation in SciPy (that we used in lecture). \n"
   ]
  }
 ],
 "metadata": {
  "kernelspec": {
   "display_name": "Python 3 (ipykernel)",
   "language": "python",
   "name": "python3"
  },
  "language_info": {
   "codemirror_mode": {
    "name": "ipython",
    "version": 3
   },
   "file_extension": ".py",
   "mimetype": "text/x-python",
   "name": "python",
   "nbconvert_exporter": "python",
   "pygments_lexer": "ipython3",
   "version": "3.9.12"
  }
 },
 "nbformat": 4,
 "nbformat_minor": 5
}
