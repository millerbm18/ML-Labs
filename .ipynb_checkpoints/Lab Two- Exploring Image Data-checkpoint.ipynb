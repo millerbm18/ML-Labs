{
 "cells": [
  {
   "cell_type": "markdown",
   "id": "00365c10",
   "metadata": {
    "pycharm": {
     "name": "#%% md\n"
    }
   },
   "source": [
    "# Lab Assignment Two: Exploring Image Data \n",
    "\n",
    "#### Everett Cienkus, Blake Miller, Colin Weil"
   ]
  },
  {
   "cell_type": "markdown",
   "id": "82c8fc71",
   "metadata": {
    "pycharm": {
     "name": "#%% md\n"
    }
   },
   "source": [
    "### 1. Business Understanding\n",
    "\n",
    "The data set is a collection of images of 131 different types of fruits, vegetables, or nuts (AKA food items). These are 100x100 px images with a single food item and a white background. There are a total of 67692 images to train and 22688 images to test the accuracy of the data set. This image data was collected by Mihai Oltean for the purpose of documenting the 360 degree views of fruits. These fruits were filmed using a stationary camera, a slow rotating motor, and a white background. The different food items were placed on a rod attached to the motor and slowly spun while the camera captured the different angles of the food item. The white background was not consistent throughout the photos and negatively impacted the ability to declare the food item from the background. To combat this the collectors created an algorithm that removed the background of the images and replaced it with the color white. \n",
    "\n",
    "The prediction task for this dataset is to use the images of food items in the train set to identify the food items in the images in the test data. Third parties that would be interested in these results would be someone creating a mobile app that allows the user to identify food items. Typically, a person would know the different food items within their own home and grocery stores label their items, leaving no need for the app in these situations. However, when people travel to foreign countries, they may see food items on a tree or bush or vine and want to identify this item. Farmers could also program this intelligence into their machines, allowing automatic picking machines to identify where these food items are or how many are left that have not been harvested. (Maybe just stick to the farmer one I am not 100% sure and then I can write the % accuracy based on specifics)."
   ]
  },
  {
   "cell_type": "markdown",
   "id": "bebe7a7f",
   "metadata": {
    "pycharm": {
     "name": "#%%\n"
    }
   },
   "source": [
    "### 2. Data Preparation "
   ]
  },
  {
   "cell_type": "markdown",
   "id": "4462790c",
   "metadata": {},
   "source": [
    "#### 2.1 Read In Images as Numpy Arrays"
   ]
  },
  {
   "cell_type": "markdown",
   "id": "47ba3ace",
   "metadata": {},
   "source": [
    "#### 2.2 Linearize Images"
   ]
  },
  {
   "cell_type": "markdown",
   "id": "a5d9d599",
   "metadata": {},
   "source": [
    "#### 2.3 Visualize Images"
   ]
  },
  {
   "cell_type": "markdown",
   "id": "3a2a180b",
   "metadata": {},
   "source": [
    "### 3. Data Reduction"
   ]
  },
  {
   "cell_type": "markdown",
   "id": "8c5dd040",
   "metadata": {},
   "source": [
    "#### 3.1 Linear dimensionality reduction PCA"
   ]
  },
  {
   "cell_type": "markdown",
   "id": "6ca70bb4",
   "metadata": {},
   "source": [
    "#### 3.2 randomized principle components analysis"
   ]
  },
  {
   "cell_type": "markdown",
   "id": "8fb64f3b",
   "metadata": {},
   "source": [
    "#### 3.3 Compare PCA and Randomized PCA"
   ]
  },
  {
   "cell_type": "markdown",
   "id": "24fb4e9e",
   "metadata": {},
   "source": [
    "#### 3.4 feature extraction"
   ]
  },
  {
   "cell_type": "code",
   "execution_count": null,
   "id": "c92b989f",
   "metadata": {},
   "outputs": [],
   "source": [
    "# explanation of feature extraction"
   ]
  },
  {
   "cell_type": "markdown",
   "id": "82b9ac6d",
   "metadata": {},
   "source": [
    "### 4. DAISY"
   ]
  }
 ],
 "metadata": {
  "kernelspec": {
   "display_name": "Python 3 (ipykernel)",
   "language": "python",
   "name": "python3"
  },
  "language_info": {
   "codemirror_mode": {
    "name": "ipython",
    "version": 3
   },
   "file_extension": ".py",
   "mimetype": "text/x-python",
   "name": "python",
   "nbconvert_exporter": "python",
   "pygments_lexer": "ipython3",
   "version": "3.9.12"
  }
 },
 "nbformat": 4,
 "nbformat_minor": 5
}
