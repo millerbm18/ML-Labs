{
 "cells": [
  {
   "cell_type": "markdown",
   "id": "00365c10",
   "metadata": {
    "pycharm": {
     "name": "#%% md\n"
    }
   },
   "source": [
    "# Lab Assignment Two: Exploring Image Data \n",
    "\n",
    "#### Everett Cienkus, Blake Miller, Colin Weil"
   ]
  },
  {
   "cell_type": "markdown",
   "id": "82c8fc71",
   "metadata": {
    "pycharm": {
     "name": "#%% md\n"
    }
   },
   "source": [
    "### 1. Business Understanding\n"
   ]
  },
  {
   "cell_type": "markdown",
   "id": "bebe7a7f",
   "metadata": {
    "pycharm": {
     "name": "#%%\n"
    }
   },
   "source": [
    "### 2. Data Preparation "
   ]
  },
  {
   "cell_type": "markdown",
   "id": "4462790c",
   "metadata": {},
   "source": [
    "#### 2.1 Read In Images as Numpy Arrays"
   ]
  },
  {
   "cell_type": "markdown",
   "id": "47ba3ace",
   "metadata": {},
   "source": [
    "#### 2.2 Linearize Images"
   ]
  },
  {
   "cell_type": "markdown",
   "id": "a5d9d599",
   "metadata": {},
   "source": [
    "#### 2.3 Visualize Images"
   ]
  },
  {
   "cell_type": "markdown",
   "id": "3a2a180b",
   "metadata": {},
   "source": [
    "### 3. Data Reduction"
   ]
  },
  {
   "cell_type": "markdown",
   "id": "8c5dd040",
   "metadata": {},
   "source": [
    "#### 3.1 Linear dimensionality reduction PCA"
   ]
  },
  {
   "cell_type": "markdown",
   "id": "6ca70bb4",
   "metadata": {},
   "source": [
    "#### 3.2 randomized principle components analysis"
   ]
  },
  {
   "cell_type": "markdown",
   "id": "8fb64f3b",
   "metadata": {},
   "source": [
    "#### 3.3 Compare PCA and Randomized PCA"
   ]
  },
  {
   "cell_type": "markdown",
   "id": "24fb4e9e",
   "metadata": {},
   "source": [
    "#### 3.4 feature extraction"
   ]
  },
  {
   "cell_type": "code",
   "execution_count": null,
   "id": "c92b989f",
   "metadata": {},
   "outputs": [],
   "source": [
    "# explanation of feature extraction"
   ]
  },
  {
   "cell_type": "markdown",
   "id": "82b9ac6d",
   "metadata": {},
   "source": [
    "### 4. DAISY"
   ]
  }
 ],
 "metadata": {
  "kernelspec": {
   "display_name": "Python 3 (ipykernel)",
   "language": "python",
   "name": "python3"
  },
  "language_info": {
   "codemirror_mode": {
    "name": "ipython",
    "version": 3
   },
   "file_extension": ".py",
   "mimetype": "text/x-python",
   "name": "python",
   "nbconvert_exporter": "python",
   "pygments_lexer": "ipython3",
   "version": "3.9.12"
  }
 },
 "nbformat": 4,
 "nbformat_minor": 5
}
