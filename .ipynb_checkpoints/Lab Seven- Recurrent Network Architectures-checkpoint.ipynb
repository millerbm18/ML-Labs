{
 "cells": [
  {
   "cell_type": "markdown",
   "id": "fe86ed7b",
   "metadata": {
    "pycharm": {
     "name": "#%% md\n"
    }
   },
   "source": [
    "# Lab Assignment Seven: Recurrent Network Architectures\n",
    " \n",
    "\n",
    "#### Everett Cienkus, Blake Miller, Colin Weil"
   ]
  },
  {
   "cell_type": "markdown",
   "id": "4adba831",
   "metadata": {
    "pycharm": {
     "name": "#%% md\n"
    }
   },
   "source": [
    "## 1. Preparation"
   ]
  },
  {
   "cell_type": "markdown",
   "id": "26fb0229",
   "metadata": {
    "pycharm": {
     "name": "#%% md\n"
    }
   },
   "source": [
    "### 1.1 Define and Prepare Class Variables\n",
    "Define and prepare your class variables. Use proper variable representations (int, float, one-hot, etc.). Use pre-processing methods (as needed). Describe the final dataset that is used for classification/regression (include a description of any newly formed variables you created). Discuss methods of tokenization in your dataset as well as any decisions to force a specific length of sequence.  "
   ]
  },
  {
   "cell_type": "code",
   "execution_count": 47,
   "id": "967d08af",
   "metadata": {},
   "outputs": [
    {
     "name": "stdout",
     "output_type": "stream",
     "text": [
      "2314\n",
      "8000\n",
      "10314\n"
     ]
    },
    {
     "data": {
      "text/html": [
       "<div>\n",
       "<style scoped>\n",
       "    .dataframe tbody tr th:only-of-type {\n",
       "        vertical-align: middle;\n",
       "    }\n",
       "\n",
       "    .dataframe tbody tr th {\n",
       "        vertical-align: top;\n",
       "    }\n",
       "\n",
       "    .dataframe thead th {\n",
       "        text-align: right;\n",
       "    }\n",
       "</style>\n",
       "<table border=\"1\" class=\"dataframe\">\n",
       "  <thead>\n",
       "    <tr style=\"text-align: right;\">\n",
       "      <th></th>\n",
       "      <th>Index</th>\n",
       "      <th>message to examine</th>\n",
       "      <th>label (depression result)</th>\n",
       "    </tr>\n",
       "  </thead>\n",
       "  <tbody>\n",
       "    <tr>\n",
       "      <th>0</th>\n",
       "      <td>106</td>\n",
       "      <td>just had a real good moment. i missssssssss hi...</td>\n",
       "      <td>0</td>\n",
       "    </tr>\n",
       "    <tr>\n",
       "      <th>1</th>\n",
       "      <td>217</td>\n",
       "      <td>is reading manga  http://plurk.com/p/mzp1e</td>\n",
       "      <td>0</td>\n",
       "    </tr>\n",
       "    <tr>\n",
       "      <th>2</th>\n",
       "      <td>220</td>\n",
       "      <td>@comeagainjen http://twitpic.com/2y2lx - http:...</td>\n",
       "      <td>0</td>\n",
       "    </tr>\n",
       "    <tr>\n",
       "      <th>3</th>\n",
       "      <td>288</td>\n",
       "      <td>@lapcat Need to send 'em to my accountant tomo...</td>\n",
       "      <td>0</td>\n",
       "    </tr>\n",
       "    <tr>\n",
       "      <th>4</th>\n",
       "      <td>540</td>\n",
       "      <td>ADD ME ON MYSPACE!!!  myspace.com/LookThunder</td>\n",
       "      <td>0</td>\n",
       "    </tr>\n",
       "  </tbody>\n",
       "</table>\n",
       "</div>"
      ],
      "text/plain": [
       "   Index                                 message to examine  \\\n",
       "0    106  just had a real good moment. i missssssssss hi...   \n",
       "1    217         is reading manga  http://plurk.com/p/mzp1e   \n",
       "2    220  @comeagainjen http://twitpic.com/2y2lx - http:...   \n",
       "3    288  @lapcat Need to send 'em to my accountant tomo...   \n",
       "4    540      ADD ME ON MYSPACE!!!  myspace.com/LookThunder   \n",
       "\n",
       "   label (depression result)  \n",
       "0                          0  \n",
       "1                          0  \n",
       "2                          0  \n",
       "3                          0  \n",
       "4                          0  "
      ]
     },
     "metadata": {},
     "output_type": "display_data"
    }
   ],
   "source": [
    "import pandas as pd\n",
    "import numpy as np\n",
    "from tensorflow.keras.preprocessing.text import Tokenizer\n",
    "from tensorflow.keras.preprocessing.sequence import pad_sequences\n",
    "from sklearn.model_selection import train_test_split\n",
    "import os\n",
    "\n",
    "df = pd.read_csv('tweet_sentiments/sentiment_tweets3.csv') # read in the csv file\n",
    "X = df['message to examine']\n",
    "y = df['label (depression result)']\n",
    "\n",
    "#display\n",
    "display(df.head())\n"
   ]
  },
  {
   "cell_type": "code",
   "execution_count": 37,
   "id": "e34a2e6f",
   "metadata": {},
   "outputs": [
    {
     "name": "stdout",
     "output_type": "stream",
     "text": [
      "Found 23195 unique tokens. Distilled to 23195 top words.\n",
      "Shape of data tensor: (10314, 280)\n",
      "Shape of label tensor: (10314,)\n",
      "23195\n",
      "CPU times: user 241 ms, sys: 7.16 ms, total: 248 ms\n",
      "Wall time: 250 ms\n"
     ]
    }
   ],
   "source": [
    "%%time\n",
    "from tensorflow import keras\n",
    "from tensorflow.keras.preprocessing.text import Tokenizer\n",
    "from tensorflow.keras.preprocessing.sequence import pad_sequences\n",
    "\n",
    "NUM_TOP_WORDS = None # use entire vocabulary!\n",
    "MAX_TWEET_LEN = 280 # maximum and minimum number of words\n",
    "\n",
    "#tokenize the text\n",
    "tokenizer = Tokenizer(num_words=NUM_TOP_WORDS)\n",
    "tokenizer.fit_on_texts(X)\n",
    "# save as sequences with integers replacing words\n",
    "sequences = tokenizer.texts_to_sequences(X)\n",
    "\n",
    "word_index = tokenizer.word_index\n",
    "NUM_TOP_WORDS = len(word_index) if NUM_TOP_WORDS==None else NUM_TOP_WORDS\n",
    "top_words = min((len(word_index),NUM_TOP_WORDS))\n",
    "print('Found %s unique tokens. Distilled to %d top words.' % (len(word_index),top_words))\n",
    "\n",
    "X = pad_sequences(sequences, maxlen=MAX_TWEET_LEN)\n",
    "\n",
    "print('Shape of data tensor:', X.shape)\n",
    "print('Shape of label tensor:', y.shape)\n",
    "print(np.max(X))"
   ]
  },
  {
   "cell_type": "markdown",
   "id": "87b8d148",
   "metadata": {},
   "source": [
    "The final dataset after preparation is that each word is converted to an integer and each article is a series of integers that represent the correct ordering of words.\n",
    "\n",
    "This was accomplished by using the Keras Tokenizer as well as the Keras pad_sequences function.\n",
    "We decided  on a max length of 280 characters because that is the maximum length a tweet can be.\n",
    "\n",
    "There was no need to prepare the y data because it is a binary classification that is already represented by a 0 or 1 from the csv file."
   ]
  },
  {
   "cell_type": "markdown",
   "id": "d91424e9",
   "metadata": {},
   "source": [
    "### 1.2 Choose Metric for Evaluating Peformance\n",
    "Choose and explain what metric(s) you will use to evaluate your algorithm’s performance. You should give a detailed argument for why this (these) metric(s) are appropriate on your data. That is, why is the metric appropriate for the task (e.g., in terms of the business case for the task). Please note: rarely is accuracy the best evaluation metric to use. Think deeply about an appropriate measure of performance."
   ]
  },
  {
   "cell_type": "markdown",
   "id": "015565d6",
   "metadata": {},
   "source": [
    "We are going to choose recall as our metric for evaluating performance. We are doing this because we want to minimize false negatives which would classifying someone that has depression, as not having depression. \n",
    "\n",
    "Our business case for identifying depression from Tweets would come from the point of view of Twitter. Although we could not directly refer a person to a doctor after classifying them as having depression (because this would be a breach of privacy/ data), we could still use this information to help our users. We could send them depression therapy ads or ads that would talk about improving mental health with the hope that they would click on them and get help. It would be super important to not miss anoyone that may be depressed because we want to help all of the users possible that would have depression. \n",
    "\n",
    "On the other hand, a false positive isn't that big of a deal. In this case, a user that doesn't have depression will start to receive the mental health ads. This doesn't really make a difference in their lives and they will continue scrolling through the app without even noticing the ad.\n",
    "\n",
    "Because of these reasons, recall will be our metric for evaluating performance."
   ]
  },
  {
   "cell_type": "markdown",
   "id": "4eb04a66",
   "metadata": {
    "pycharm": {
     "name": "#%% md\n"
    }
   },
   "source": [
    "### 1.3 Choose Method for Dividing Data\n",
    "Choose the method you will use for dividing your data into training and testing (i.e., are you using Stratified 10-fold cross validation? Shuffle splits? Why?). Explain why your chosen method is appropriate or use more than one method as appropriate. Convince me that your train/test splitting method is a realistic mirroring of how an algorithm would be used in practice. "
   ]
  },
  {
   "cell_type": "code",
   "execution_count": 38,
   "id": "99d622e3",
   "metadata": {},
   "outputs": [],
   "source": [
    "# # Split it into train / test subsets\n",
    "X_train, X_test, y_train, y_test = train_test_split(X, y, test_size=0.2)"
   ]
  },
  {
   "cell_type": "markdown",
   "id": "deac1236",
   "metadata": {},
   "source": [
    "Since our dataset is over 10,000, it is okay to use 80/20 split according to the Larson Rule. This allows the data to be less biased, allowing the algorithm to train with a diverse dataset. The 80/20 rule works in this case bacause the large data set almost garentees that there will be diverse data because the set should contain multiple different combinations of data. Although we are right on the cusp of having enough data, this should be okay for our model."
   ]
  },
  {
   "cell_type": "markdown",
   "id": "8f3f26fd",
   "metadata": {
    "pycharm": {
     "name": "#%% md\n"
    }
   },
   "source": [
    "## 2. Modeling"
   ]
  },
  {
   "cell_type": "markdown",
   "id": "8116c31e",
   "metadata": {},
   "source": [
    "### 2.1 Investigate Two Different Network Architectures\n",
    "Investigate at least two different recurrent network architectures (perhaps LSTM and GRU). Alternatively, you may also choose one recurrent network and one convolutional network. Be sure to use an embedding layer (try to use a pre-trained embedding, if possible). Adjust hyper-parameters of the networks as needed to improve generalization performance (train a total of at least four models). Discuss the performance of each network and compare them."
   ]
  },
  {
   "cell_type": "markdown",
   "id": "ecb9f1ed",
   "metadata": {},
   "source": [
    "#### 2.1.1 LSTM"
   ]
  },
  {
   "cell_type": "code",
   "execution_count": null,
   "id": "46a87fe2",
   "metadata": {},
   "outputs": [],
   "source": []
  },
  {
   "cell_type": "markdown",
   "id": "14ceb153",
   "metadata": {},
   "source": [
    "#### 2.1.2 GRU"
   ]
  },
  {
   "cell_type": "code",
   "execution_count": null,
   "id": "bd347530",
   "metadata": {},
   "outputs": [],
   "source": []
  },
  {
   "cell_type": "markdown",
   "id": "3f71ecea",
   "metadata": {},
   "source": [
    "#### 2.1.3 Discussion and Comparison of RNN's"
   ]
  },
  {
   "cell_type": "markdown",
   "id": "6a4ad9f9",
   "metadata": {},
   "source": []
  },
  {
   "cell_type": "markdown",
   "id": "1569a4d8",
   "metadata": {},
   "source": [
    "### 2.2\n",
    "(FREE POINTS WOOHOO +1)"
   ]
  },
  {
   "cell_type": "markdown",
   "id": "cb100398",
   "metadata": {},
   "source": [
    "### 2.3 Visualize Results of RNN's\n",
    "Use the method of train/test splitting and evaluation criteria that you argued for at the beginning of the lab. Visualize the results of all the RNNs you trained.  Use proper statistical comparison techniques to determine which method(s) is (are) superior.  "
   ]
  },
  {
   "cell_type": "code",
   "execution_count": null,
   "id": "6de231f0",
   "metadata": {},
   "outputs": [],
   "source": []
  },
  {
   "cell_type": "markdown",
   "id": "d769933b",
   "metadata": {},
   "source": [
    "## 3. Exceptional Work \n",
    "(FREE POINTS WOOHOO +1)"
   ]
  }
 ],
 "metadata": {
  "kernelspec": {
   "display_name": "Python 3 (ipykernel)",
   "language": "python",
   "name": "python3"
  },
  "language_info": {
   "codemirror_mode": {
    "name": "ipython",
    "version": 3
   },
   "file_extension": ".py",
   "mimetype": "text/x-python",
   "name": "python",
   "nbconvert_exporter": "python",
   "pygments_lexer": "ipython3",
   "version": "3.9.6"
  }
 },
 "nbformat": 4,
 "nbformat_minor": 5
}
