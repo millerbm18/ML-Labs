{
 "cells": [
  {
   "cell_type": "markdown",
   "id": "fe86ed7b",
   "metadata": {
    "pycharm": {
     "name": "#%% md\n"
    }
   },
   "source": [
    "# Lab Assignment Five: Wide and Deep Network Architectures\n",
    " \n",
    "\n",
    "#### Everett Cienkus, Blake Miller, Colin Weil"
   ]
  },
  {
   "cell_type": "markdown",
   "id": "4adba831",
   "metadata": {
    "pycharm": {
     "name": "#%% md\n"
    }
   },
   "source": [
    "### 1. Preparation"
   ]
  },
  {
   "cell_type": "markdown",
   "id": "26fb0229",
   "metadata": {
    "pycharm": {
     "name": "#%% md\n"
    }
   },
   "source": [
    "#### 1.1 Define and Prepare Class Variables"
   ]
  },
  {
   "cell_type": "markdown",
   "id": "4eb04a66",
   "metadata": {
    "pycharm": {
     "name": "#%% md\n"
    }
   },
   "source": []
  },
  {
   "cell_type": "markdown",
   "id": "cdd1d91d",
   "metadata": {
    "pycharm": {
     "name": "#%% md\n"
    }
   },
   "source": [
    "Data from https://www.kaggle.com/datasets/arashnic/hr-ana\n",
    "\n",
    "Define and prepare your class variables. Use proper variable representations (int, float, one-hot, etc.). Use pre-processing methods (as needed) for dimensionality reduction, scaling, etc. Remove variables that are not needed/useful for the analysis. Describe the final dataset that is used for classification/regression (include a description of any newly formed variables you created)."
   ]
  },
  {
   "cell_type": "code",
   "execution_count": 1,
   "id": "0f9a2de0",
   "metadata": {
    "pycharm": {
     "name": "#%%\n"
    }
   },
   "outputs": [
    {
     "data": {
      "text/html": [
       "<div>\n",
       "<style scoped>\n",
       "    .dataframe tbody tr th:only-of-type {\n",
       "        vertical-align: middle;\n",
       "    }\n",
       "\n",
       "    .dataframe tbody tr th {\n",
       "        vertical-align: top;\n",
       "    }\n",
       "\n",
       "    .dataframe thead th {\n",
       "        text-align: right;\n",
       "    }\n",
       "</style>\n",
       "<table border=\"1\" class=\"dataframe\">\n",
       "  <thead>\n",
       "    <tr style=\"text-align: right;\">\n",
       "      <th></th>\n",
       "      <th>employee_id</th>\n",
       "      <th>department</th>\n",
       "      <th>region</th>\n",
       "      <th>education</th>\n",
       "      <th>gender</th>\n",
       "      <th>recruitment_channel</th>\n",
       "      <th>no_of_trainings</th>\n",
       "      <th>age</th>\n",
       "      <th>previous_year_rating</th>\n",
       "      <th>length_of_service</th>\n",
       "      <th>awards_won?</th>\n",
       "      <th>avg_training_score</th>\n",
       "      <th>is_promoted</th>\n",
       "    </tr>\n",
       "  </thead>\n",
       "  <tbody>\n",
       "    <tr>\n",
       "      <th>25011</th>\n",
       "      <td>77374</td>\n",
       "      <td>Technology</td>\n",
       "      <td>region_31</td>\n",
       "      <td>Bachelor's</td>\n",
       "      <td>f</td>\n",
       "      <td>other</td>\n",
       "      <td>2</td>\n",
       "      <td>24</td>\n",
       "      <td>3.0</td>\n",
       "      <td>2</td>\n",
       "      <td>0</td>\n",
       "      <td>82</td>\n",
       "      <td>0</td>\n",
       "    </tr>\n",
       "    <tr>\n",
       "      <th>33200</th>\n",
       "      <td>19217</td>\n",
       "      <td>Procurement</td>\n",
       "      <td>region_2</td>\n",
       "      <td>Bachelor's</td>\n",
       "      <td>m</td>\n",
       "      <td>other</td>\n",
       "      <td>2</td>\n",
       "      <td>37</td>\n",
       "      <td>2.0</td>\n",
       "      <td>9</td>\n",
       "      <td>0</td>\n",
       "      <td>71</td>\n",
       "      <td>0</td>\n",
       "    </tr>\n",
       "    <tr>\n",
       "      <th>2397</th>\n",
       "      <td>59582</td>\n",
       "      <td>Sales &amp; Marketing</td>\n",
       "      <td>region_2</td>\n",
       "      <td>Bachelor's</td>\n",
       "      <td>m</td>\n",
       "      <td>sourcing</td>\n",
       "      <td>1</td>\n",
       "      <td>36</td>\n",
       "      <td>3.0</td>\n",
       "      <td>9</td>\n",
       "      <td>0</td>\n",
       "      <td>51</td>\n",
       "      <td>0</td>\n",
       "    </tr>\n",
       "    <tr>\n",
       "      <th>22648</th>\n",
       "      <td>56142</td>\n",
       "      <td>Sales &amp; Marketing</td>\n",
       "      <td>region_10</td>\n",
       "      <td>Master's &amp; above</td>\n",
       "      <td>m</td>\n",
       "      <td>sourcing</td>\n",
       "      <td>3</td>\n",
       "      <td>32</td>\n",
       "      <td>3.0</td>\n",
       "      <td>2</td>\n",
       "      <td>0</td>\n",
       "      <td>48</td>\n",
       "      <td>0</td>\n",
       "    </tr>\n",
       "    <tr>\n",
       "      <th>51126</th>\n",
       "      <td>75623</td>\n",
       "      <td>Operations</td>\n",
       "      <td>region_22</td>\n",
       "      <td>Bachelor's</td>\n",
       "      <td>m</td>\n",
       "      <td>other</td>\n",
       "      <td>1</td>\n",
       "      <td>46</td>\n",
       "      <td>1.0</td>\n",
       "      <td>18</td>\n",
       "      <td>0</td>\n",
       "      <td>61</td>\n",
       "      <td>0</td>\n",
       "    </tr>\n",
       "    <tr>\n",
       "      <th>...</th>\n",
       "      <td>...</td>\n",
       "      <td>...</td>\n",
       "      <td>...</td>\n",
       "      <td>...</td>\n",
       "      <td>...</td>\n",
       "      <td>...</td>\n",
       "      <td>...</td>\n",
       "      <td>...</td>\n",
       "      <td>...</td>\n",
       "      <td>...</td>\n",
       "      <td>...</td>\n",
       "      <td>...</td>\n",
       "      <td>...</td>\n",
       "    </tr>\n",
       "    <tr>\n",
       "      <th>18917</th>\n",
       "      <td>25272</td>\n",
       "      <td>Sales &amp; Marketing</td>\n",
       "      <td>region_7</td>\n",
       "      <td>Bachelor's</td>\n",
       "      <td>m</td>\n",
       "      <td>sourcing</td>\n",
       "      <td>2</td>\n",
       "      <td>41</td>\n",
       "      <td>4.0</td>\n",
       "      <td>13</td>\n",
       "      <td>0</td>\n",
       "      <td>45</td>\n",
       "      <td>0</td>\n",
       "    </tr>\n",
       "    <tr>\n",
       "      <th>44013</th>\n",
       "      <td>32956</td>\n",
       "      <td>Operations</td>\n",
       "      <td>region_15</td>\n",
       "      <td>Bachelor's</td>\n",
       "      <td>m</td>\n",
       "      <td>sourcing</td>\n",
       "      <td>1</td>\n",
       "      <td>29</td>\n",
       "      <td>3.0</td>\n",
       "      <td>3</td>\n",
       "      <td>0</td>\n",
       "      <td>57</td>\n",
       "      <td>0</td>\n",
       "    </tr>\n",
       "    <tr>\n",
       "      <th>19306</th>\n",
       "      <td>27629</td>\n",
       "      <td>Technology</td>\n",
       "      <td>region_13</td>\n",
       "      <td>Bachelor's</td>\n",
       "      <td>f</td>\n",
       "      <td>other</td>\n",
       "      <td>1</td>\n",
       "      <td>41</td>\n",
       "      <td>3.0</td>\n",
       "      <td>11</td>\n",
       "      <td>0</td>\n",
       "      <td>76</td>\n",
       "      <td>0</td>\n",
       "    </tr>\n",
       "    <tr>\n",
       "      <th>44526</th>\n",
       "      <td>8398</td>\n",
       "      <td>Procurement</td>\n",
       "      <td>region_7</td>\n",
       "      <td>Bachelor's</td>\n",
       "      <td>f</td>\n",
       "      <td>other</td>\n",
       "      <td>1</td>\n",
       "      <td>31</td>\n",
       "      <td>1.0</td>\n",
       "      <td>7</td>\n",
       "      <td>0</td>\n",
       "      <td>73</td>\n",
       "      <td>1</td>\n",
       "    </tr>\n",
       "    <tr>\n",
       "      <th>956</th>\n",
       "      <td>46849</td>\n",
       "      <td>Sales &amp; Marketing</td>\n",
       "      <td>region_3</td>\n",
       "      <td>Bachelor's</td>\n",
       "      <td>m</td>\n",
       "      <td>other</td>\n",
       "      <td>1</td>\n",
       "      <td>32</td>\n",
       "      <td>5.0</td>\n",
       "      <td>5</td>\n",
       "      <td>0</td>\n",
       "      <td>47</td>\n",
       "      <td>1</td>\n",
       "    </tr>\n",
       "  </tbody>\n",
       "</table>\n",
       "<p>9732 rows × 13 columns</p>\n",
       "</div>"
      ],
      "text/plain": [
       "       employee_id         department     region         education gender  \\\n",
       "25011        77374         Technology  region_31        Bachelor's      f   \n",
       "33200        19217        Procurement   region_2        Bachelor's      m   \n",
       "2397         59582  Sales & Marketing   region_2        Bachelor's      m   \n",
       "22648        56142  Sales & Marketing  region_10  Master's & above      m   \n",
       "51126        75623         Operations  region_22        Bachelor's      m   \n",
       "...            ...                ...        ...               ...    ...   \n",
       "18917        25272  Sales & Marketing   region_7        Bachelor's      m   \n",
       "44013        32956         Operations  region_15        Bachelor's      m   \n",
       "19306        27629         Technology  region_13        Bachelor's      f   \n",
       "44526         8398        Procurement   region_7        Bachelor's      f   \n",
       "956          46849  Sales & Marketing   region_3        Bachelor's      m   \n",
       "\n",
       "      recruitment_channel  no_of_trainings  age  previous_year_rating  \\\n",
       "25011               other                2   24                   3.0   \n",
       "33200               other                2   37                   2.0   \n",
       "2397             sourcing                1   36                   3.0   \n",
       "22648            sourcing                3   32                   3.0   \n",
       "51126               other                1   46                   1.0   \n",
       "...                   ...              ...  ...                   ...   \n",
       "18917            sourcing                2   41                   4.0   \n",
       "44013            sourcing                1   29                   3.0   \n",
       "19306               other                1   41                   3.0   \n",
       "44526               other                1   31                   1.0   \n",
       "956                 other                1   32                   5.0   \n",
       "\n",
       "       length_of_service  awards_won?  avg_training_score  is_promoted  \n",
       "25011                  2            0                  82            0  \n",
       "33200                  9            0                  71            0  \n",
       "2397                   9            0                  51            0  \n",
       "22648                  2            0                  48            0  \n",
       "51126                 18            0                  61            0  \n",
       "...                  ...          ...                 ...          ...  \n",
       "18917                 13            0                  45            0  \n",
       "44013                  3            0                  57            0  \n",
       "19306                 11            0                  76            0  \n",
       "44526                  7            0                  73            1  \n",
       "956                    5            0                  47            1  \n",
       "\n",
       "[9732 rows x 13 columns]"
      ]
     },
     "execution_count": 1,
     "metadata": {},
     "output_type": "execute_result"
    }
   ],
   "source": [
    "import pandas as pd\n",
    "import numpy as np\n",
    "from sklearn.model_selection import train_test_split\n",
    "# Load the data into memory and save it to a pandas data frame.\n",
    "df = pd.read_csv('promotion_dataset/train.csv')\n",
    "df = df.dropna()\n",
    "\n",
    "df_train, df_test = train_test_split(df,train_size=0.8)\n",
    "df_test"
   ]
  },
  {
   "cell_type": "code",
   "execution_count": 2,
   "id": "acfb1ce7",
   "metadata": {
    "pycharm": {
     "name": "#%%\n"
    }
   },
   "outputs": [
    {
     "name": "stdout",
     "output_type": "stream",
     "text": [
      "We will use the following 11 features:\n",
      "[   'department_int',\n",
      "    'region_int',\n",
      "    'education_int',\n",
      "    'gender_int',\n",
      "    'recruitment_channel_int',\n",
      "    'no_of_trainings',\n",
      "    'previous_year_rating',\n",
      "    'length_of_service',\n",
      "    'awards_won?',\n",
      "    'avg_training_score',\n",
      "    'age']\n"
     ]
    }
   ],
   "source": [
    "from sklearn.preprocessing import LabelEncoder\n",
    "from sklearn.preprocessing import StandardScaler\n",
    "# ========================================================\n",
    "# define objects that can encode each variable as integer\n",
    "encoders = dict() # save each encoder in dictionary\n",
    "categorical_headers = ['department','region','education','gender','recruitment_channel']\n",
    "# train all encoders\n",
    "for col in categorical_headers:\n",
    "    df_train[col] = df_train[col].str.strip()\n",
    "    df_test[col] = df_test[col].str.strip()\n",
    "    encoders[col] = LabelEncoder() # save the encoder\n",
    "    df_train[col+'_int'] = encoders[col].fit_transform(df_train[col])\n",
    "    df_test[col+'_int'] = encoders[col].transform(df_test[col])\n",
    "# ========================================================\n",
    "# scale the numeric, continuous variables\n",
    "numeric_headers = ['no_of_trainings', 'previous_year_rating', 'length_of_service', 'awards_won?', 'avg_training_score','age']\n",
    "ss = StandardScaler()\n",
    "df_train[numeric_headers] = ss.fit_transform(df_train[numeric_headers].values)\n",
    "df_test[numeric_headers] = ss.transform(df_test[numeric_headers].values)\n",
    "\n",
    "\n",
    "categorical_headers_ints = [x+'_int' for x in categorical_headers]\n",
    "\n",
    "feature_columns = categorical_headers_ints+numeric_headers\n",
    "\n",
    "import pprint\n",
    "pp = pprint.PrettyPrinter(indent=4)\n",
    "print(f\"We will use the following {len(feature_columns)} features:\")\n",
    "pp.pprint(feature_columns)\n"
   ]
  },
  {
   "cell_type": "markdown",
   "id": "79e4c590",
   "metadata": {
    "pycharm": {
     "name": "#%% md\n"
    }
   },
   "source": [
    "#### 1.2 Combine into Cross-Product Features"
   ]
  },
  {
   "cell_type": "markdown",
   "id": "7656b605",
   "metadata": {
    "pycharm": {
     "name": "#%% md\n"
    }
   },
   "source": [
    "One of the crosses we decided to use is crossing the department column and the education column. These would be good to combine because certain departments might have different promotion rates as well as education will be very important to some departments and if someone should be promoted inside of them. \n",
    "\n",
    "We also chose to combine the recruitment channel and education columns. This would be a good idea because the way someone enters the compnay tells a lot about how they will progress throughout the company. Pairing this concept with education may bring some strong results as people who get recruited with the same education type would be expected to have similar career paths."
   ]
  },
  {
   "cell_type": "code",
   "execution_count": 3,
   "id": "91dab1af",
   "metadata": {
    "pycharm": {
     "name": "#%%\n"
    }
   },
   "outputs": [
    {
     "name": "stdout",
     "output_type": "stream",
     "text": [
      "department has 9 unique values:\n",
      "['HR' 'Operations' 'Technology' 'Sales & Marketing' 'Procurement'\n",
      " 'Analytics' 'Finance' 'R&D' 'Legal']\n",
      "region has 34 unique values:\n",
      "['region_26' 'region_29' 'region_15' 'region_2' 'region_13' 'region_7'\n",
      " 'region_25' 'region_20' 'region_23' 'region_12' 'region_16' 'region_27'\n",
      " 'region_22' 'region_11' 'region_32' 'region_10' 'region_4' 'region_28'\n",
      " 'region_1' 'region_3' 'region_24' 'region_6' 'region_31' 'region_30'\n",
      " 'region_14' 'region_21' 'region_17' 'region_5' 'region_19' 'region_8'\n",
      " 'region_18' 'region_34' 'region_9' 'region_33']\n",
      "education has 3 unique values:\n",
      "[\"Bachelor's\" \"Master's & above\" 'Below Secondary']\n",
      "gender has 2 unique values:\n",
      "['m' 'f']\n",
      "recruitment_channel has 3 unique values:\n",
      "['sourcing' 'other' 'referred']\n"
     ]
    }
   ],
   "source": [
    "for col in categorical_headers:\n",
    "    vals = df_train[col].unique()\n",
    "    print(col,'has', len(vals), 'unique values:')\n",
    "    print(vals)"
   ]
  },
  {
   "cell_type": "code",
   "execution_count": 4,
   "id": "8209aae2",
   "metadata": {
    "pycharm": {
     "name": "#%%\n"
    }
   },
   "outputs": [
    {
     "data": {
      "text/plain": [
       "['department_education', 'recruitment_channel_education', 'department_region']"
      ]
     },
     "execution_count": 4,
     "metadata": {},
     "output_type": "execute_result"
    }
   ],
   "source": [
    "cross_columns = [\n",
    "    ['department','education'],\n",
    "    ['recruitment_channel','education'],\n",
    "    ['department', 'region']\n",
    "]\n",
    "\n",
    "# cross each set of columns in the list above\n",
    "cross_col_df_names = []\n",
    "for cols_list in cross_columns:\n",
    "    # encode as ints for the embedding\n",
    "    enc = LabelEncoder()\n",
    "\n",
    "    # 1. create crossed labels by join operation\n",
    "    X_crossed_train = df_train[cols_list].apply(lambda x: '_'.join(x), axis=1)\n",
    "    X_crossed_test = df_test[cols_list].apply(lambda x: '_'.join(x), axis=1)\n",
    "\n",
    "    # get a nice name for this new crossed column\n",
    "    cross_col_name = '_'.join(cols_list)\n",
    "\n",
    "    # 2. encode as integers, stacking all possibilities\n",
    "    enc.fit(np.hstack((X_crossed_train.to_numpy(),  X_crossed_test.to_numpy())))\n",
    "\n",
    "    # 3. Save into dataframe with new name\n",
    "    df_train[cross_col_name] = enc.transform(X_crossed_train)\n",
    "    df_test[cross_col_name] = enc.transform(X_crossed_test)\n",
    "\n",
    "    # keep track of the new names of the crossed columns\n",
    "    cross_col_df_names.append(cross_col_name)\n",
    "\n",
    "cross_col_df_names"
   ]
  },
  {
   "cell_type": "markdown",
   "id": "dac6fafd",
   "metadata": {
    "pycharm": {
     "name": "#%% md\n"
    }
   },
   "source": [
    "#### 1.3 Choose Metrics to Evaluate Performance"
   ]
  },
  {
   "cell_type": "markdown",
   "id": "8ccfad55",
   "metadata": {
    "pycharm": {
     "name": "#%% md\n"
    }
   },
   "source": [
    "We will be using precision as our metric to evaluate our algorithms' performance. This metric is appropriate for our dataset becuase precision reduces false positiives and the worst case for the prediction that we will be mkaing would be to promote someone that does not qualify or deserve to be promoted. In addition, many times in the workplace people who are qualified do not get the promotion, so if our algorithm mirrors the real life action and does not classify someone who is qualified to get promotion, this is acceptable."
   ]
  },
  {
   "cell_type": "markdown",
   "id": "57fef24f",
   "metadata": {
    "pycharm": {
     "name": "#%% md\n"
    }
   },
   "source": [
    "#### 1.4 Choose Method for Dividing Data"
   ]
  },
  {
   "cell_type": "markdown",
   "id": "f6f8ed74",
   "metadata": {
    "pycharm": {
     "name": "#%% md\n"
    }
   },
   "source": [
    "Since our dataset is over 50,000, it is okay to use 80/20 split according to the Larson Rule (we felt like this was a good name). This is because... EXPAND ON THIS"
   ]
  },
  {
   "cell_type": "markdown",
   "id": "701fbe1a",
   "metadata": {
    "pycharm": {
     "name": "#%% md\n"
    }
   },
   "source": [
    "### 2. Modeling"
   ]
  },
  {
   "cell_type": "markdown",
   "id": "74c6d2f1",
   "metadata": {
    "pycharm": {
     "name": "#%% md\n"
    }
   },
   "source": [
    "#### 2.1 Create Three Combined Wide and Deep Netowkrs using Keras"
   ]
  },
  {
   "cell_type": "markdown",
   "id": "c46c9e0a",
   "metadata": {
    "pycharm": {
     "name": "#%% md\n"
    }
   },
   "source": [
    "Create at least three combined wide and deep networks to classify your data using Keras. Visualize the performance of the network on the training data and validation data in the same plot versus the training iterations. Note: use the \"history\" return parameter that is part of Keras \"fit\" function to easily access this data."
   ]
  },
  {
   "cell_type": "code",
   "execution_count": 6,
   "id": "3da2fd1c",
   "metadata": {
    "pycharm": {
     "name": "#%%\n"
    }
   },
   "outputs": [
    {
     "name": "stdout",
     "output_type": "stream",
     "text": [
      "2.9.1\n",
      "2.9.0\n"
     ]
    }
   ],
   "source": [
    "import tensorflow as tf\n",
    "from tensorflow import keras\n",
    "from tensorflow.keras.layers import Dense, Activation, Input\n",
    "from tensorflow.keras.models import Model\n",
    "from tensorflow.keras.layers import Embedding\n",
    "from tensorflow.keras.layers import concatenate\n",
    "print(tf.__version__)\n",
    "print(keras.__version__)"
   ]
  },
  {
   "cell_type": "code",
   "execution_count": 7,
   "id": "7e23325d",
   "metadata": {
    "pycharm": {
     "name": "#%%\n"
    }
   },
   "outputs": [],
   "source": [
    "# get crossed columns\n",
    "X_train_crossed = df_train[cross_col_df_names].to_numpy()\n",
    "X_test_crossed = df_test[cross_col_df_names].to_numpy()\n",
    "# save categorical features\n",
    "X_train_cat = df_train[categorical_headers_ints].to_numpy()\n",
    "X_test_cat = df_test[categorical_headers_ints].to_numpy()\n",
    "# and save off the numeric features\n",
    "X_train_num =  df_train[numeric_headers].to_numpy()\n",
    "X_test_num =  df_test[numeric_headers].to_numpy()\n",
    "\n",
    "# we need to create separate lists for each branch\n",
    "crossed_outputs = []\n",
    "\n",
    "# CROSSED DATA INPUT\n",
    "input_crossed = Input(shape=(X_train_crossed.shape[1],), dtype='int64', name='wide_inputs')\n",
    "for idx,col in enumerate(cross_col_df_names):\n",
    "\n",
    "    # track what the maximum integer value will be for this variable\n",
    "    # which is the same as the number of categories\n",
    "    N = max(df_train[col].max(),df_test[col].max())+1\n",
    "\n",
    "\n",
    "    # this line of code does this: input_branch[:,idx]\n",
    "    x = tf.gather(input_crossed, idx, axis=1)\n",
    "\n",
    "    # now use an embedding to deal with integers as if they were one hot encoded\n",
    "    x = Embedding(input_dim=N,\n",
    "                  output_dim=int(np.sqrt(N)),\n",
    "                  input_length=1, name=col+'_embed')(x)\n",
    "\n",
    "    # save these outputs to concatenate later\n",
    "    crossed_outputs.append(x)\n",
    "\n",
    "\n",
    "# now concatenate the outputs and add a fully connected layer\n",
    "wide_branch = concatenate(crossed_outputs, name='wide_concat')\n",
    "\n",
    "# reset this input branch\n",
    "all_deep_branch_outputs = []\n",
    "\n",
    "# CATEGORICAL DATA INPUT\n",
    "input_cat = Input(shape=(X_train_cat.shape[1],), dtype='int64', name='categorical_input')\n",
    "for idx,col in enumerate(categorical_headers_ints):\n",
    "\n",
    "    # track what the maximum integer value will be for this variable\n",
    "    # which is the same as the number of categories\n",
    "    N = max(df_train[col].max(),df_test[col].max())+1\n",
    "\n",
    "    # this line of code does this: input_branch[:,idx]\n",
    "    x = tf.gather(input_cat, idx, axis=1)\n",
    "\n",
    "    # now use an embedding to deal with integers as if they were one hot encoded\n",
    "    x = Embedding(input_dim=N,\n",
    "                  output_dim=int(np.sqrt(N)),\n",
    "                  input_length=1, name=col+'_embed')(x)\n",
    "\n",
    "    # save these outputs to concatenate later\n",
    "    all_deep_branch_outputs.append(x)\n",
    "\n",
    "# NUMERIC DATA INPUT\n",
    "# create dense input branch for numeric\n",
    "input_num = Input(shape=(X_train_num.shape[1],), name='numeric')\n",
    "x_dense = Dense(units=22, activation='relu',name='num_1')(input_num)\n",
    "\n",
    "all_deep_branch_outputs.append(x_dense)\n",
    "\n",
    "\n",
    "# merge the deep branches together\n",
    "deep_branch = concatenate(all_deep_branch_outputs,name='concat_embeds')\n",
    "deep_branch = Dense(units=50,activation='relu', name='deep1')(deep_branch)\n",
    "deep_branch = Dense(units=25,activation='relu', name='deep2')(deep_branch)\n",
    "deep_branch = Dense(units=10,activation='relu', name='deep3')(deep_branch)\n",
    "\n",
    "# merge the deep and wide branch\n",
    "final_branch = concatenate([wide_branch, deep_branch],\n",
    "                           name='concat_deep_wide')\n",
    "final_branch = Dense(units=1,activation='sigmoid',\n",
    "                     name='combined')(final_branch)\n",
    "\n",
    "model1 = Model(inputs=[input_crossed,input_cat,input_num],\n",
    "              outputs=final_branch)\n",
    "\n",
    "model1.compile(optimizer='sgd',\n",
    "              loss='mean_squared_error',\n",
    "              metrics=[tf.keras.metrics.Precision()])\n",
    "\n"
   ]
  },
  {
   "cell_type": "code",
   "execution_count": 8,
   "id": "bd915ec1",
   "metadata": {
    "pycharm": {
     "name": "#%%\n"
    }
   },
   "outputs": [
    {
     "name": "stdout",
     "output_type": "stream",
     "text": [
      "Epoch 1/20\n",
      "3893/3893 [==============================] - 18s 4ms/step - loss: 0.0899 - precision: 0.1340 - val_loss: 0.0793 - val_precision: 0.0000e+00\n",
      "Epoch 2/20\n",
      "3893/3893 [==============================] - 15s 4ms/step - loss: 0.0754 - precision: 0.8361 - val_loss: 0.0717 - val_precision: 0.7927\n",
      "Epoch 3/20\n",
      "3893/3893 [==============================] - 14s 4ms/step - loss: 0.0719 - precision: 0.7542 - val_loss: 0.0707 - val_precision: 0.8052\n",
      "Epoch 4/20\n",
      "3893/3893 [==============================] - 15s 4ms/step - loss: 0.0711 - precision: 0.7385 - val_loss: 0.0700 - val_precision: 0.7857\n",
      "Epoch 5/20\n",
      "3893/3893 [==============================] - 14s 4ms/step - loss: 0.0705 - precision: 0.7377 - val_loss: 0.0697 - val_precision: 0.8289\n",
      "Epoch 6/20\n",
      "3893/3893 [==============================] - 14s 4ms/step - loss: 0.0700 - precision: 0.7407 - val_loss: 0.0688 - val_precision: 0.7434\n",
      "Epoch 7/20\n",
      "3893/3893 [==============================] - 13s 3ms/step - loss: 0.0694 - precision: 0.7569 - val_loss: 0.0684 - val_precision: 0.8111\n",
      "Epoch 8/20\n",
      "3893/3893 [==============================] - 14s 4ms/step - loss: 0.0685 - precision: 0.7949 - val_loss: 0.0674 - val_precision: 0.8364\n",
      "Epoch 9/20\n",
      "3893/3893 [==============================] - 13s 3ms/step - loss: 0.0673 - precision: 0.8358 - val_loss: 0.0657 - val_precision: 0.8273\n",
      "Epoch 10/20\n",
      "3893/3893 [==============================] - 15s 4ms/step - loss: 0.0656 - precision: 0.8849 - val_loss: 0.0638 - val_precision: 0.9214\n",
      "Epoch 11/20\n",
      "3893/3893 [==============================] - 16s 4ms/step - loss: 0.0636 - precision: 0.9021 - val_loss: 0.0615 - val_precision: 0.9480\n",
      "Epoch 12/20\n",
      "3893/3893 [==============================] - 19s 5ms/step - loss: 0.0615 - precision: 0.9238 - val_loss: 0.0590 - val_precision: 0.9000\n",
      "Epoch 13/20\n",
      "3893/3893 [==============================] - 14s 4ms/step - loss: 0.0595 - precision: 0.9317 - val_loss: 0.0570 - val_precision: 0.9067\n",
      "Epoch 14/20\n",
      "3893/3893 [==============================] - 14s 3ms/step - loss: 0.0578 - precision: 0.9366 - val_loss: 0.0554 - val_precision: 0.9252\n",
      "Epoch 15/20\n",
      "3893/3893 [==============================] - 14s 4ms/step - loss: 0.0567 - precision: 0.9341 - val_loss: 0.0553 - val_precision: 0.9926\n",
      "Epoch 16/20\n",
      "3893/3893 [==============================] - 14s 4ms/step - loss: 0.0561 - precision: 0.9378 - val_loss: 0.0546 - val_precision: 0.8892\n",
      "Epoch 17/20\n",
      "3893/3893 [==============================] - 17s 4ms/step - loss: 0.0558 - precision: 0.9328 - val_loss: 0.0540 - val_precision: 0.9290\n",
      "Epoch 18/20\n",
      "3893/3893 [==============================] - 17s 4ms/step - loss: 0.0555 - precision: 0.9273 - val_loss: 0.0545 - val_precision: 0.9822\n",
      "Epoch 19/20\n",
      "3893/3893 [==============================] - 15s 4ms/step - loss: 0.0552 - precision: 0.9252 - val_loss: 0.0542 - val_precision: 0.9727\n",
      "Epoch 20/20\n",
      "3893/3893 [==============================] - 14s 4ms/step - loss: 0.0551 - precision: 0.9304 - val_loss: 0.0546 - val_precision: 0.9789\n"
     ]
    }
   ],
   "source": [
    "history = model1.fit([X_train_crossed,X_train_cat,X_train_num],\n",
    "                    y_train,\n",
    "                    epochs=20,\n",
    "                    batch_size=10,\n",
    "                    verbose=1,\n",
    "                    validation_data = ([X_test_crossed,X_test_cat,X_test_num],y_test))"
   ]
  },
  {
   "cell_type": "code",
   "execution_count": 9,
   "id": "a82abbd1",
   "metadata": {
    "pycharm": {
     "name": "#%%\n"
    }
   },
   "outputs": [
    {
     "data": {
      "image/png": "[encoded data removed]",
      "text/plain": [
       "<Figure size 640x480 with 1 Axes>"
      ]
     },
     "metadata": {},
     "output_type": "display_data"
    }
   ],
   "source": [
    "from matplotlib import pyplot as plt\n",
    "plt.plot(history.history['precision'])\n",
    "plt.plot(history.history['val_precision'])\n",
    "plt.title('model precision')\n",
    "plt.ylabel('precision')\n",
    "plt.xlabel('epoch')\n",
    "plt.legend(['train', 'validation'], loc='upper left')\n",
    "plt.show()"
   ]
  },
  {
   "cell_type": "code",
   "execution_count": 10,
   "id": "7b508130",
   "metadata": {
    "pycharm": {
     "name": "#%%\n"
    }
   },
   "outputs": [
    {
     "name": "stdout",
     "output_type": "stream",
     "text": [
      "305/305 [==============================] - 1s 2ms/step\n",
      "[[8880    6]\n",
      " [ 567  279]]\n",
      "              precision    recall  f1-score   support\n",
      "\n",
      "           0       0.94      1.00      0.97      8886\n",
      "           1       0.98      0.33      0.49       846\n",
      "\n",
      "    accuracy                           0.94      9732\n",
      "   macro avg       0.96      0.66      0.73      9732\n",
      "weighted avg       0.94      0.94      0.93      9732\n",
      "\n",
      "Y hat\n",
      " [[   0 9447]\n",
      " [   1  285]]\n",
      "actual\n",
      " [[   0 8886]\n",
      " [   1  846]]\n"
     ]
    }
   ],
   "source": [
    "from sklearn import metrics as mt\n",
    "yhat = np.round(model1.predict([X_test_crossed,X_test_cat,X_test_num])).astype(int)\n",
    "print(mt.confusion_matrix(y_test,yhat))\n",
    "print(mt.classification_report(y_test,yhat))\n",
    "unique_yhat, counts_yhat = np.unique(yhat, return_counts=True)\n",
    "print(\"Y hat\\n\",np.asarray((unique_yhat, counts_yhat)).T)\n",
    "unique_ytest, counts_ytest = np.unique(y_test, return_counts=True)\n",
    "print(\"actual\\n\",np.asarray((unique_ytest, counts_ytest)).T)"
   ]
  },
  {
   "cell_type": "markdown",
   "id": "990d48fe",
   "metadata": {
    "pycharm": {
     "name": "#%% md\n"
    }
   },
   "source": [
    "#### 2.2 Investigate Performance by Altering the Number of Layers in the Deep Branch of the Network"
   ]
  },
  {
   "cell_type": "markdown",
   "id": "48d2a928",
   "metadata": {
    "pycharm": {
     "name": "#%% md\n"
    }
   },
   "source": [
    "Investigate generalization performance by altering the number of layers in the deep branch of the network. Try at least two different number of layers. Use the method of cross validation and evaluation metric that you argued for at the beginning of the lab to select the number of layers that performs superiorly."
   ]
  },
  {
   "cell_type": "code",
   "execution_count": 11,
   "id": "4ef5ca24",
   "metadata": {
    "pycharm": {
     "name": "#%%\n"
    }
   },
   "outputs": [
    {
     "name": "stdout",
     "output_type": "stream",
     "text": [
      "Epoch 1/20\n",
      "3893/3893 [==============================] - 16s 4ms/step - loss: 0.0912 - precision_1: 0.0571 - val_loss: 0.0769 - val_precision_1: 0.0000e+00\n",
      "Epoch 2/20\n",
      "3893/3893 [==============================] - 14s 4ms/step - loss: 0.0758 - precision_1: 0.0000e+00 - val_loss: 0.0740 - val_precision_1: 0.0000e+00\n",
      "Epoch 3/20\n",
      "3893/3893 [==============================] - 15s 4ms/step - loss: 0.0739 - precision_1: 0.0000e+00 - val_loss: 0.0724 - val_precision_1: 0.0000e+00\n",
      "Epoch 4/20\n",
      "3893/3893 [==============================] - 16s 4ms/step - loss: 0.0727 - precision_1: 0.7722 - val_loss: 0.0713 - val_precision_1: 0.7865\n",
      "Epoch 5/20\n",
      "3893/3893 [==============================] - 17s 4ms/step - loss: 0.0718 - precision_1: 0.6880 - val_loss: 0.0708 - val_precision_1: 0.7826\n",
      "Epoch 6/20\n",
      "3893/3893 [==============================] - 17s 4ms/step - loss: 0.0713 - precision_1: 0.6898 - val_loss: 0.0705 - val_precision_1: 0.7634\n",
      "Epoch 7/20\n",
      "3893/3893 [==============================] - 15s 4ms/step - loss: 0.0708 - precision_1: 0.6997 - val_loss: 0.0706 - val_precision_1: 0.8158\n",
      "Epoch 8/20\n",
      "3893/3893 [==============================] - 15s 4ms/step - loss: 0.0705 - precision_1: 0.7259 - val_loss: 0.0695 - val_precision_1: 0.7404\n",
      "Epoch 9/20\n",
      "3893/3893 [==============================] - 14s 3ms/step - loss: 0.0700 - precision_1: 0.7151 - val_loss: 0.0694 - val_precision_1: 0.7927\n",
      "Epoch 10/20\n",
      "3893/3893 [==============================] - 14s 4ms/step - loss: 0.0694 - precision_1: 0.7360 - val_loss: 0.0687 - val_precision_1: 0.8000\n",
      "Epoch 11/20\n",
      "3893/3893 [==============================] - 14s 4ms/step - loss: 0.0687 - precision_1: 0.8026 - val_loss: 0.0678 - val_precision_1: 0.7483\n",
      "Epoch 12/20\n",
      "3893/3893 [==============================] - 14s 4ms/step - loss: 0.0676 - precision_1: 0.8256 - val_loss: 0.0665 - val_precision_1: 0.8356\n",
      "Epoch 13/20\n",
      "3893/3893 [==============================] - 12s 3ms/step - loss: 0.0661 - precision_1: 0.8815 - val_loss: 0.0646 - val_precision_1: 0.9185\n",
      "Epoch 14/20\n",
      "3893/3893 [==============================] - 15s 4ms/step - loss: 0.0640 - precision_1: 0.8965 - val_loss: 0.0619 - val_precision_1: 0.9162\n",
      "Epoch 15/20\n",
      "3893/3893 [==============================] - 14s 4ms/step - loss: 0.0618 - precision_1: 0.9158 - val_loss: 0.0593 - val_precision_1: 0.8730\n",
      "Epoch 16/20\n",
      "3893/3893 [==============================] - 16s 4ms/step - loss: 0.0587 - precision_1: 0.9221 - val_loss: 0.0557 - val_precision_1: 0.9656\n",
      "Epoch 17/20\n",
      "3893/3893 [==============================] - 15s 4ms/step - loss: 0.0560 - precision_1: 0.9232 - val_loss: 0.0545 - val_precision_1: 0.8951\n",
      "Epoch 18/20\n",
      "3893/3893 [==============================] - 15s 4ms/step - loss: 0.0551 - precision_1: 0.9336 - val_loss: 0.0539 - val_precision_1: 0.9260\n",
      "Epoch 19/20\n",
      "3893/3893 [==============================] - 15s 4ms/step - loss: 0.0547 - precision_1: 0.9303 - val_loss: 0.0558 - val_precision_1: 0.9960\n",
      "Epoch 20/20\n",
      "3893/3893 [==============================] - 14s 4ms/step - loss: 0.0544 - precision_1: 0.9318 - val_loss: 0.0535 - val_precision_1: 0.9080\n"
     ]
    }
   ],
   "source": [
    "# we need to create separate lists for each branch\n",
    "crossed_outputs = []\n",
    "\n",
    "# CROSSED DATA INPUT\n",
    "input_crossed = Input(shape=(X_train_crossed.shape[1],), dtype='int64', name='wide_inputs')\n",
    "for idx,col in enumerate(cross_col_df_names):\n",
    "\n",
    "    # track what the maximum integer value will be for this variable\n",
    "    # which is the same as the number of categories\n",
    "    N = max(df_train[col].max(),df_test[col].max())+1\n",
    "\n",
    "\n",
    "    # this line of code does this: input_branch[:,idx]\n",
    "    x = tf.gather(input_crossed, idx, axis=1)\n",
    "\n",
    "    # now use an embedding to deal with integers as if they were one hot encoded\n",
    "    x = Embedding(input_dim=N,\n",
    "                  output_dim=int(np.sqrt(N)),\n",
    "                  input_length=1, name=col+'_embed')(x)\n",
    "\n",
    "    # save these outputs to concatenate later\n",
    "    crossed_outputs.append(x)\n",
    "\n",
    "# now concatenate the outputs and add a fully connected layer\n",
    "wide_branch = concatenate(crossed_outputs, name='wide_concat')\n",
    "\n",
    "# reset this input branch\n",
    "all_deep_branch_outputs = []\n",
    "\n",
    "# CATEGORICAL DATA INPUT\n",
    "input_cat = Input(shape=(X_train_cat.shape[1],), dtype='int64', name='categorical_input')\n",
    "for idx,col in enumerate(categorical_headers_ints):\n",
    "\n",
    "    # track what the maximum integer value will be for this variable\n",
    "    # which is the same as the number of categories\n",
    "    N = df_train[col].max()+1\n",
    "\n",
    "    # this line of code does this: input_branch[:,idx]\n",
    "    x = tf.gather(input_cat, idx, axis=1)\n",
    "\n",
    "    # now use an embedding to deal with integers as if they were one hot encoded\n",
    "    x = Embedding(input_dim=N,\n",
    "                  output_dim=int(np.sqrt(N)),\n",
    "                  input_length=1, name=col+'_embed')(x)\n",
    "\n",
    "    # save these outputs to concatenate later\n",
    "    all_deep_branch_outputs.append(x)\n",
    "\n",
    "# NUMERIC DATA INPUT\n",
    "# create dense input branch for numeric\n",
    "input_num = Input(shape=(X_train_num.shape[1],), name='numeric')\n",
    "x_dense = Dense(units=22, activation='relu',name='num_1')(input_num)\n",
    "\n",
    "all_deep_branch_outputs.append(x_dense)\n",
    "\n",
    "\n",
    "# merge the deep branches together\n",
    "deep_branch = concatenate(all_deep_branch_outputs,name='concat_embeds')\n",
    "# 5 layer network\n",
    "deep_branch = Dense(units=50,activation='relu', name='deep1')(deep_branch)\n",
    "deep_branch = Dense(units=40,activation='relu', name='deep2')(deep_branch)\n",
    "deep_branch = Dense(units=30,activation='relu', name='deep3')(deep_branch)\n",
    "deep_branch = Dense(units=20,activation='relu', name='deep4')(deep_branch)\n",
    "deep_branch = Dense(units=10,activation='relu', name='deep5')(deep_branch)\n",
    "\n",
    "# merge the deep and wide branch\n",
    "final_branch = concatenate([wide_branch, deep_branch],\n",
    "                           name='concat_deep_wide')\n",
    "final_branch = Dense(units=1,activation='sigmoid',\n",
    "                     name='combined')(final_branch)\n",
    "\n",
    "model2 = Model(inputs=[input_crossed,input_cat,input_num],\n",
    "              outputs=final_branch)\n",
    "\n",
    "model2.compile(optimizer='sgd',\n",
    "              loss='mean_squared_error',\n",
    "              metrics=[tf.keras.metrics.Precision()])\n",
    "\n",
    "history = model2.fit([X_train_crossed,X_train_cat,X_train_num],\n",
    "                    y_train,\n",
    "                    epochs=20,\n",
    "                    batch_size=10,\n",
    "                    verbose=1,\n",
    "                    validation_data = ([X_test_crossed,X_test_cat,X_test_num],y_test))"
   ]
  },
  {
   "cell_type": "code",
   "execution_count": 12,
   "id": "ead761ea",
   "metadata": {
    "pycharm": {
     "name": "#%%\n"
    }
   },
   "outputs": [
    {
     "name": "stdout",
     "output_type": "stream",
     "text": [
      "305/305 [==============================] - 1s 2ms/step\n",
      "[[8856   30]\n",
      " [ 550  296]]\n",
      "              precision    recall  f1-score   support\n",
      "\n",
      "           0       0.94      1.00      0.97      8886\n",
      "           1       0.91      0.35      0.51       846\n",
      "\n",
      "    accuracy                           0.94      9732\n",
      "   macro avg       0.92      0.67      0.74      9732\n",
      "weighted avg       0.94      0.94      0.93      9732\n",
      "\n",
      "Y hat\n",
      " [[   0 9406]\n",
      " [   1  326]]\n",
      "actual\n",
      " [[   0 8886]\n",
      " [   1  846]]\n"
     ]
    }
   ],
   "source": [
    "yhat = np.round(model2.predict([X_test_crossed,X_test_cat,X_test_num])).astype(int)\n",
    "print(mt.confusion_matrix(y_test,yhat))\n",
    "print(mt.classification_report(y_test,yhat))\n",
    "unique_yhat, counts_yhat = np.unique(yhat, return_counts=True)\n",
    "print(\"Y hat\\n\",np.asarray((unique_yhat, counts_yhat)).T)\n",
    "unique_ytest, counts_ytest = np.unique(y_test, return_counts=True)\n",
    "print(\"actual\\n\",np.asarray((unique_ytest, counts_ytest)).T)"
   ]
  },
  {
   "cell_type": "code",
   "execution_count": 13,
   "id": "51abe5e4",
   "metadata": {
    "pycharm": {
     "name": "#%%\n"
    }
   },
   "outputs": [
    {
     "data": {
      "image/png": "[encoded data removed]",
      "text/plain": [
       "<Figure size 640x480 with 1 Axes>"
      ]
     },
     "metadata": {},
     "output_type": "display_data"
    }
   ],
   "source": [
    "plt.plot(history.history['precision_1'])\n",
    "plt.plot(history.history['val_precision_1'])\n",
    "plt.title('model precision')\n",
    "plt.ylabel('precision')\n",
    "plt.xlabel('epoch')\n",
    "plt.legend(['train', 'validation'], loc='upper left')\n",
    "plt.show()"
   ]
  },
  {
   "cell_type": "markdown",
   "id": "9d9f0821",
   "metadata": {
    "pycharm": {
     "name": "#%% md\n"
    }
   },
   "source": [
    "#### 2.3 Third wide and deep network"
   ]
  },
  {
   "cell_type": "code",
   "execution_count": 14,
   "id": "bc99106a",
   "metadata": {
    "pycharm": {
     "name": "#%%\n"
    }
   },
   "outputs": [],
   "source": [
    "# # get new crossed columns\n",
    "# cross_columns = [\n",
    "#     ['department','education'],\n",
    "#     ['recruitment_channel','education'],\n",
    "#     ['department', 'region'],\n",
    "#     ['department', 'education', 'region']\n",
    "# ]\n",
    "# cross_col_df_names = []\n",
    "# for cols_list in cross_columns:\n",
    "#     # encode as ints for the embedding\n",
    "#     enc = LabelEncoder()\n",
    "#     # 1. create crossed labels by join operation\n",
    "#     X_crossed_train = df_train[cols_list].apply(lambda x: '_'.join(x), axis=1)\n",
    "#     X_crossed_test = df_test[cols_list].apply(lambda x: '_'.join(x), axis=1)\n",
    "#\n",
    "#     # get a nice name for this new crossed column\n",
    "#     cross_col_name = '_'.join(cols_list)\n",
    "#\n",
    "#     # 2. encode as integers, stacking all possibilities\n",
    "#     enc.fit(np.hstack((X_crossed_train.to_numpy(),  X_crossed_test.to_numpy())))\n",
    "#\n",
    "#     # 3. Save into dataframe with new name\n",
    "#     df_train[cross_col_name] = enc.transform(X_crossed_train)\n",
    "#     df_test[cross_col_name] = enc.transform(X_crossed_test)\n",
    "#\n",
    "#     # keep track of the new names of the crossed columns\n",
    "#     cross_col_df_names.append(cross_col_name)\n",
    "#\n",
    "# cross_col_df_names"
   ]
  },
  {
   "cell_type": "code",
   "execution_count": 15,
   "id": "13761df4",
   "metadata": {
    "pycharm": {
     "name": "#%%\n"
    }
   },
   "outputs": [
    {
     "name": "stdout",
     "output_type": "stream",
     "text": [
      "Epoch 1/20\n",
      "3893/3893 [==============================] - 14s 3ms/step - loss: 0.0909 - precision_2: 0.0000e+00 - val_loss: 0.0773 - val_precision_2: 0.0000e+00\n",
      "Epoch 2/20\n",
      "3893/3893 [==============================] - 12s 3ms/step - loss: 0.0762 - precision_2: 0.0000e+00 - val_loss: 0.0747 - val_precision_2: 0.0000e+00\n",
      "Epoch 3/20\n",
      "3893/3893 [==============================] - 13s 3ms/step - loss: 0.0743 - precision_2: 0.0000e+00 - val_loss: 0.0733 - val_precision_2: 0.0000e+00\n",
      "Epoch 4/20\n",
      "3893/3893 [==============================] - 12s 3ms/step - loss: 0.0733 - precision_2: 0.0000e+00 - val_loss: 0.0725 - val_precision_2: 0.0000e+00\n",
      "Epoch 5/20\n",
      "3893/3893 [==============================] - 12s 3ms/step - loss: 0.0726 - precision_2: 0.0000e+00 - val_loss: 0.0720 - val_precision_2: 0.0000e+00\n",
      "Epoch 6/20\n",
      "3893/3893 [==============================] - 12s 3ms/step - loss: 0.0720 - precision_2: 0.0000e+00 - val_loss: 0.0713 - val_precision_2: 0.0000e+00\n",
      "Epoch 7/20\n",
      "3893/3893 [==============================] - 12s 3ms/step - loss: 0.0714 - precision_2: 1.0000 - val_loss: 0.0707 - val_precision_2: 0.0000e+00\n",
      "Epoch 8/20\n",
      "3893/3893 [==============================] - 12s 3ms/step - loss: 0.0708 - precision_2: 0.8487 - val_loss: 0.0699 - val_precision_2: 0.8533\n",
      "Epoch 9/20\n",
      "3893/3893 [==============================] - 11s 3ms/step - loss: 0.0701 - precision_2: 0.7391 - val_loss: 0.0694 - val_precision_2: 0.8551\n",
      "Epoch 10/20\n",
      "3893/3893 [==============================] - 13s 3ms/step - loss: 0.0693 - precision_2: 0.7469 - val_loss: 0.0684 - val_precision_2: 0.7917\n",
      "Epoch 11/20\n",
      "3893/3893 [==============================] - 12s 3ms/step - loss: 0.0685 - precision_2: 0.7738 - val_loss: 0.0675 - val_precision_2: 0.8017\n",
      "Epoch 12/20\n",
      "3893/3893 [==============================] - 13s 3ms/step - loss: 0.0674 - precision_2: 0.8132 - val_loss: 0.0665 - val_precision_2: 0.8537\n",
      "Epoch 13/20\n",
      "3893/3893 [==============================] - 14s 4ms/step - loss: 0.0662 - precision_2: 0.8376 - val_loss: 0.0654 - val_precision_2: 0.8428\n",
      "Epoch 14/20\n",
      "3893/3893 [==============================] - 14s 4ms/step - loss: 0.0646 - precision_2: 0.8758 - val_loss: 0.0634 - val_precision_2: 0.8839\n",
      "Epoch 15/20\n",
      "3893/3893 [==============================] - 12s 3ms/step - loss: 0.0627 - precision_2: 0.8901 - val_loss: 0.0611 - val_precision_2: 0.8692\n",
      "Epoch 16/20\n",
      "3893/3893 [==============================] - 13s 3ms/step - loss: 0.0605 - precision_2: 0.9053 - val_loss: 0.0585 - val_precision_2: 0.8952\n",
      "Epoch 17/20\n",
      "3893/3893 [==============================] - 12s 3ms/step - loss: 0.0582 - precision_2: 0.9112 - val_loss: 0.0562 - val_precision_2: 0.9345\n",
      "Epoch 18/20\n",
      "3893/3893 [==============================] - 13s 3ms/step - loss: 0.0569 - precision_2: 0.9174 - val_loss: 0.0557 - val_precision_2: 0.9220\n",
      "Epoch 19/20\n",
      "3893/3893 [==============================] - 12s 3ms/step - loss: 0.0563 - precision_2: 0.9211 - val_loss: 0.0551 - val_precision_2: 0.9545\n",
      "Epoch 20/20\n",
      "3893/3893 [==============================] - 12s 3ms/step - loss: 0.0557 - precision_2: 0.9341 - val_loss: 0.0547 - val_precision_2: 0.9253\n"
     ]
    }
   ],
   "source": [
    "crossed_outputs = []\n",
    "# CROSSED DATA INPUT\n",
    "input_crossed = Input(shape=(X_train_crossed.shape[1],), dtype='int64', name='wide_inputs')\n",
    "for idx,col in enumerate(cross_col_df_names):\n",
    "\n",
    "    # track what the maximum integer value will be for this variable\n",
    "    # which is the same as the number of categories\n",
    "    N = max(df_train[col].max(),df_test[col].max())+1\n",
    "\n",
    "\n",
    "    # this line of code does this: input_branch[:,idx]\n",
    "    x = tf.gather(input_crossed, idx, axis=1)\n",
    "\n",
    "    # now use an embedding to deal with integers as if they were one hot encoded\n",
    "    x = Embedding(input_dim=N,\n",
    "                  output_dim=int(np.sqrt(N)),\n",
    "                  input_length=1, name=col+'_embed')(x)\n",
    "\n",
    "    # save these outputs to concatenate later\n",
    "    crossed_outputs.append(x)\n",
    "\n",
    "# now concatenate the outputs and add a fully connected layer\n",
    "wide_branch = concatenate(crossed_outputs, name='wide_concat')\n",
    "\n",
    "# reset this input branch\n",
    "all_deep_branch_outputs = []\n",
    "\n",
    "# CATEGORICAL DATA INPUT\n",
    "input_cat = Input(shape=(X_train_cat.shape[1],), dtype='int64', name='categorical_input')\n",
    "for idx,col in enumerate(categorical_headers_ints):\n",
    "\n",
    "    # track what the maximum integer value will be for this variable\n",
    "    # which is the same as the number of categories\n",
    "    N = max(df_train[col].max(),df_test[col].max())+1\n",
    "\n",
    "    # this line of code does this: input_branch[:,idx]\n",
    "    x = tf.gather(input_cat, idx, axis=1)\n",
    "\n",
    "    # now use an embedding to deal with integers as if they were one hot encoded\n",
    "    x = Embedding(input_dim=N,\n",
    "                  output_dim=int(np.sqrt(N)),\n",
    "                  input_length=1, name=col+'_embed')(x)\n",
    "\n",
    "    # save these outputs to concatenate later\n",
    "    all_deep_branch_outputs.append(x)\n",
    "\n",
    "# NUMERIC DATA INPUT\n",
    "# create dense input branch for numeric\n",
    "input_num = Input(shape=(X_train_num.shape[1],), name='numeric')\n",
    "x_dense = Dense(units=22, activation='relu',name='num_1')(input_num)\n",
    "\n",
    "all_deep_branch_outputs.append(x_dense)\n",
    "\n",
    "\n",
    "# merge the deep branches together\n",
    "deep_branch = concatenate(all_deep_branch_outputs,name='concat_embeds')\n",
    "# 4 layer deep network\n",
    "deep_branch = Dense(units=30,activation='relu', name='deep1')(deep_branch)\n",
    "deep_branch = Dense(units=20,activation='relu', name='deep2')(deep_branch)\n",
    "deep_branch = Dense(units=10,activation='relu', name='deep3')(deep_branch)\n",
    "deep_branch = Dense(units=5,activation='relu', name='deep4')(deep_branch)\n",
    "\n",
    "# merge the deep and wide branch\n",
    "final_branch = concatenate([wide_branch, deep_branch],\n",
    "                           name='concat_deep_wide')\n",
    "final_branch = Dense(units=1,activation='sigmoid',\n",
    "                     name='combined')(final_branch)\n",
    "\n",
    "model3 = Model(inputs=[input_crossed,input_cat,input_num],\n",
    "              outputs=final_branch)\n",
    "\n",
    "model3.compile(optimizer='sgd',\n",
    "              loss='mean_squared_error',\n",
    "              metrics=[tf.keras.metrics.Precision()])\n",
    "\n",
    "history = model3.fit([X_train_crossed,X_train_cat,X_train_num],\n",
    "                    y_train,\n",
    "                    epochs=20,\n",
    "                    batch_size=10,\n",
    "                    verbose=1,\n",
    "                    validation_data = ([X_test_crossed,X_test_cat,X_test_num],y_test))"
   ]
  },
  {
   "cell_type": "code",
   "execution_count": 16,
   "id": "798505fc",
   "metadata": {
    "pycharm": {
     "name": "#%%\n"
    }
   },
   "outputs": [
    {
     "name": "stdout",
     "output_type": "stream",
     "text": [
      "305/305 [==============================] - 1s 2ms/step\n",
      "[[8863   23]\n",
      " [ 561  285]]\n",
      "              precision    recall  f1-score   support\n",
      "\n",
      "           0       0.94      1.00      0.97      8886\n",
      "           1       0.93      0.34      0.49       846\n",
      "\n",
      "    accuracy                           0.94      9732\n",
      "   macro avg       0.93      0.67      0.73      9732\n",
      "weighted avg       0.94      0.94      0.93      9732\n",
      "\n",
      "Y hat\n",
      " [[   0 9424]\n",
      " [   1  308]]\n",
      "actual\n",
      " [[   0 8886]\n",
      " [   1  846]]\n"
     ]
    }
   ],
   "source": [
    "yhat = np.round(model3.predict([X_test_crossed,X_test_cat,X_test_num])).astype(int)\n",
    "print(mt.confusion_matrix(y_test,yhat))\n",
    "print(mt.classification_report(y_test,yhat))\n",
    "unique_yhat, counts_yhat = np.unique(yhat, return_counts=True)\n",
    "print(\"Y hat\\n\",np.asarray((unique_yhat, counts_yhat)).T)\n",
    "unique_ytest, counts_ytest = np.unique(y_test, return_counts=True)\n",
    "print(\"actual\\n\",np.asarray((unique_ytest, counts_ytest)).T)"
   ]
  },
  {
   "cell_type": "code",
   "execution_count": 17,
   "id": "d9eb03bf",
   "metadata": {
    "pycharm": {
     "name": "#%%\n"
    }
   },
   "outputs": [
    {
     "data": {
      "image/png": "[encoded data removed]",
      "text/plain": [
       "<Figure size 640x480 with 1 Axes>"
      ]
     },
     "metadata": {},
     "output_type": "display_data"
    }
   ],
   "source": [
    "plt.plot(history.history['precision_2'])\n",
    "plt.plot(history.history['val_precision_2'])\n",
    "plt.title('model precision')\n",
    "plt.ylabel('precision')\n",
    "plt.xlabel('epoch')\n",
    "plt.legend(['train', 'validation'], loc='upper left')\n",
    "plt.show()"
   ]
  },
  {
   "cell_type": "markdown",
   "id": "ce1d3a88",
   "metadata": {
    "pycharm": {
     "name": "#%% md\n"
    }
   },
   "source": [
    "#### 2.4 Investigate Performance of the Best Wide and Deep Network to Multi-Layer Perceptron"
   ]
  },
  {
   "cell_type": "markdown",
   "id": "7aed9555",
   "metadata": {
    "pycharm": {
     "name": "#%% md\n"
    }
   },
   "source": [
    "Compare the performance of your best wide and deep network to a standard multi-layer perceptron (MLP). Alternatively, you can compare to a network without the wide branch (i.e., just the deep network). For classification tasks, compare using the receiver operating characteristic and area under the curve. For regression tasks, use Bland-Altman plots and residual variance calculations.  Use proper statistical methods to compare the performance of different models.  "
   ]
  },
  {
   "cell_type": "code",
   "execution_count": 18,
   "id": "8c9fc853",
   "metadata": {
    "pycharm": {
     "name": "#%%\n"
    }
   },
   "outputs": [
    {
     "name": "stdout",
     "output_type": "stream",
     "text": [
      "Epoch 1/20\n",
      "3893/3893 [==============================] - 14s 3ms/step - loss: 0.0937 - precision_3: 0.1170 - val_loss: 0.0787 - val_precision_3: 0.0000e+00\n",
      "Epoch 2/20\n",
      "3893/3893 [==============================] - 12s 3ms/step - loss: 0.0773 - precision_3: 0.0000e+00 - val_loss: 0.0749 - val_precision_3: 0.0000e+00\n",
      "Epoch 3/20\n",
      "3893/3893 [==============================] - 12s 3ms/step - loss: 0.0747 - precision_3: 0.0000e+00 - val_loss: 0.0733 - val_precision_3: 0.0000e+00\n",
      "Epoch 4/20\n",
      "3893/3893 [==============================] - 12s 3ms/step - loss: 0.0736 - precision_3: 0.0000e+00 - val_loss: 0.0728 - val_precision_3: 0.0000e+00\n",
      "Epoch 5/20\n",
      "3893/3893 [==============================] - 12s 3ms/step - loss: 0.0731 - precision_3: 0.0000e+00 - val_loss: 0.0724 - val_precision_3: 0.0000e+00\n",
      "Epoch 6/20\n",
      "3893/3893 [==============================] - 12s 3ms/step - loss: 0.0728 - precision_3: 0.0000e+00 - val_loss: 0.0722 - val_precision_3: 0.0000e+00\n",
      "Epoch 7/20\n",
      "3893/3893 [==============================] - 12s 3ms/step - loss: 0.0726 - precision_3: 0.0000e+00 - val_loss: 0.0718 - val_precision_3: 0.0000e+00\n",
      "Epoch 8/20\n",
      "3893/3893 [==============================] - 13s 3ms/step - loss: 0.0723 - precision_3: 0.0000e+00 - val_loss: 0.0714 - val_precision_3: 0.0000e+00\n",
      "Epoch 9/20\n",
      "3893/3893 [==============================] - 12s 3ms/step - loss: 0.0719 - precision_3: 0.0000e+00 - val_loss: 0.0710 - val_precision_3: 0.0000e+00\n",
      "Epoch 10/20\n",
      "3893/3893 [==============================] - 12s 3ms/step - loss: 0.0714 - precision_3: 0.0000e+00 - val_loss: 0.0706 - val_precision_3: 0.0000e+00\n",
      "Epoch 11/20\n",
      "3893/3893 [==============================] - 12s 3ms/step - loss: 0.0708 - precision_3: 0.0000e+00 - val_loss: 0.0698 - val_precision_3: 0.0000e+00\n",
      "Epoch 12/20\n",
      "3893/3893 [==============================] - 12s 3ms/step - loss: 0.0699 - precision_3: 0.8182 - val_loss: 0.0689 - val_precision_3: 1.0000\n",
      "Epoch 13/20\n",
      "3893/3893 [==============================] - 12s 3ms/step - loss: 0.0686 - precision_3: 0.7508 - val_loss: 0.0672 - val_precision_3: 0.8154\n",
      "Epoch 14/20\n",
      "3893/3893 [==============================] - 12s 3ms/step - loss: 0.0670 - precision_3: 0.8070 - val_loss: 0.0658 - val_precision_3: 0.8898\n",
      "Epoch 15/20\n",
      "3893/3893 [==============================] - 12s 3ms/step - loss: 0.0648 - precision_3: 0.8522 - val_loss: 0.0624 - val_precision_3: 0.9195\n",
      "Epoch 16/20\n",
      "3893/3893 [==============================] - 13s 3ms/step - loss: 0.0616 - precision_3: 0.9056 - val_loss: 0.0591 - val_precision_3: 0.9384\n",
      "Epoch 17/20\n",
      "3893/3893 [==============================] - 14s 4ms/step - loss: 0.0587 - precision_3: 0.9180 - val_loss: 0.0565 - val_precision_3: 0.9583\n",
      "Epoch 18/20\n",
      "3893/3893 [==============================] - 15s 4ms/step - loss: 0.0570 - precision_3: 0.9335 - val_loss: 0.0555 - val_precision_3: 0.9542\n",
      "Epoch 19/20\n",
      "3893/3893 [==============================] - 14s 4ms/step - loss: 0.0562 - precision_3: 0.9196 - val_loss: 0.0553 - val_precision_3: 0.9448\n",
      "Epoch 20/20\n",
      "3893/3893 [==============================] - 13s 3ms/step - loss: 0.0557 - precision_3: 0.9195 - val_loss: 0.0552 - val_precision_3: 0.9644\n"
     ]
    }
   ],
   "source": [
    "# Now let's define the architecture for a multi-layer network\n",
    "\n",
    "# reset this input branch\n",
    "all_deep_branch_outputs = []\n",
    "\n",
    "# CATEGORICAL DATA INPUT\n",
    "input_cat = Input(shape=(X_train_cat.shape[1],), dtype='int64', name='categorical_input')\n",
    "for idx,col in enumerate(categorical_headers_ints):\n",
    "\n",
    "    # track what the maximum integer value will be for this variable\n",
    "    # which is the same as the number of categories\n",
    "    N = max(df_train[col].max(),df_test[col].max())+1\n",
    "\n",
    "    # this line of code does this: input_branch[:,idx]\n",
    "    x = tf.gather(input_cat, idx, axis=1)\n",
    "\n",
    "    # now use an embedding to deal with integers as if they were one hot encoded\n",
    "    x = Embedding(input_dim=N,\n",
    "                  output_dim=int(np.sqrt(N)),\n",
    "                  input_length=1, name=col+'_embed')(x)\n",
    "\n",
    "    # save these outputs to concatenate later\n",
    "    all_deep_branch_outputs.append(x)\n",
    "\n",
    "# NUMERIC DATA INPUT\n",
    "# create dense input branch for numeric\n",
    "input_num = Input(shape=(X_train_num.shape[1],), name='numeric')\n",
    "x_dense = Dense(units=22, activation='relu',name='num_1')(input_num)\n",
    "\n",
    "all_deep_branch_outputs.append(x_dense)\n",
    "\n",
    "\n",
    "# merge the deep branches together\n",
    "deep_branch = concatenate(all_deep_branch_outputs,name='concat_embeds')\n",
    "# 7 layers now\n",
    "\n",
    "deep_branch = Dense(units=30,activation='relu', name='deep1')(deep_branch)\n",
    "deep_branch = Dense(units=20,activation='relu', name='deep2')(deep_branch)\n",
    "deep_branch = Dense(units=10,activation='relu', name='deep3')(deep_branch)\n",
    "deep_branch = Dense(units=5,activation='relu', name='deep4')(deep_branch)\n",
    "\n",
    "# merge the deep and wide branch\n",
    "final_branch = Dense(units=1,activation='sigmoid',\n",
    "                     name='combined')(deep_branch)\n",
    "\n",
    "MLPModel = Model(inputs=[input_cat,input_num],\n",
    "              outputs=final_branch)\n",
    "MLPModel.compile(optimizer='sgd',\n",
    "              loss='mean_squared_error',\n",
    "              metrics=[tf.keras.metrics.Precision()])\n",
    "history = MLPModel.fit([X_train_cat,X_train_num],\n",
    "                    y_train,\n",
    "                    epochs=20,\n",
    "                    batch_size=10,\n",
    "                    verbose=1,\n",
    "                    validation_data = ([X_test_cat,X_test_num],y_test))\n",
    "\n"
   ]
  },
  {
   "cell_type": "code",
   "execution_count": 19,
   "id": "133f83e8",
   "metadata": {
    "pycharm": {
     "name": "#%%\n"
    }
   },
   "outputs": [
    {
     "name": "stdout",
     "output_type": "stream",
     "text": [
      "305/305 [==============================] - 1s 2ms/step\n",
      "[[8876   10]\n",
      " [ 575  271]]\n",
      "              precision    recall  f1-score   support\n",
      "\n",
      "           0       0.94      1.00      0.97      8886\n",
      "           1       0.96      0.32      0.48       846\n",
      "\n",
      "    accuracy                           0.94      9732\n",
      "   macro avg       0.95      0.66      0.72      9732\n",
      "weighted avg       0.94      0.94      0.93      9732\n",
      "\n",
      "Y hat\n",
      " [[   0 9451]\n",
      " [   1  281]]\n",
      "actual\n",
      " [[   0 8886]\n",
      " [   1  846]]\n"
     ]
    }
   ],
   "source": [
    "yhatMLP = np.round(MLPModel.predict([X_test_cat,X_test_num])).astype(int)\n",
    "print(mt.confusion_matrix(y_test,yhatMLP))\n",
    "print(mt.classification_report(y_test,yhatMLP))\n",
    "unique_yhat, counts_yhat = np.unique(yhatMLP, return_counts=True)\n",
    "print(\"Y hat\\n\",np.asarray((unique_yhat, counts_yhat)).T)\n",
    "unique_ytest, counts_ytest = np.unique(y_test, return_counts=True)\n",
    "print(\"actual\\n\",np.asarray((unique_ytest, counts_ytest)).T)"
   ]
  },
  {
   "cell_type": "code",
   "execution_count": 20,
   "id": "d2c1b814",
   "metadata": {
    "pycharm": {
     "name": "#%%\n"
    }
   },
   "outputs": [
    {
     "name": "stdout",
     "output_type": "stream",
     "text": [
      "305/305 [==============================] - 1s 2ms/step\n",
      "305/305 [==============================] - 1s 2ms/step\n",
      "305/305 [==============================] - 1s 2ms/step\n",
      "305/305 [==============================] - 2s 6ms/step\n"
     ]
    },
    {
     "data": {
      "image/png": "[encoded data removed]",
      "text/plain": [
       "<Figure size 640x480 with 1 Axes>"
      ]
     },
     "metadata": {},
     "output_type": "display_data"
    }
   ],
   "source": [
    "from sklearn.metrics import roc_curve\n",
    "from sklearn.metrics import auc\n",
    "yhatMLP = MLPModel.predict([X_test_cat,X_test_num]).ravel()\n",
    "fpr_mlp, tpr_mlp, thresholds_keras = roc_curve(y_test, yhatMLP)\n",
    "auc_mlp = auc(fpr_mlp, tpr_mlp)\n",
    "yhat_model1 = model1.predict([X_test_crossed,X_test_cat,X_test_num]).ravel()\n",
    "fpr_model1, tpr_model1, thresholds_keras = roc_curve(y_test, yhat_model1)\n",
    "auc_model1= auc(fpr_model1, tpr_model1)\n",
    "yhat_model2 = model2.predict([X_test_crossed,X_test_cat,X_test_num]).ravel()\n",
    "fpr_model2, tpr_model2, thresholds_keras = roc_curve(y_test, yhat_model2)\n",
    "auc_model2= auc(fpr_model2, tpr_model2)\n",
    "yhat_model3 = model3.predict([X_test_crossed,X_test_cat,X_test_num]).ravel()\n",
    "fpr_model3, tpr_model3, thresholds_keras = roc_curve(y_test, yhat_model3)\n",
    "auc_model3= auc(fpr_model3, tpr_model3)\n",
    "plt.figure(1)\n",
    "plt.plot([0, 1], [0, 1], 'k--')\n",
    "plt.plot(fpr_mlp, tpr_mlp, label='MLP (area = {:.3f})'.format(auc_mlp))\n",
    "plt.plot(fpr_model1, tpr_model1, label='Model 1 (area = {:.3f})'.format(auc_model1))\n",
    "plt.plot(fpr_model2, tpr_model2, label='Model 2 (area = {:.3f})'.format(auc_model2))\n",
    "plt.plot(fpr_model3, tpr_model3, label='Model 3 (area = {:.3f})'.format(auc_model3))\n",
    "plt.xlabel('False positive rate')\n",
    "plt.ylabel('True positive rate')\n",
    "plt.title('ROC curve')\n",
    "plt.legend(loc='best')\n",
    "plt.show()"
   ]
  },
  {
   "cell_type": "markdown",
   "id": "3f571680",
   "metadata": {},
   "source": [
    "For each of the models we trained, we get a pretty similar ROC curve "
   ]
  },
  {
   "cell_type": "markdown",
   "id": "be73ef7e",
   "metadata": {
    "pycharm": {
     "name": "#%% md\n"
    }
   },
   "source": [
    "### 3. Capturing the Embedding Weights from the Deep Network"
   ]
  },
  {
   "cell_type": "markdown",
   "id": "c7912e89",
   "metadata": {
    "pycharm": {
     "name": "#%% md\n"
    }
   },
   "source": [
    "Capture the embedding weights from the deep network and (if needed) perform dimensionality reduction on the output of these embedding layers (only if needed). That is, pass the observations into the network, save the embedded weights (called embeddings), and then perform  dimensionality reduction in order to visualize results. Visualize and explain any clusters in the data."
   ]
  },
  {
   "cell_type": "code",
   "execution_count": 21,
   "id": "957af2da",
   "metadata": {
    "pycharm": {
     "is_executing": true,
     "name": "#%%\n"
    }
   },
   "outputs": [
    {
     "name": "stdout",
     "output_type": "stream",
     "text": [
      "Model: \"model_2\"\n",
      "__________________________________________________________________________________________________\n",
      " Layer (type)                   Output Shape         Param #     Connected to                     \n",
      "==================================================================================================\n",
      " categorical_input (InputLayer)  [(None, 5)]         0           []                               \n",
      "                                                                                                  \n",
      " tf.compat.v1.gather_19 (TFOpLa  (None,)             0           ['categorical_input[0][0]']      \n",
      " mbda)                                                                                            \n",
      "                                                                                                  \n",
      " tf.compat.v1.gather_20 (TFOpLa  (None,)             0           ['categorical_input[0][0]']      \n",
      " mbda)                                                                                            \n",
      "                                                                                                  \n",
      " tf.compat.v1.gather_21 (TFOpLa  (None,)             0           ['categorical_input[0][0]']      \n",
      " mbda)                                                                                            \n",
      "                                                                                                  \n",
      " tf.compat.v1.gather_22 (TFOpLa  (None,)             0           ['categorical_input[0][0]']      \n",
      " mbda)                                                                                            \n",
      "                                                                                                  \n",
      " tf.compat.v1.gather_23 (TFOpLa  (None,)             0           ['categorical_input[0][0]']      \n",
      " mbda)                                                                                            \n",
      "                                                                                                  \n",
      " numeric (InputLayer)           [(None, 6)]          0           []                               \n",
      "                                                                                                  \n",
      " department_int_embed (Embeddin  (None, 3)           27          ['tf.compat.v1.gather_19[0][0]'] \n",
      " g)                                                                                               \n",
      "                                                                                                  \n",
      " region_int_embed (Embedding)   (None, 5)            170         ['tf.compat.v1.gather_20[0][0]'] \n",
      "                                                                                                  \n",
      " education_int_embed (Embedding  (None, 1)           3           ['tf.compat.v1.gather_21[0][0]'] \n",
      " )                                                                                                \n",
      "                                                                                                  \n",
      " gender_int_embed (Embedding)   (None, 1)            2           ['tf.compat.v1.gather_22[0][0]'] \n",
      "                                                                                                  \n",
      " recruitment_channel_int_embed   (None, 1)           3           ['tf.compat.v1.gather_23[0][0]'] \n",
      " (Embedding)                                                                                      \n",
      "                                                                                                  \n",
      " num_1 (Dense)                  (None, 22)           154         ['numeric[0][0]']                \n",
      "                                                                                                  \n",
      " concat_embeds (Concatenate)    (None, 33)           0           ['department_int_embed[0][0]',   \n",
      "                                                                  'region_int_embed[0][0]',       \n",
      "                                                                  'education_int_embed[0][0]',    \n",
      "                                                                  'gender_int_embed[0][0]',       \n",
      "                                                                  'recruitment_channel_int_embed[0\n",
      "                                                                 ][0]',                           \n",
      "                                                                  'num_1[0][0]']                  \n",
      "                                                                                                  \n",
      " wide_inputs (InputLayer)       [(None, 3)]          0           []                               \n",
      "                                                                                                  \n",
      " deep1 (Dense)                  (None, 30)           1020        ['concat_embeds[0][0]']          \n",
      "                                                                                                  \n",
      " tf.compat.v1.gather_16 (TFOpLa  (None,)             0           ['wide_inputs[0][0]']            \n",
      " mbda)                                                                                            \n",
      "                                                                                                  \n",
      " tf.compat.v1.gather_17 (TFOpLa  (None,)             0           ['wide_inputs[0][0]']            \n",
      " mbda)                                                                                            \n",
      "                                                                                                  \n",
      " tf.compat.v1.gather_18 (TFOpLa  (None,)             0           ['wide_inputs[0][0]']            \n",
      " mbda)                                                                                            \n",
      "                                                                                                  \n",
      " deep2 (Dense)                  (None, 20)           620         ['deep1[0][0]']                  \n",
      "                                                                                                  \n",
      " department_education_embed (Em  (None, 4)           96          ['tf.compat.v1.gather_16[0][0]'] \n",
      " bedding)                                                                                         \n",
      "                                                                                                  \n",
      " recruitment_channel_education_  (None, 3)           27          ['tf.compat.v1.gather_17[0][0]'] \n",
      " embed (Embedding)                                                                                \n",
      "                                                                                                  \n",
      " department_region_embed (Embed  (None, 17)          4964        ['tf.compat.v1.gather_18[0][0]'] \n",
      " ding)                                                                                            \n",
      "                                                                                                  \n",
      " deep3 (Dense)                  (None, 10)           210         ['deep2[0][0]']                  \n",
      "                                                                                                  \n",
      " wide_concat (Concatenate)      (None, 24)           0           ['department_education_embed[0][0\n",
      "                                                                 ]',                              \n",
      "                                                                  'recruitment_channel_education_e\n",
      "                                                                 mbed[0][0]',                     \n",
      "                                                                  'department_region_embed[0][0]']\n",
      "                                                                                                  \n",
      " deep4 (Dense)                  (None, 5)            55          ['deep3[0][0]']                  \n",
      "                                                                                                  \n",
      " concat_deep_wide (Concatenate)  (None, 29)          0           ['wide_concat[0][0]',            \n",
      "                                                                  'deep4[0][0]']                  \n",
      "                                                                                                  \n",
      " combined (Dense)               (None, 1)            30          ['concat_deep_wide[0][0]']       \n"
     ]
    },
    {
     "name": "stdout",
     "output_type": "stream",
     "text": [
      "                                                                                                  \n",
      "==================================================================================================\n",
      "Total params: 7,381\n",
      "Trainable params: 7,381\n",
      "Non-trainable params: 0\n",
      "__________________________________________________________________________________________________\n"
     ]
    }
   ],
   "source": [
    "model3.summary()"
   ]
  },
  {
   "cell_type": "code",
   "execution_count": 36,
   "id": "e3c9e10d",
   "metadata": {
    "pycharm": {
     "is_executing": true,
     "name": "#%%\n"
    }
   },
   "outputs": [
    {
     "name": "stdout",
     "output_type": "stream",
     "text": [
      "['Analytics']\n",
      "9\n",
      "['Analytics']\n",
      "[ 0.2902643  -0.41488695 -0.08212328]\n",
      "['Finance']\n",
      "[-0.20317261  0.21215482  0.0462893 ]\n",
      "['HR']\n",
      "[-0.0471026   0.0747899  -0.00090614]\n",
      "['Legal']\n",
      "[-0.027493    0.07885054 -0.00889239]\n",
      "['Operations']\n",
      "[-0.21041268  0.22136362 -0.04047974]\n",
      "['Procurement']\n",
      "[ 0.0486811  -0.06035383 -0.01558103]\n",
      "['R&D']\n",
      "[ 0.37671393 -0.43494526 -0.06906242]\n",
      "['Sales & Marketing']\n",
      "[-0.46922562  0.4938717   0.27329984]\n",
      "['Technology']\n",
      "[ 0.25130522 -0.23163876 -0.12537982]\n"
     ]
    }
   ],
   "source": [
    "dept_embeddings = model3.get_layer('department_int_embed').get_weights()[0]\n",
    "print(encoders['department'].inverse_transform([0]))\n",
    "print(len(dept_embeddings))\n",
    "for i in range(len(dept_embeddings)):\n",
    "    print(encoders['department'].inverse_transform([i]))\n",
    "    print(dept_embeddings[i])\n",
    "#words_embeddings = {w:embeddings[idx] for w, idx in word_to_index.items()}"
   ]
  },
  {
   "cell_type": "code",
   "execution_count": 41,
   "id": "fe286028",
   "metadata": {
    "pycharm": {
     "name": "#%%\n"
    }
   },
   "outputs": [
    {
     "name": "stdout",
     "output_type": "stream",
     "text": [
      "['Analytics']\n",
      "[ 0.2902643  -0.41488695 -0.08212328]\n",
      "['Finance']\n",
      "[-0.20317261  0.21215482  0.0462893 ]\n",
      "['HR']\n",
      "[-0.0471026   0.0747899  -0.00090614]\n",
      "['Legal']\n",
      "[-0.027493    0.07885054 -0.00889239]\n",
      "['Operations']\n",
      "[-0.21041268  0.22136362 -0.04047974]\n",
      "['Procurement']\n",
      "[ 0.0486811  -0.06035383 -0.01558103]\n",
      "['R&D']\n",
      "[ 0.37671393 -0.43494526 -0.06906242]\n",
      "['Sales & Marketing']\n",
      "[-0.46922562  0.4938717   0.27329984]\n",
      "['Technology']\n",
      "[ 0.25130522 -0.23163876 -0.12537982]\n"
     ]
    },
    {
     "data": {
      "image/png": "[encoded data removed]",
      "text/plain": [
       "<Figure size 640x480 with 1 Axes>"
      ]
     },
     "metadata": {},
     "output_type": "display_data"
    }
   ],
   "source": [
    "from mpl_toolkits import mplot3d\n",
    "import numpy as np\n",
    "import matplotlib.pyplot as plt\n",
    " \n",
    "fig = plt.figure()\n",
    " \n",
    "# syntax for 3-D projection\n",
    "ax = plt.axes(projection ='3d')\n",
    " \n",
    "for i in range(len(dept_embeddings)):\n",
    "    print(encoders['department'].inverse_transform([i]))\n",
    "    print(dept_embeddings[i])\n",
    "    ax.scatter(dept_embeddings[i][0],dept_embeddings[i][1],dept_embeddings[i][2], 'green', label = encoders['department'].inverse_transform([i]) )\n",
    "# plotting\n",
    "#ax.plot3D(x, y, z, 'green')\n",
    "ax.set_title('3D line plot geeks for geeks')\n",
    "plt.legend(loc='best')\n",
    "plt.show()"
   ]
  },
  {
   "cell_type": "code",
   "execution_count": null,
   "id": "8bb39beb",
   "metadata": {},
   "outputs": [],
   "source": []
  }
 ],
 "metadata": {
  "kernelspec": {
   "display_name": "Python 3 (ipykernel)",
   "language": "python",
   "name": "python3"
  },
  "language_info": {
   "codemirror_mode": {
    "name": "ipython",
    "version": 3
   },
   "file_extension": ".py",
   "mimetype": "text/x-python",
   "name": "python",
   "nbconvert_exporter": "python",
   "pygments_lexer": "ipython3",
   "version": "3.9.12"
  }
 },
 "nbformat": 4,
 "nbformat_minor": 5
}
