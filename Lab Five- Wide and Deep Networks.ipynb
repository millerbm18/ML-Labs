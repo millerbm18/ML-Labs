{
 "cells": [
  {
   "cell_type": "markdown",
   "id": "fe86ed7b",
   "metadata": {
    "pycharm": {
     "name": "#%% md\n"
    }
   },
   "source": [
    "# Lab Assignment Five: Wide and Deep Network Architectures\n",
    " \n",
    "\n",
    "#### Everett Cienkus, Blake Miller, Colin Weil"
   ]
  },
  {
   "cell_type": "markdown",
   "id": "4adba831",
   "metadata": {
    "pycharm": {
     "name": "#%% md\n"
    }
   },
   "source": [
    "### 1. Preparation"
   ]
  },
  {
   "cell_type": "markdown",
   "id": "26fb0229",
   "metadata": {
    "pycharm": {
     "name": "#%% md\n"
    }
   },
   "source": [
    "#### 1.1 Define and Prepare Class Variables"
   ]
  },
  {
   "cell_type": "markdown",
   "id": "cdd1d91d",
   "metadata": {
    "pycharm": {
     "name": "#%% md\n"
    }
   },
   "source": [
    "Data from https://www.kaggle.com/datasets/fedesoriano/heart-failure-prediction\n",
    "\n",
    "Define and prepare your class variables. Use proper variable representations (int, float, one-hot, etc.). Use pre-processing methods (as needed) for dimensionality reduction, scaling, etc. Remove variables that are not needed/useful for the analysis. Describe the final dataset that is used for classification/regression (include a description of any newly formed variables you created)."
   ]
  },
  {
   "cell_type": "code",
   "execution_count": 1,
   "outputs": [],
   "source": [
    "import pandas as pd\n",
    "import numpy as np\n",
    "from sklearn.model_selection import train_test_split\n",
    "# Load the data into memory and save it to a pandas data frame.\n",
    "df = pd.read_csv('promotion_dataset/train.csv')\n",
    "df = df.dropna()\n",
    "\n",
    "df_train, df_test = train_test_split(df,train_size=0.8)"
   ],
   "metadata": {
    "collapsed": false,
    "pycharm": {
     "name": "#%%\n"
    }
   }
  },
  {
   "cell_type": "code",
   "execution_count": 2,
   "outputs": [
    {
     "name": "stdout",
     "output_type": "stream",
     "text": [
      "We will use the following 10 features:\n",
      "[   'department_int',\n",
      "    'region_int',\n",
      "    'education_int',\n",
      "    'gender_int',\n",
      "    'recruitment_channel_int',\n",
      "    'no_of_trainings',\n",
      "    'previous_year_rating',\n",
      "    'length_of_service',\n",
      "    'awards_won?',\n",
      "    'avg_training_score']\n"
     ]
    }
   ],
   "source": [
    "from sklearn.preprocessing import LabelEncoder\n",
    "from sklearn.preprocessing import StandardScaler\n",
    "# ========================================================\n",
    "# define objects that can encode each variable as integer\n",
    "encoders = dict() # save each encoder in dictionary\n",
    "categorical_headers = ['department','region','education','gender','recruitment_channel']\n",
    "# train all encoders\n",
    "for col in categorical_headers:\n",
    "    df_train[col] = df_train[col].str.strip()\n",
    "    df_test[col] = df_test[col].str.strip()\n",
    "    encoders[col] = LabelEncoder() # save the encoder\n",
    "    df_train[col+'_int'] = encoders[col].fit_transform(df_train[col])\n",
    "    df_test[col+'_int'] = encoders[col].transform(df_test[col])\n",
    "# ========================================================\n",
    "# scale the numeric, continuous variables\n",
    "numeric_headers = ['no_of_trainings', 'previous_year_rating', 'length_of_service', 'awards_won?', 'avg_training_score']\n",
    "ss = StandardScaler()\n",
    "df_train[numeric_headers] = ss.fit_transform(df_train[numeric_headers].values)\n",
    "df_test[numeric_headers] = ss.transform(df_test[numeric_headers].values)\n",
    "\n",
    "\n",
    "categorical_headers_ints = [x+'_int' for x in categorical_headers]\n",
    "\n",
    "feature_columns = categorical_headers_ints+numeric_headers\n",
    "\n",
    "import pprint\n",
    "pp = pprint.PrettyPrinter(indent=4)\n",
    "print(f\"We will use the following {len(feature_columns)} features:\")\n",
    "pp.pprint(feature_columns)\n"
   ],
   "metadata": {
    "collapsed": false,
    "pycharm": {
     "name": "#%%\n"
    }
   }
  },
  {
   "cell_type": "markdown",
   "id": "79e4c590",
   "metadata": {
    "pycharm": {
     "name": "#%% md\n"
    }
   },
   "source": [
    "#### 1.2 Combine into Cross-Product Features"
   ]
  },
  {
   "cell_type": "markdown",
   "source": [
    "Identify groups of features in your data that should be combined into cross-product features. Provide justification for why these features should be crossed (or why some features should not be crossed):\n",
    "\n",
    "One of the crosses we decided to use is crossing the ExerciseAngina column and the ChestPainType column. We decided to cross these because they are both attributes that relate to chest pain, as the ExerciseAngina column describes a specific kind of chest pain."
   ],
   "metadata": {
    "collapsed": false,
    "pycharm": {
     "name": "#%% md\n"
    }
   }
  },
  {
   "cell_type": "code",
   "execution_count": 3,
   "outputs": [
    {
     "name": "stdout",
     "output_type": "stream",
     "text": [
      "department has 9 unique values:\n",
      "['Finance' 'Sales & Marketing' 'Operations' 'Technology' 'HR' 'Legal'\n",
      " 'Analytics' 'Procurement' 'R&D']\n",
      "region has 34 unique values:\n",
      "['region_22' 'region_1' 'region_2' 'region_27' 'region_26' 'region_14'\n",
      " 'region_7' 'region_24' 'region_31' 'region_23' 'region_5' 'region_8'\n",
      " 'region_16' 'region_15' 'region_13' 'region_4' 'region_28' 'region_10'\n",
      " 'region_32' 'region_6' 'region_3' 'region_21' 'region_29' 'region_11'\n",
      " 'region_30' 'region_19' 'region_17' 'region_25' 'region_20' 'region_9'\n",
      " 'region_34' 'region_12' 'region_33' 'region_18']\n",
      "education has 3 unique values:\n",
      "[\"Master's & above\" \"Bachelor's\" 'Below Secondary']\n",
      "gender has 2 unique values:\n",
      "['m' 'f']\n",
      "recruitment_channel has 3 unique values:\n",
      "['other' 'sourcing' 'referred']\n"
     ]
    }
   ],
   "source": [
    "for col in categorical_headers:\n",
    "    vals = df_train[col].unique()\n",
    "    print(col,'has', len(vals), 'unique values:')\n",
    "    print(vals)"
   ],
   "metadata": {
    "collapsed": false,
    "pycharm": {
     "name": "#%%\n"
    }
   }
  },
  {
   "cell_type": "code",
   "execution_count": 4,
   "outputs": [
    {
     "data": {
      "text/plain": "['department_education', 'recruitment_channel_education']"
     },
     "execution_count": 4,
     "metadata": {},
     "output_type": "execute_result"
    }
   ],
   "source": [
    "# a quick example of crossing some columns\n",
    "\n",
    "cross_columns = [#['race','sex','education','occupation'],\n",
    "    ['department','education'],\n",
    "    ['recruitment_channel','education']\n",
    "]\n",
    "\n",
    "# cross each set of columns in the list above\n",
    "cross_col_df_names = []\n",
    "for cols_list in cross_columns:\n",
    "    # encode as ints for the embedding\n",
    "    enc = LabelEncoder()\n",
    "\n",
    "    # 1. create crossed labels by join operation\n",
    "    X_crossed_train = df_train[cols_list].apply(lambda x: '_'.join(x), axis=1)\n",
    "    X_crossed_test = df_test[cols_list].apply(lambda x: '_'.join(x), axis=1)\n",
    "\n",
    "    # get a nice name for this new crossed column\n",
    "    cross_col_name = '_'.join(cols_list)\n",
    "\n",
    "    # 2. encode as integers, stacking all possibilities\n",
    "    enc.fit(np.hstack((X_crossed_train.to_numpy(),  X_crossed_test.to_numpy())))\n",
    "\n",
    "    # 3. Save into dataframe with new name\n",
    "    df_train[cross_col_name] = enc.transform(X_crossed_train)\n",
    "    df_test[cross_col_name] = enc.transform(X_crossed_test)\n",
    "\n",
    "    # keep track of the new names of the crossed columns\n",
    "    cross_col_df_names.append(cross_col_name)\n",
    "\n",
    "cross_col_df_names"
   ],
   "metadata": {
    "collapsed": false,
    "pycharm": {
     "name": "#%%\n"
    }
   }
  },
  {
   "cell_type": "markdown",
   "id": "dac6fafd",
   "metadata": {
    "pycharm": {
     "name": "#%% md\n"
    }
   },
   "source": [
    "#### 1.3 Choose Metrics to Evaluate Performance"
   ]
  },
  {
   "cell_type": "markdown",
   "id": "8ccfad55",
   "metadata": {
    "pycharm": {
     "name": "#%% md\n"
    }
   },
   "source": [
    "Choose and explain what metric(s) you will use to evaluate your algorithm’s performance. You should give a detailed argument for why this (these) metric(s) are appropriate on your data. That is, why is the metric appropriate for the task (e.g., in terms of the business case for the task). Please note: rarely is accuracy the best evaluation metric to use. Think deeply about an appropriate measure of performance."
   ]
  },
  {
   "cell_type": "markdown",
   "id": "57fef24f",
   "metadata": {
    "pycharm": {
     "name": "#%% md\n"
    }
   },
   "source": [
    "#### 1.4 Choose Method for Dividing Data"
   ]
  },
  {
   "cell_type": "markdown",
   "id": "fcc8afae",
   "metadata": {
    "pycharm": {
     "name": "#%% md\n"
    }
   },
   "source": [
    "Choose the method you will use for dividing your data into training and testing (i.e., are you using Stratified 10-fold cross validation? Shuffle splits? Why?). Explain why your chosen method is appropriate or use more than one method as appropriate. Argue why your cross validation method is a realistic mirroring of how an algorithm would be used in practice."
   ]
  },
  {
   "cell_type": "code",
   "execution_count": 5,
   "outputs": [],
   "source": [
    "from sklearn.model_selection import train_test_split\n",
    "X_train = df_train[feature_columns].to_numpy()\n",
    "X_test = df_test[feature_columns].to_numpy()\n",
    "\n",
    "y_train = df_train['is_promoted'].to_numpy()\n",
    "y_test = df_test['is_promoted'].to_numpy()\n",
    "# X_train, X_test, y_train, y_test = train_test_split(X, y, train_size=0.8, random_state=42)\n"
   ],
   "metadata": {
    "collapsed": false,
    "pycharm": {
     "name": "#%%\n"
    }
   }
  },
  {
   "cell_type": "markdown",
   "id": "f6f8ed74",
   "metadata": {
    "pycharm": {
     "name": "#%% md\n"
    }
   },
   "source": [
    "Since our dataset is over 50,000, it is okay to use 80/20 split. EXPAND ON THIS"
   ]
  },
  {
   "cell_type": "markdown",
   "id": "701fbe1a",
   "metadata": {
    "pycharm": {
     "name": "#%% md\n"
    }
   },
   "source": [
    "### 2. Modeling"
   ]
  },
  {
   "cell_type": "markdown",
   "id": "74c6d2f1",
   "metadata": {
    "pycharm": {
     "name": "#%% md\n"
    }
   },
   "source": [
    "#### 2.1 Create Three Combined Wide and Deep Netowkrs using Keras"
   ]
  },
  {
   "cell_type": "markdown",
   "id": "c46c9e0a",
   "metadata": {
    "pycharm": {
     "name": "#%% md\n"
    }
   },
   "source": [
    "Create at least three combined wide and deep networks to classify your data using Keras. Visualize the performance of the network on the training data and validation data in the same plot versus the training iterations. Note: use the \"history\" return parameter that is part of Keras \"fit\" function to easily access this data."
   ]
  },
  {
   "cell_type": "code",
   "execution_count": 6,
   "outputs": [
    {
     "name": "stdout",
     "output_type": "stream",
     "text": [
      "2.9.1\n",
      "2.9.0\n"
     ]
    }
   ],
   "source": [
    "import tensorflow as tf\n",
    "from tensorflow import keras\n",
    "from tensorflow.keras.layers import Dense, Activation, Input\n",
    "from tensorflow.keras.models import Model\n",
    "from tensorflow.keras.layers import Embedding\n",
    "from tensorflow.keras.layers import concatenate\n",
    "print(tf.__version__)\n",
    "print(keras.__version__)"
   ],
   "metadata": {
    "collapsed": false,
    "pycharm": {
     "name": "#%%\n"
    }
   }
  },
  {
   "cell_type": "code",
   "execution_count": 7,
   "outputs": [],
   "source": [
    "# get crossed columns\n",
    "X_train_crossed = df_train[cross_col_df_names].to_numpy()\n",
    "X_test_crossed = df_test[cross_col_df_names].to_numpy()\n",
    "# save categorical features\n",
    "X_train_cat = df_train[categorical_headers_ints].to_numpy()\n",
    "X_test_cat = df_test[categorical_headers_ints].to_numpy()\n",
    "# and save off the numeric features\n",
    "X_train_num =  df_train[numeric_headers].to_numpy()\n",
    "X_test_num =  df_test[numeric_headers].to_numpy()\n",
    "\n",
    "# we need to create separate lists for each branch\n",
    "crossed_outputs = []\n",
    "\n",
    "# CROSSED DATA INPUT\n",
    "input_crossed = Input(shape=(X_train_crossed.shape[1],), dtype='int64', name='wide_inputs')\n",
    "for idx,col in enumerate(cross_col_df_names):\n",
    "\n",
    "    # track what the maximum integer value will be for this variable\n",
    "    # which is the same as the number of categories\n",
    "    N = max(df_train[col].max(),df_test[col].max())+1\n",
    "\n",
    "\n",
    "    # this line of code does this: input_branch[:,idx]\n",
    "    x = tf.gather(input_crossed, idx, axis=1)\n",
    "\n",
    "    # now use an embedding to deal with integers as if they were one hot encoded\n",
    "    x = Embedding(input_dim=N,\n",
    "                  output_dim=int(np.sqrt(N)),\n",
    "                  input_length=1, name=col+'_embed')(x)\n",
    "\n",
    "    # save these outputs to concatenate later\n",
    "    crossed_outputs.append(x)\n",
    "\n",
    "\n",
    "# now concatenate the outputs and add a fully connected layer\n",
    "wide_branch = concatenate(crossed_outputs, name='wide_concat')\n",
    "\n",
    "# reset this input branch\n",
    "all_deep_branch_outputs = []\n",
    "\n",
    "# CATEGORICAL DATA INPUT\n",
    "input_cat = Input(shape=(X_train_cat.shape[1],), dtype='int64', name='categorical_input')\n",
    "for idx,col in enumerate(categorical_headers_ints):\n",
    "\n",
    "    # track what the maximum integer value will be for this variable\n",
    "    # which is the same as the number of categories\n",
    "    N = max(df_train[col].max(),df_test[col].max())+1\n",
    "\n",
    "    # this line of code does this: input_branch[:,idx]\n",
    "    x = tf.gather(input_cat, idx, axis=1)\n",
    "\n",
    "    # now use an embedding to deal with integers as if they were one hot encoded\n",
    "    x = Embedding(input_dim=N,\n",
    "                  output_dim=int(np.sqrt(N)),\n",
    "                  input_length=1, name=col+'_embed')(x)\n",
    "\n",
    "    # save these outputs to concatenate later\n",
    "    all_deep_branch_outputs.append(x)\n",
    "\n",
    "# NUMERIC DATA INPUT\n",
    "# create dense input branch for numeric\n",
    "input_num = Input(shape=(X_train_num.shape[1],), name='numeric')\n",
    "x_dense = Dense(units=22, activation='relu',name='num_1')(input_num)\n",
    "\n",
    "all_deep_branch_outputs.append(x_dense)\n",
    "\n",
    "\n",
    "# merge the deep branches together\n",
    "deep_branch = concatenate(all_deep_branch_outputs,name='concat_embeds')\n",
    "deep_branch = Dense(units=50,activation='relu', name='deep1')(deep_branch)\n",
    "deep_branch = Dense(units=25,activation='relu', name='deep2')(deep_branch)\n",
    "deep_branch = Dense(units=10,activation='relu', name='deep3')(deep_branch)\n",
    "\n",
    "# merge the deep and wide branch\n",
    "final_branch = concatenate([wide_branch, deep_branch],\n",
    "                           name='concat_deep_wide')\n",
    "final_branch = Dense(units=1,activation='sigmoid',\n",
    "                     name='combined')(final_branch)\n",
    "\n",
    "model = Model(inputs=[input_crossed,input_cat,input_num],\n",
    "              outputs=final_branch)\n",
    "\n",
    "model.compile(optimizer='sgd',\n",
    "              loss='mean_squared_error',\n",
    "              metrics=[tf.keras.metrics.Precision()])\n",
    "\n"
   ],
   "metadata": {
    "collapsed": false,
    "pycharm": {
     "name": "#%%\n"
    }
   }
  },
  {
   "cell_type": "code",
   "execution_count": 8,
   "outputs": [
    {
     "name": "stdout",
     "output_type": "stream",
     "text": [
      "Epoch 1/15\n",
      "1217/1217 [==============================] - 12s 8ms/step - loss: 0.0981 - precision: 0.5000 - val_loss: 0.0786 - val_precision: 0.0000e+00\n",
      "Epoch 2/15\n",
      "1217/1217 [==============================] - 5s 4ms/step - loss: 0.0762 - precision: 0.0000e+00 - val_loss: 0.0759 - val_precision: 0.0000e+00\n",
      "Epoch 3/15\n",
      "1217/1217 [==============================] - 5s 4ms/step - loss: 0.0745 - precision: 0.0000e+00 - val_loss: 0.0747 - val_precision: 0.0000e+00\n",
      "Epoch 4/15\n",
      "1217/1217 [==============================] - 9s 7ms/step - loss: 0.0736 - precision: 1.0000 - val_loss: 0.0740 - val_precision: 1.0000\n",
      "Epoch 5/15\n",
      "1217/1217 [==============================] - 5s 4ms/step - loss: 0.0730 - precision: 0.7928 - val_loss: 0.0736 - val_precision: 0.7108\n",
      "Epoch 6/15\n",
      "1217/1217 [==============================] - 6s 5ms/step - loss: 0.0726 - precision: 0.7094 - val_loss: 0.0732 - val_precision: 0.7126\n",
      "Epoch 7/15\n",
      "1217/1217 [==============================] - 9s 7ms/step - loss: 0.0722 - precision: 0.7131 - val_loss: 0.0730 - val_precision: 0.7126\n",
      "Epoch 8/15\n",
      "1217/1217 [==============================] - 5s 4ms/step - loss: 0.0719 - precision: 0.7147 - val_loss: 0.0727 - val_precision: 0.7079\n",
      "Epoch 9/15\n",
      "1217/1217 [==============================] - 7s 6ms/step - loss: 0.0717 - precision: 0.7080 - val_loss: 0.0725 - val_precision: 0.6915\n",
      "Epoch 10/15\n",
      "1217/1217 [==============================] - 8s 6ms/step - loss: 0.0715 - precision: 0.7252 - val_loss: 0.0723 - val_precision: 0.6727\n",
      "Epoch 11/15\n",
      "1217/1217 [==============================] - 5s 4ms/step - loss: 0.0713 - precision: 0.6864 - val_loss: 0.0721 - val_precision: 0.7079\n",
      "Epoch 12/15\n",
      "1217/1217 [==============================] - 8s 7ms/step - loss: 0.0712 - precision: 0.7190 - val_loss: 0.0719 - val_precision: 0.6882\n",
      "Epoch 13/15\n",
      "1217/1217 [==============================] - 6s 5ms/step - loss: 0.0710 - precision: 0.7127 - val_loss: 0.0717 - val_precision: 0.6832\n",
      "Epoch 14/15\n",
      "1217/1217 [==============================] - 6s 5ms/step - loss: 0.0708 - precision: 0.7120 - val_loss: 0.0716 - val_precision: 0.6947\n",
      "Epoch 15/15\n",
      "1217/1217 [==============================] - 9s 7ms/step - loss: 0.0707 - precision: 0.7051 - val_loss: 0.0714 - val_precision: 0.6875\n"
     ]
    }
   ],
   "source": [
    "history = model.fit([X_train_crossed,X_train_cat,X_train_num],\n",
    "                    y_train,\n",
    "                    epochs=15,\n",
    "                    batch_size=32,\n",
    "                    verbose=1,\n",
    "                    validation_data = ([X_test_crossed,X_test_cat,X_test_num],y_test))"
   ],
   "metadata": {
    "collapsed": false,
    "pycharm": {
     "name": "#%%\n"
    }
   }
  },
  {
   "cell_type": "code",
   "execution_count": 9,
   "outputs": [
    {
     "data": {
      "text/plain": "<Figure size 640x480 with 1 Axes>",
      "image/png": "[encoded data removed]"
     },
     "metadata": {},
     "output_type": "display_data"
    }
   ],
   "source": [
    "from matplotlib import pyplot as plt\n",
    "plt.plot(history.history['precision'])\n",
    "plt.plot(history.history['val_precision'])\n",
    "plt.title('model precision')\n",
    "plt.ylabel('precision')\n",
    "plt.xlabel('epoch')\n",
    "plt.legend(['train', 'validation'], loc='upper left')\n",
    "plt.show()"
   ],
   "metadata": {
    "collapsed": false,
    "pycharm": {
     "name": "#%%\n"
    }
   }
  },
  {
   "cell_type": "code",
   "execution_count": 10,
   "outputs": [
    {
     "name": "stdout",
     "output_type": "stream",
     "text": [
      "305/305 [==============================] - 2s 4ms/step\n",
      "[[8845   30]\n",
      " [ 791   66]]\n",
      "              precision    recall  f1-score   support\n",
      "\n",
      "           0       0.92      1.00      0.96      8875\n",
      "           1       0.69      0.08      0.14       857\n",
      "\n",
      "    accuracy                           0.92      9732\n",
      "   macro avg       0.80      0.54      0.55      9732\n",
      "weighted avg       0.90      0.92      0.88      9732\n",
      "\n",
      "Y hat\n",
      " [[   0 9636]\n",
      " [   1   96]]\n",
      "actual\n",
      " [[   0 8875]\n",
      " [   1  857]]\n"
     ]
    }
   ],
   "source": [
    "from sklearn import metrics as mt\n",
    "yhat = np.round(model.predict([X_test_crossed,X_test_cat,X_test_num])).astype(int)\n",
    "print(mt.confusion_matrix(y_test,yhat))\n",
    "print(mt.classification_report(y_test,yhat))\n",
    "unique_yhat, counts_yhat = np.unique(yhat, return_counts=True)\n",
    "print(\"Y hat\\n\",np.asarray((unique_yhat, counts_yhat)).T)\n",
    "unique_ytest, counts_ytest = np.unique(y_test, return_counts=True)\n",
    "print(\"actual\\n\",np.asarray((unique_ytest, counts_ytest)).T)"
   ],
   "metadata": {
    "collapsed": false,
    "pycharm": {
     "name": "#%%\n"
    }
   }
  },
  {
   "cell_type": "markdown",
   "id": "990d48fe",
   "metadata": {
    "pycharm": {
     "name": "#%% md\n"
    }
   },
   "source": [
    "#### 2.2 Investigate Performance by Altering the Number of Layers in the Deep Branch of the Network"
   ]
  },
  {
   "cell_type": "markdown",
   "id": "48d2a928",
   "metadata": {
    "pycharm": {
     "name": "#%% md\n"
    }
   },
   "source": [
    "Investigate generalization performance by altering the number of layers in the deep branch of the network. Try at least two different number of layers. Use the method of cross validation and evaluation metric that you argued for at the beginning of the lab to select the number of layers that performs superiorly."
   ]
  },
  {
   "cell_type": "code",
   "execution_count": 15,
   "outputs": [
    {
     "name": "stdout",
     "output_type": "stream",
     "text": [
      "Epoch 1/15\n",
      "1217/1217 [==============================] - 9s 5ms/step - loss: 0.1121 - precision_2: 0.1765 - val_loss: 0.0813 - val_precision_2: 0.0000e+00\n",
      "Epoch 2/15\n",
      "1217/1217 [==============================] - 6s 5ms/step - loss: 0.0788 - precision_2: 0.0000e+00 - val_loss: 0.0782 - val_precision_2: 0.0000e+00\n",
      "Epoch 3/15\n",
      "1217/1217 [==============================] - 10s 8ms/step - loss: 0.0762 - precision_2: 0.0000e+00 - val_loss: 0.0762 - val_precision_2: 0.0000e+00\n",
      "Epoch 4/15\n",
      "1217/1217 [==============================] - 6s 5ms/step - loss: 0.0751 - precision_2: 0.0000e+00 - val_loss: 0.0752 - val_precision_2: 0.0000e+00\n",
      "Epoch 5/15\n",
      "1217/1217 [==============================] - 7s 6ms/step - loss: 0.0742 - precision_2: 1.0000 - val_loss: 0.0742 - val_precision_2: 0.8235\n",
      "Epoch 6/15\n",
      "1217/1217 [==============================] - 11s 9ms/step - loss: 0.0732 - precision_2: 0.7534 - val_loss: 0.0732 - val_precision_2: 0.7105\n",
      "Epoch 7/15\n",
      "1217/1217 [==============================] - 6s 5ms/step - loss: 0.0721 - precision_2: 0.7259 - val_loss: 0.0723 - val_precision_2: 0.7308\n",
      "Epoch 8/15\n",
      "1217/1217 [==============================] - 9s 7ms/step - loss: 0.0715 - precision_2: 0.7151 - val_loss: 0.0719 - val_precision_2: 0.7375\n",
      "Epoch 9/15\n",
      "1217/1217 [==============================] - 7s 6ms/step - loss: 0.0712 - precision_2: 0.7073 - val_loss: 0.0716 - val_precision_2: 0.7000\n",
      "Epoch 10/15\n",
      "1217/1217 [==============================] - 8s 6ms/step - loss: 0.0709 - precision_2: 0.7250 - val_loss: 0.0713 - val_precision_2: 0.6990\n",
      "Epoch 11/15\n",
      "1217/1217 [==============================] - 10s 9ms/step - loss: 0.0707 - precision_2: 0.7120 - val_loss: 0.0711 - val_precision_2: 0.6961\n",
      "Epoch 12/15\n",
      "1217/1217 [==============================] - 7s 6ms/step - loss: 0.0705 - precision_2: 0.7128 - val_loss: 0.0709 - val_precision_2: 0.6727\n",
      "Epoch 13/15\n",
      "1217/1217 [==============================] - 14s 12ms/step - loss: 0.0702 - precision_2: 0.6952 - val_loss: 0.0707 - val_precision_2: 0.7529\n",
      "Epoch 14/15\n",
      "1217/1217 [==============================] - 7s 6ms/step - loss: 0.0700 - precision_2: 0.7150 - val_loss: 0.0706 - val_precision_2: 0.7436\n",
      "Epoch 15/15\n",
      "1217/1217 [==============================] - 11s 9ms/step - loss: 0.0697 - precision_2: 0.7231 - val_loss: 0.0703 - val_precision_2: 0.7444\n",
      "305/305 [==============================] - 1s 3ms/step\n",
      "[[8852   23]\n",
      " [ 790   67]]\n",
      "              precision    recall  f1-score   support\n",
      "\n",
      "           0       0.92      1.00      0.96      8875\n",
      "           1       0.74      0.08      0.14       857\n",
      "\n",
      "    accuracy                           0.92      9732\n",
      "   macro avg       0.83      0.54      0.55      9732\n",
      "weighted avg       0.90      0.92      0.88      9732\n",
      "\n",
      "Y hat\n",
      " [[   0 9642]\n",
      " [   1   90]]\n",
      "actual\n",
      " [[   0 8875]\n",
      " [   1  857]]\n"
     ]
    }
   ],
   "source": [
    "# get crossed columns\n",
    "X_train_crossed = df_train[cross_col_df_names].to_numpy()\n",
    "X_test_crossed = df_test[cross_col_df_names].to_numpy()\n",
    "# save categorical features\n",
    "X_train_cat = df_train[categorical_headers_ints].to_numpy()\n",
    "X_test_cat = df_test[categorical_headers_ints].to_numpy()\n",
    "# and save off the numeric features\n",
    "X_train_num =  df_train[numeric_headers].to_numpy()\n",
    "X_test_num =  df_test[numeric_headers].to_numpy()\n",
    "\n",
    "# we need to create separate lists for each branch\n",
    "crossed_outputs = []\n",
    "\n",
    "# CROSSED DATA INPUT\n",
    "input_crossed = Input(shape=(X_train_crossed.shape[1],), dtype='int64', name='wide_inputs')\n",
    "for idx,col in enumerate(cross_col_df_names):\n",
    "\n",
    "    # track what the maximum integer value will be for this variable\n",
    "    # which is the same as the number of categories\n",
    "    N = max(df_train[col].max(),df_test[col].max())+1\n",
    "\n",
    "\n",
    "    # this line of code does this: input_branch[:,idx]\n",
    "    x = tf.gather(input_crossed, idx, axis=1)\n",
    "\n",
    "    # now use an embedding to deal with integers as if they were one hot encoded\n",
    "    x = Embedding(input_dim=N,\n",
    "                  output_dim=int(np.sqrt(N)),\n",
    "                  input_length=1, name=col+'_embed')(x)\n",
    "\n",
    "    # save these outputs to concatenate later\n",
    "    crossed_outputs.append(x)\n",
    "\n",
    "# now concatenate the outputs and add a fully connected layer\n",
    "wide_branch = concatenate(crossed_outputs, name='wide_concat')\n",
    "\n",
    "# reset this input branch\n",
    "all_deep_branch_outputs = []\n",
    "\n",
    "# CATEGORICAL DATA INPUT\n",
    "input_cat = Input(shape=(X_train_cat.shape[1],), dtype='int64', name='categorical_input')\n",
    "for idx,col in enumerate(categorical_headers_ints):\n",
    "\n",
    "    # track what the maximum integer value will be for this variable\n",
    "    # which is the same as the number of categories\n",
    "    N = df_train[col].max()+1\n",
    "\n",
    "    # this line of code does this: input_branch[:,idx]\n",
    "    x = tf.gather(input_cat, idx, axis=1)\n",
    "\n",
    "    # now use an embedding to deal with integers as if they were one hot encoded\n",
    "    x = Embedding(input_dim=N,\n",
    "                  output_dim=int(np.sqrt(N)),\n",
    "                  input_length=1, name=col+'_embed')(x)\n",
    "\n",
    "    # save these outputs to concatenate later\n",
    "    all_deep_branch_outputs.append(x)\n",
    "\n",
    "# NUMERIC DATA INPUT\n",
    "# create dense input branch for numeric\n",
    "input_num = Input(shape=(X_train_num.shape[1],), name='numeric')\n",
    "x_dense = Dense(units=22, activation='relu',name='num_1')(input_num)\n",
    "\n",
    "all_deep_branch_outputs.append(x_dense)\n",
    "\n",
    "\n",
    "# merge the deep branches together\n",
    "deep_branch = concatenate(all_deep_branch_outputs,name='concat_embeds')\n",
    "#ADDED ANOTHER LAYER HERE\n",
    "deep_branch = Dense(units=50,activation='relu', name='deep1')(deep_branch)\n",
    "deep_branch = Dense(units=40,activation='relu', name='deep2')(deep_branch)\n",
    "deep_branch = Dense(units=30,activation='relu', name='deep3')(deep_branch)\n",
    "deep_branch = Dense(units=20,activation='relu', name='deep4')(deep_branch)\n",
    "deep_branch = Dense(units=10,activation='relu', name='deep5')(deep_branch)\n",
    "\n",
    "# merge the deep and wide branch\n",
    "final_branch = concatenate([wide_branch, deep_branch],\n",
    "                           name='concat_deep_wide')\n",
    "final_branch = Dense(units=1,activation='sigmoid',\n",
    "                     name='combined')(final_branch)\n",
    "\n",
    "model = Model(inputs=[input_crossed,input_cat,input_num],\n",
    "              outputs=final_branch)\n",
    "\n",
    "model.compile(optimizer='sgd',\n",
    "              loss='mean_squared_error',\n",
    "              metrics=[tf.keras.metrics.Precision()])\n",
    "\n",
    "history = model.fit([X_train_crossed,X_train_cat,X_train_num],\n",
    "                    y_train,\n",
    "                    epochs=15,\n",
    "                    batch_size=32,\n",
    "                    verbose=1,\n",
    "                    validation_data = ([X_test_crossed,X_test_cat,X_test_num],y_test))\n",
    "\n",
    "yhat = np.round(model.predict([X_test_crossed,X_test_cat,X_test_num])).astype(int)\n",
    "print(mt.confusion_matrix(y_test,yhat))\n",
    "print(mt.classification_report(y_test,yhat))\n",
    "unique_yhat, counts_yhat = np.unique(yhat, return_counts=True)\n",
    "print(\"Y hat\\n\",np.asarray((unique_yhat, counts_yhat)).T)\n",
    "unique_ytest, counts_ytest = np.unique(y_test, return_counts=True)\n",
    "print(\"actual\\n\",np.asarray((unique_ytest, counts_ytest)).T)"
   ],
   "metadata": {
    "collapsed": false,
    "pycharm": {
     "name": "#%%\n"
    }
   }
  },
  {
   "cell_type": "code",
   "execution_count": 16,
   "outputs": [
    {
     "data": {
      "text/plain": "<Figure size 640x480 with 1 Axes>",
      "image/png": "[encoded data removed]"
     },
     "metadata": {},
     "output_type": "display_data"
    }
   ],
   "source": [
    "plt.plot(history.history['precision_1'])\n",
    "plt.plot(history.history['val_precision_1'])\n",
    "plt.title('model precision')\n",
    "plt.ylabel('precision')\n",
    "plt.xlabel('epoch')\n",
    "plt.legend(['train', 'validation'], loc='upper left')\n",
    "plt.show()"
   ],
   "metadata": {
    "collapsed": false,
    "pycharm": {
     "name": "#%%\n"
    }
   }
  },
  {
   "cell_type": "markdown",
   "id": "ce1d3a88",
   "metadata": {
    "pycharm": {
     "name": "#%% md\n"
    }
   },
   "source": [
    "#### 2.3 Investigate Performance of the Best Wide and Deep Network to Multi-Layer Perceptron"
   ]
  },
  {
   "cell_type": "markdown",
   "id": "7aed9555",
   "metadata": {
    "pycharm": {
     "name": "#%% md\n"
    }
   },
   "source": [
    "Compare the performance of your best wide and deep network to a standard multi-layer perceptron (MLP). Alternatively, you can compare to a network without the wide branch (i.e., just the deep network). For classification tasks, compare using the receiver operating characteristic and area under the curve. For regression tasks, use Bland-Altman plots and residual variance calculations.  Use proper statistical methods to compare the performance of different models.  "
   ]
  },
  {
   "cell_type": "code",
   "execution_count": null,
   "id": "8c9fc853",
   "metadata": {
    "pycharm": {
     "name": "#%%\n"
    }
   },
   "outputs": [],
   "source": []
  },
  {
   "cell_type": "markdown",
   "id": "be73ef7e",
   "metadata": {
    "pycharm": {
     "name": "#%% md\n"
    }
   },
   "source": [
    "### 3. Capturing the Embedding Weights from the Deep Network"
   ]
  },
  {
   "cell_type": "markdown",
   "id": "c7912e89",
   "metadata": {
    "pycharm": {
     "name": "#%% md\n"
    }
   },
   "source": [
    "Capture the embedding weights from the deep network and (if needed) perform dimensionality reduction on the output of these embedding layers (only if needed). That is, pass the observations into the network, save the embedded weights (called embeddings), and then perform  dimensionality reduction in order to visualize results. Visualize and explain any clusters in the data."
   ]
  },
  {
   "cell_type": "code",
   "execution_count": null,
   "id": "957af2da",
   "metadata": {
    "pycharm": {
     "name": "#%%\n"
    }
   },
   "outputs": [],
   "source": []
  }
 ],
 "metadata": {
  "kernelspec": {
   "display_name": "Python 3 (ipykernel)",
   "language": "python",
   "name": "python3"
  },
  "language_info": {
   "codemirror_mode": {
    "name": "ipython",
    "version": 3
   },
   "file_extension": ".py",
   "mimetype": "text/x-python",
   "name": "python",
   "nbconvert_exporter": "python",
   "pygments_lexer": "ipython3",
   "version": "3.9.12"
  }
 },
 "nbformat": 4,
 "nbformat_minor": 5
}