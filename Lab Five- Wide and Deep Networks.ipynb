{
 "cells": [
  {
   "cell_type": "markdown",
   "id": "fe86ed7b",
   "metadata": {
    "pycharm": {
     "name": "#%% md\n"
    }
   },
   "source": [
    "# Lab Assignment Five: Wide and Deep Network Architectures\n",
    " \n",
    "\n",
    "#### Everett Cienkus, Blake Miller, Colin Weil"
   ]
  },
  {
   "cell_type": "markdown",
   "id": "4adba831",
   "metadata": {
    "pycharm": {
     "name": "#%% md\n"
    }
   },
   "source": [
    "### 1. Preparation"
   ]
  },
  {
   "cell_type": "markdown",
   "id": "26fb0229",
   "metadata": {
    "pycharm": {
     "name": "#%% md\n"
    }
   },
   "source": [
    "#### 1.1 Define and Prepare Class Variables"
   ]
  },
  {
   "cell_type": "markdown",
   "source": [],
   "metadata": {
    "collapsed": false,
    "pycharm": {
     "name": "#%% md\n"
    }
   }
  },
  {
   "cell_type": "markdown",
   "id": "cdd1d91d",
   "metadata": {
    "pycharm": {
     "name": "#%% md\n"
    }
   },
   "source": [
    "Data from https://www.kaggle.com/datasets/arashnic/hr-ana\n",
    "\n",
    "Define and prepare your class variables. Use proper variable representations (int, float, one-hot, etc.). Use pre-processing methods (as needed) for dimensionality reduction, scaling, etc. Remove variables that are not needed/useful for the analysis. Describe the final dataset that is used for classification/regression (include a description of any newly formed variables you created)."
   ]
  },
  {
   "cell_type": "code",
   "execution_count": 18,
   "outputs": [
    {
     "data": {
      "text/plain": "       employee_id         department     region         education gender  \\\n44213        30508         Technology   region_2        Bachelor's      f   \n16717        77643                 HR   region_2        Bachelor's      m   \n949          38355         Operations   region_7        Bachelor's      m   \n45618         9587         Operations  region_30  Master's & above      m   \n15810        32191         Operations   region_7        Bachelor's      f   \n...            ...                ...        ...               ...    ...   \n31628        13531            Finance   region_7        Bachelor's      m   \n52404        30893        Procurement  region_13  Master's & above      m   \n49895        65273        Procurement  region_23        Bachelor's      m   \n14600        49349  Sales & Marketing  region_23  Master's & above      m   \n25163        42758         Operations   region_7        Bachelor's      m   \n\n      recruitment_channel  no_of_trainings  age  previous_year_rating  \\\n44213               other                2   46                   1.0   \n16717               other                1   46                   3.0   \n949                 other                1   46                   4.0   \n45618               other                1   38                   3.0   \n15810            sourcing                2   31                   3.0   \n...                   ...              ...  ...                   ...   \n31628               other                1   25                   4.0   \n52404               other                1   39                   3.0   \n49895            sourcing                1   29                   4.0   \n14600            sourcing                1   36                   5.0   \n25163               other                1   28                   2.0   \n\n       length_of_service  awards_won?  avg_training_score  is_promoted  \n44213                  2            0                  82            0  \n16717                 21            0                  50            0  \n949                    5            0                  62            0  \n45618                 10            0                  60            0  \n15810                  2            0                  61            0  \n...                  ...          ...                 ...          ...  \n31628                  2            0                  54            0  \n52404                  9            0                  70            0  \n49895                  8            0                  70            1  \n14600                 10            0                  57            0  \n25163                  2            0                  63            0  \n\n[9732 rows x 13 columns]",
      "text/html": "<div>\n<style scoped>\n    .dataframe tbody tr th:only-of-type {\n        vertical-align: middle;\n    }\n\n    .dataframe tbody tr th {\n        vertical-align: top;\n    }\n\n    .dataframe thead th {\n        text-align: right;\n    }\n</style>\n<table border=\"1\" class=\"dataframe\">\n  <thead>\n    <tr style=\"text-align: right;\">\n      <th></th>\n      <th>employee_id</th>\n      <th>department</th>\n      <th>region</th>\n      <th>education</th>\n      <th>gender</th>\n      <th>recruitment_channel</th>\n      <th>no_of_trainings</th>\n      <th>age</th>\n      <th>previous_year_rating</th>\n      <th>length_of_service</th>\n      <th>awards_won?</th>\n      <th>avg_training_score</th>\n      <th>is_promoted</th>\n    </tr>\n  </thead>\n  <tbody>\n    <tr>\n      <th>44213</th>\n      <td>30508</td>\n      <td>Technology</td>\n      <td>region_2</td>\n      <td>Bachelor's</td>\n      <td>f</td>\n      <td>other</td>\n      <td>2</td>\n      <td>46</td>\n      <td>1.0</td>\n      <td>2</td>\n      <td>0</td>\n      <td>82</td>\n      <td>0</td>\n    </tr>\n    <tr>\n      <th>16717</th>\n      <td>77643</td>\n      <td>HR</td>\n      <td>region_2</td>\n      <td>Bachelor's</td>\n      <td>m</td>\n      <td>other</td>\n      <td>1</td>\n      <td>46</td>\n      <td>3.0</td>\n      <td>21</td>\n      <td>0</td>\n      <td>50</td>\n      <td>0</td>\n    </tr>\n    <tr>\n      <th>949</th>\n      <td>38355</td>\n      <td>Operations</td>\n      <td>region_7</td>\n      <td>Bachelor's</td>\n      <td>m</td>\n      <td>other</td>\n      <td>1</td>\n      <td>46</td>\n      <td>4.0</td>\n      <td>5</td>\n      <td>0</td>\n      <td>62</td>\n      <td>0</td>\n    </tr>\n    <tr>\n      <th>45618</th>\n      <td>9587</td>\n      <td>Operations</td>\n      <td>region_30</td>\n      <td>Master's &amp; above</td>\n      <td>m</td>\n      <td>other</td>\n      <td>1</td>\n      <td>38</td>\n      <td>3.0</td>\n      <td>10</td>\n      <td>0</td>\n      <td>60</td>\n      <td>0</td>\n    </tr>\n    <tr>\n      <th>15810</th>\n      <td>32191</td>\n      <td>Operations</td>\n      <td>region_7</td>\n      <td>Bachelor's</td>\n      <td>f</td>\n      <td>sourcing</td>\n      <td>2</td>\n      <td>31</td>\n      <td>3.0</td>\n      <td>2</td>\n      <td>0</td>\n      <td>61</td>\n      <td>0</td>\n    </tr>\n    <tr>\n      <th>...</th>\n      <td>...</td>\n      <td>...</td>\n      <td>...</td>\n      <td>...</td>\n      <td>...</td>\n      <td>...</td>\n      <td>...</td>\n      <td>...</td>\n      <td>...</td>\n      <td>...</td>\n      <td>...</td>\n      <td>...</td>\n      <td>...</td>\n    </tr>\n    <tr>\n      <th>31628</th>\n      <td>13531</td>\n      <td>Finance</td>\n      <td>region_7</td>\n      <td>Bachelor's</td>\n      <td>m</td>\n      <td>other</td>\n      <td>1</td>\n      <td>25</td>\n      <td>4.0</td>\n      <td>2</td>\n      <td>0</td>\n      <td>54</td>\n      <td>0</td>\n    </tr>\n    <tr>\n      <th>52404</th>\n      <td>30893</td>\n      <td>Procurement</td>\n      <td>region_13</td>\n      <td>Master's &amp; above</td>\n      <td>m</td>\n      <td>other</td>\n      <td>1</td>\n      <td>39</td>\n      <td>3.0</td>\n      <td>9</td>\n      <td>0</td>\n      <td>70</td>\n      <td>0</td>\n    </tr>\n    <tr>\n      <th>49895</th>\n      <td>65273</td>\n      <td>Procurement</td>\n      <td>region_23</td>\n      <td>Bachelor's</td>\n      <td>m</td>\n      <td>sourcing</td>\n      <td>1</td>\n      <td>29</td>\n      <td>4.0</td>\n      <td>8</td>\n      <td>0</td>\n      <td>70</td>\n      <td>1</td>\n    </tr>\n    <tr>\n      <th>14600</th>\n      <td>49349</td>\n      <td>Sales &amp; Marketing</td>\n      <td>region_23</td>\n      <td>Master's &amp; above</td>\n      <td>m</td>\n      <td>sourcing</td>\n      <td>1</td>\n      <td>36</td>\n      <td>5.0</td>\n      <td>10</td>\n      <td>0</td>\n      <td>57</td>\n      <td>0</td>\n    </tr>\n    <tr>\n      <th>25163</th>\n      <td>42758</td>\n      <td>Operations</td>\n      <td>region_7</td>\n      <td>Bachelor's</td>\n      <td>m</td>\n      <td>other</td>\n      <td>1</td>\n      <td>28</td>\n      <td>2.0</td>\n      <td>2</td>\n      <td>0</td>\n      <td>63</td>\n      <td>0</td>\n    </tr>\n  </tbody>\n</table>\n<p>9732 rows × 13 columns</p>\n</div>"
     },
     "execution_count": 18,
     "metadata": {},
     "output_type": "execute_result"
    }
   ],
   "source": [
    "import pandas as pd\n",
    "import numpy as np\n",
    "from sklearn.model_selection import train_test_split\n",
    "# Load the data into memory and save it to a pandas data frame.\n",
    "df = pd.read_csv('promotion_dataset/train.csv')\n",
    "df = df.dropna()\n",
    "\n",
    "df_train, df_test = train_test_split(df,train_size=0.8)\n",
    "df_test"
   ],
   "metadata": {
    "collapsed": false,
    "pycharm": {
     "name": "#%%\n"
    }
   }
  },
  {
   "cell_type": "code",
   "execution_count": 2,
   "outputs": [
    {
     "name": "stdout",
     "output_type": "stream",
     "text": [
      "We will use the following 11 features:\n",
      "[   'department_int',\n",
      "    'region_int',\n",
      "    'education_int',\n",
      "    'gender_int',\n",
      "    'recruitment_channel_int',\n",
      "    'no_of_trainings',\n",
      "    'previous_year_rating',\n",
      "    'length_of_service',\n",
      "    'awards_won?',\n",
      "    'avg_training_score',\n",
      "    'age']\n"
     ]
    }
   ],
   "source": [
    "from sklearn.preprocessing import LabelEncoder\n",
    "from sklearn.preprocessing import StandardScaler\n",
    "# ========================================================\n",
    "# define objects that can encode each variable as integer\n",
    "encoders = dict() # save each encoder in dictionary\n",
    "categorical_headers = ['department','region','education','gender','recruitment_channel']\n",
    "# train all encoders\n",
    "for col in categorical_headers:\n",
    "    df_train[col] = df_train[col].str.strip()\n",
    "    df_test[col] = df_test[col].str.strip()\n",
    "    encoders[col] = LabelEncoder() # save the encoder\n",
    "    df_train[col+'_int'] = encoders[col].fit_transform(df_train[col])\n",
    "    df_test[col+'_int'] = encoders[col].transform(df_test[col])\n",
    "# ========================================================\n",
    "# scale the numeric, continuous variables\n",
    "numeric_headers = ['no_of_trainings', 'previous_year_rating', 'length_of_service', 'awards_won?', 'avg_training_score','age']\n",
    "ss = StandardScaler()\n",
    "df_train[numeric_headers] = ss.fit_transform(df_train[numeric_headers].values)\n",
    "df_test[numeric_headers] = ss.transform(df_test[numeric_headers].values)\n",
    "\n",
    "\n",
    "categorical_headers_ints = [x+'_int' for x in categorical_headers]\n",
    "\n",
    "feature_columns = categorical_headers_ints+numeric_headers\n",
    "\n",
    "import pprint\n",
    "pp = pprint.PrettyPrinter(indent=4)\n",
    "print(f\"We will use the following {len(feature_columns)} features:\")\n",
    "pp.pprint(feature_columns)\n"
   ],
   "metadata": {
    "collapsed": false,
    "pycharm": {
     "name": "#%%\n"
    }
   }
  },
  {
   "cell_type": "markdown",
   "id": "79e4c590",
   "metadata": {
    "pycharm": {
     "name": "#%% md\n"
    }
   },
   "source": [
    "#### 1.2 Combine into Cross-Product Features"
   ]
  },
  {
   "cell_type": "markdown",
   "source": [
    "Identify groups of features in your data that should be combined into cross-product features. Provide justification for why these features should be crossed (or why some features should not be crossed):\n",
    "\n",
    "One of the crosses we decided to use is crossing the ExerciseAngina column and the ChestPainType column. We decided to cross these because they are both attributes that relate to chest pain, as the ExerciseAngina column describes a specific kind of chest pain."
   ],
   "metadata": {
    "collapsed": false,
    "pycharm": {
     "name": "#%% md\n"
    }
   }
  },
  {
   "cell_type": "code",
   "execution_count": 3,
   "outputs": [
    {
     "name": "stdout",
     "output_type": "stream",
     "text": [
      "department has 9 unique values:\n",
      "['Sales & Marketing' 'Technology' 'Finance' 'Operations' 'Legal'\n",
      " 'Analytics' 'Procurement' 'HR' 'R&D']\n",
      "region has 34 unique values:\n",
      "['region_10' 'region_2' 'region_11' 'region_15' 'region_27' 'region_12'\n",
      " 'region_28' 'region_22' 'region_7' 'region_13' 'region_26' 'region_6'\n",
      " 'region_4' 'region_3' 'region_16' 'region_1' 'region_30' 'region_24'\n",
      " 'region_29' 'region_8' 'region_20' 'region_19' 'region_5' 'region_14'\n",
      " 'region_21' 'region_33' 'region_31' 'region_23' 'region_17' 'region_25'\n",
      " 'region_9' 'region_32' 'region_18' 'region_34']\n",
      "education has 3 unique values:\n",
      "[\"Master's & above\" \"Bachelor's\" 'Below Secondary']\n",
      "gender has 2 unique values:\n",
      "['m' 'f']\n",
      "recruitment_channel has 3 unique values:\n",
      "['other' 'sourcing' 'referred']\n"
     ]
    }
   ],
   "source": [
    "for col in categorical_headers:\n",
    "    vals = df_train[col].unique()\n",
    "    print(col,'has', len(vals), 'unique values:')\n",
    "    print(vals)"
   ],
   "metadata": {
    "collapsed": false,
    "pycharm": {
     "name": "#%%\n"
    }
   }
  },
  {
   "cell_type": "code",
   "execution_count": 4,
   "outputs": [
    {
     "data": {
      "text/plain": "['department_education', 'recruitment_channel_education', 'department_region']"
     },
     "execution_count": 4,
     "metadata": {},
     "output_type": "execute_result"
    }
   ],
   "source": [
    "cross_columns = [\n",
    "    ['department','education'],\n",
    "    ['recruitment_channel','education'],\n",
    "    ['department', 'region']\n",
    "]\n",
    "\n",
    "# cross each set of columns in the list above\n",
    "cross_col_df_names = []\n",
    "for cols_list in cross_columns:\n",
    "    # encode as ints for the embedding\n",
    "    enc = LabelEncoder()\n",
    "\n",
    "    # 1. create crossed labels by join operation\n",
    "    X_crossed_train = df_train[cols_list].apply(lambda x: '_'.join(x), axis=1)\n",
    "    X_crossed_test = df_test[cols_list].apply(lambda x: '_'.join(x), axis=1)\n",
    "\n",
    "    # get a nice name for this new crossed column\n",
    "    cross_col_name = '_'.join(cols_list)\n",
    "\n",
    "    # 2. encode as integers, stacking all possibilities\n",
    "    enc.fit(np.hstack((X_crossed_train.to_numpy(),  X_crossed_test.to_numpy())))\n",
    "\n",
    "    # 3. Save into dataframe with new name\n",
    "    df_train[cross_col_name] = enc.transform(X_crossed_train)\n",
    "    df_test[cross_col_name] = enc.transform(X_crossed_test)\n",
    "\n",
    "    # keep track of the new names of the crossed columns\n",
    "    cross_col_df_names.append(cross_col_name)\n",
    "\n",
    "cross_col_df_names"
   ],
   "metadata": {
    "collapsed": false,
    "pycharm": {
     "name": "#%%\n"
    }
   }
  },
  {
   "cell_type": "markdown",
   "id": "dac6fafd",
   "metadata": {
    "pycharm": {
     "name": "#%% md\n"
    }
   },
   "source": [
    "#### 1.3 Choose Metrics to Evaluate Performance"
   ]
  },
  {
   "cell_type": "markdown",
   "id": "8ccfad55",
   "metadata": {
    "pycharm": {
     "name": "#%% md\n"
    }
   },
   "source": [
    "Choose and explain what metric(s) you will use to evaluate your algorithm’s performance. You should give a detailed argument for why this (these) metric(s) are appropriate on your data. That is, why is the metric appropriate for the task (e.g., in terms of the business case for the task). Please note: rarely is accuracy the best evaluation metric to use. Think deeply about an appropriate measure of performance."
   ]
  },
  {
   "cell_type": "markdown",
   "id": "57fef24f",
   "metadata": {
    "pycharm": {
     "name": "#%% md\n"
    }
   },
   "source": [
    "#### 1.4 Choose Method for Dividing Data"
   ]
  },
  {
   "cell_type": "markdown",
   "id": "fcc8afae",
   "metadata": {
    "pycharm": {
     "name": "#%% md\n"
    }
   },
   "source": [
    "Choose the method you will use for dividing your data into training and testing (i.e., are you using Stratified 10-fold cross validation? Shuffle splits? Why?). Explain why your chosen method is appropriate or use more than one method as appropriate. Argue why your cross validation method is a realistic mirroring of how an algorithm would be used in practice."
   ]
  },
  {
   "cell_type": "code",
   "execution_count": 5,
   "outputs": [],
   "source": [
    "from sklearn.model_selection import train_test_split\n",
    "X_train = df_train[feature_columns].to_numpy()\n",
    "X_test = df_test[feature_columns].to_numpy()\n",
    "\n",
    "y_train = df_train['is_promoted'].to_numpy()\n",
    "y_test = df_test['is_promoted'].to_numpy()\n",
    "# X_train, X_test, y_train, y_test = train_test_split(X, y, train_size=0.8, random_state=42)\n"
   ],
   "metadata": {
    "collapsed": false,
    "pycharm": {
     "name": "#%%\n"
    }
   }
  },
  {
   "cell_type": "markdown",
   "id": "f6f8ed74",
   "metadata": {
    "pycharm": {
     "name": "#%% md\n"
    }
   },
   "source": [
    "Since our dataset is over 50,000, it is okay to use 80/20 split. EXPAND ON THIS"
   ]
  },
  {
   "cell_type": "markdown",
   "id": "701fbe1a",
   "metadata": {
    "pycharm": {
     "name": "#%% md\n"
    }
   },
   "source": [
    "### 2. Modeling"
   ]
  },
  {
   "cell_type": "markdown",
   "id": "74c6d2f1",
   "metadata": {
    "pycharm": {
     "name": "#%% md\n"
    }
   },
   "source": [
    "#### 2.1 Create Three Combined Wide and Deep Netowkrs using Keras"
   ]
  },
  {
   "cell_type": "markdown",
   "id": "c46c9e0a",
   "metadata": {
    "pycharm": {
     "name": "#%% md\n"
    }
   },
   "source": [
    "Create at least three combined wide and deep networks to classify your data using Keras. Visualize the performance of the network on the training data and validation data in the same plot versus the training iterations. Note: use the \"history\" return parameter that is part of Keras \"fit\" function to easily access this data."
   ]
  },
  {
   "cell_type": "code",
   "execution_count": 6,
   "outputs": [
    {
     "name": "stdout",
     "output_type": "stream",
     "text": [
      "2.9.1\n",
      "2.9.0\n"
     ]
    }
   ],
   "source": [
    "import tensorflow as tf\n",
    "from tensorflow import keras\n",
    "from tensorflow.keras.layers import Dense, Activation, Input\n",
    "from tensorflow.keras.models import Model\n",
    "from tensorflow.keras.layers import Embedding\n",
    "from tensorflow.keras.layers import concatenate\n",
    "print(tf.__version__)\n",
    "print(keras.__version__)"
   ],
   "metadata": {
    "collapsed": false,
    "pycharm": {
     "name": "#%%\n"
    }
   }
  },
  {
   "cell_type": "code",
   "execution_count": 7,
   "outputs": [],
   "source": [
    "# get crossed columns\n",
    "X_train_crossed = df_train[cross_col_df_names].to_numpy()\n",
    "X_test_crossed = df_test[cross_col_df_names].to_numpy()\n",
    "# save categorical features\n",
    "X_train_cat = df_train[categorical_headers_ints].to_numpy()\n",
    "X_test_cat = df_test[categorical_headers_ints].to_numpy()\n",
    "# and save off the numeric features\n",
    "X_train_num =  df_train[numeric_headers].to_numpy()\n",
    "X_test_num =  df_test[numeric_headers].to_numpy()\n",
    "\n",
    "# we need to create separate lists for each branch\n",
    "crossed_outputs = []\n",
    "\n",
    "# CROSSED DATA INPUT\n",
    "input_crossed = Input(shape=(X_train_crossed.shape[1],), dtype='int64', name='wide_inputs')\n",
    "for idx,col in enumerate(cross_col_df_names):\n",
    "\n",
    "    # track what the maximum integer value will be for this variable\n",
    "    # which is the same as the number of categories\n",
    "    N = max(df_train[col].max(),df_test[col].max())+1\n",
    "\n",
    "\n",
    "    # this line of code does this: input_branch[:,idx]\n",
    "    x = tf.gather(input_crossed, idx, axis=1)\n",
    "\n",
    "    # now use an embedding to deal with integers as if they were one hot encoded\n",
    "    x = Embedding(input_dim=N,\n",
    "                  output_dim=int(np.sqrt(N)),\n",
    "                  input_length=1, name=col+'_embed')(x)\n",
    "\n",
    "    # save these outputs to concatenate later\n",
    "    crossed_outputs.append(x)\n",
    "\n",
    "\n",
    "# now concatenate the outputs and add a fully connected layer\n",
    "wide_branch = concatenate(crossed_outputs, name='wide_concat')\n",
    "\n",
    "# reset this input branch\n",
    "all_deep_branch_outputs = []\n",
    "\n",
    "# CATEGORICAL DATA INPUT\n",
    "input_cat = Input(shape=(X_train_cat.shape[1],), dtype='int64', name='categorical_input')\n",
    "for idx,col in enumerate(categorical_headers_ints):\n",
    "\n",
    "    # track what the maximum integer value will be for this variable\n",
    "    # which is the same as the number of categories\n",
    "    N = max(df_train[col].max(),df_test[col].max())+1\n",
    "\n",
    "    # this line of code does this: input_branch[:,idx]\n",
    "    x = tf.gather(input_cat, idx, axis=1)\n",
    "\n",
    "    # now use an embedding to deal with integers as if they were one hot encoded\n",
    "    x = Embedding(input_dim=N,\n",
    "                  output_dim=int(np.sqrt(N)),\n",
    "                  input_length=1, name=col+'_embed')(x)\n",
    "\n",
    "    # save these outputs to concatenate later\n",
    "    all_deep_branch_outputs.append(x)\n",
    "\n",
    "# NUMERIC DATA INPUT\n",
    "# create dense input branch for numeric\n",
    "input_num = Input(shape=(X_train_num.shape[1],), name='numeric')\n",
    "x_dense = Dense(units=22, activation='relu',name='num_1')(input_num)\n",
    "\n",
    "all_deep_branch_outputs.append(x_dense)\n",
    "\n",
    "\n",
    "# merge the deep branches together\n",
    "deep_branch = concatenate(all_deep_branch_outputs,name='concat_embeds')\n",
    "deep_branch = Dense(units=50,activation='relu', name='deep1')(deep_branch)\n",
    "deep_branch = Dense(units=25,activation='relu', name='deep2')(deep_branch)\n",
    "deep_branch = Dense(units=10,activation='relu', name='deep3')(deep_branch)\n",
    "\n",
    "# merge the deep and wide branch\n",
    "final_branch = concatenate([wide_branch, deep_branch],\n",
    "                           name='concat_deep_wide')\n",
    "final_branch = Dense(units=1,activation='sigmoid',\n",
    "                     name='combined')(final_branch)\n",
    "\n",
    "model1 = Model(inputs=[input_crossed,input_cat,input_num],\n",
    "              outputs=final_branch)\n",
    "\n",
    "model1.compile(optimizer='sgd',\n",
    "              loss='mean_squared_error',\n",
    "              metrics=[tf.keras.metrics.Precision()])\n",
    "\n"
   ],
   "metadata": {
    "collapsed": false,
    "pycharm": {
     "name": "#%%\n"
    }
   }
  },
  {
   "cell_type": "code",
   "execution_count": 8,
   "outputs": [
    {
     "name": "stdout",
     "output_type": "stream",
     "text": [
      "Epoch 1/20\n",
      "3893/3893 [==============================] - 26s 6ms/step - loss: 0.0898 - precision: 0.0787 - val_loss: 0.0763 - val_precision: 0.0000e+00\n",
      "Epoch 2/20\n",
      "3893/3893 [==============================] - 20s 5ms/step - loss: 0.0733 - precision: 0.7826 - val_loss: 0.0734 - val_precision: 0.7231\n",
      "Epoch 3/20\n",
      "3893/3893 [==============================] - 19s 5ms/step - loss: 0.0717 - precision: 0.7029 - val_loss: 0.0728 - val_precision: 0.6849\n",
      "Epoch 4/20\n",
      "3893/3893 [==============================] - 19s 5ms/step - loss: 0.0710 - precision: 0.7102 - val_loss: 0.0724 - val_precision: 0.6588\n",
      "Epoch 5/20\n",
      "3893/3893 [==============================] - 25s 6ms/step - loss: 0.0706 - precision: 0.7109 - val_loss: 0.0720 - val_precision: 0.6517\n",
      "Epoch 6/20\n",
      "3893/3893 [==============================] - 26s 7ms/step - loss: 0.0701 - precision: 0.7277 - val_loss: 0.0718 - val_precision: 0.6842\n",
      "Epoch 7/20\n",
      "3893/3893 [==============================] - 29s 8ms/step - loss: 0.0697 - precision: 0.7234 - val_loss: 0.0713 - val_precision: 0.6818\n",
      "Epoch 8/20\n",
      "3893/3893 [==============================] - 23s 6ms/step - loss: 0.0692 - precision: 0.7450 - val_loss: 0.0711 - val_precision: 0.6970\n",
      "Epoch 9/20\n",
      "3893/3893 [==============================] - 18s 5ms/step - loss: 0.0688 - precision: 0.7639 - val_loss: 0.0705 - val_precision: 0.7347\n",
      "Epoch 10/20\n",
      "3893/3893 [==============================] - 18s 5ms/step - loss: 0.0682 - precision: 0.7863 - val_loss: 0.0699 - val_precision: 0.7368\n",
      "Epoch 11/20\n",
      "3893/3893 [==============================] - 19s 5ms/step - loss: 0.0676 - precision: 0.8028 - val_loss: 0.0693 - val_precision: 0.7553\n",
      "Epoch 12/20\n",
      "3893/3893 [==============================] - 19s 5ms/step - loss: 0.0669 - precision: 0.8270 - val_loss: 0.0686 - val_precision: 0.8351\n",
      "Epoch 13/20\n",
      "3893/3893 [==============================] - 21s 5ms/step - loss: 0.0660 - precision: 0.8496 - val_loss: 0.0674 - val_precision: 0.8148\n",
      "Epoch 14/20\n",
      "3893/3893 [==============================] - 23s 6ms/step - loss: 0.0649 - precision: 0.8562 - val_loss: 0.0665 - val_precision: 0.9256\n",
      "Epoch 15/20\n",
      "3893/3893 [==============================] - 21s 5ms/step - loss: 0.0637 - precision: 0.8771 - val_loss: 0.0650 - val_precision: 0.9167\n",
      "Epoch 16/20\n",
      "3893/3893 [==============================] - 21s 5ms/step - loss: 0.0624 - precision: 0.8984 - val_loss: 0.0633 - val_precision: 0.9118\n",
      "Epoch 17/20\n",
      "3893/3893 [==============================] - 21s 5ms/step - loss: 0.0609 - precision: 0.9237 - val_loss: 0.0618 - val_precision: 0.9532\n",
      "Epoch 18/20\n",
      "3893/3893 [==============================] - 23s 6ms/step - loss: 0.0591 - precision: 0.9270 - val_loss: 0.0599 - val_precision: 0.9571\n",
      "Epoch 19/20\n",
      "3893/3893 [==============================] - 22s 6ms/step - loss: 0.0575 - precision: 0.9356 - val_loss: 0.0583 - val_precision: 0.9654\n",
      "Epoch 20/20\n",
      "3893/3893 [==============================] - 23s 6ms/step - loss: 0.0563 - precision: 0.9255 - val_loss: 0.0573 - val_precision: 0.9725\n"
     ]
    }
   ],
   "source": [
    "history = model1.fit([X_train_crossed,X_train_cat,X_train_num],\n",
    "                    y_train,\n",
    "                    epochs=20,\n",
    "                    batch_size=10,\n",
    "                    verbose=1,\n",
    "                    validation_data = ([X_test_crossed,X_test_cat,X_test_num],y_test))"
   ],
   "metadata": {
    "collapsed": false,
    "pycharm": {
     "name": "#%%\n"
    }
   }
  },
  {
   "cell_type": "code",
   "execution_count": 9,
   "outputs": [
    {
     "data": {
      "text/plain": "<Figure size 640x480 with 1 Axes>",
      "image/png": "[encoded data removed]"
     },
     "metadata": {},
     "output_type": "display_data"
    }
   ],
   "source": [
    "from matplotlib import pyplot as plt\n",
    "plt.plot(history.history['precision'])\n",
    "plt.plot(history.history['val_precision'])\n",
    "plt.title('model precision')\n",
    "plt.ylabel('precision')\n",
    "plt.xlabel('epoch')\n",
    "plt.legend(['train', 'validation'], loc='upper left')\n",
    "plt.show()"
   ],
   "metadata": {
    "collapsed": false,
    "pycharm": {
     "name": "#%%\n"
    }
   }
  },
  {
   "cell_type": "code",
   "execution_count": 10,
   "outputs": [
    {
     "name": "stdout",
     "output_type": "stream",
     "text": [
      "305/305 [==============================] - 1s 2ms/step\n",
      "[[8874    7]\n",
      " [ 603  248]]\n",
      "              precision    recall  f1-score   support\n",
      "\n",
      "           0       0.94      1.00      0.97      8881\n",
      "           1       0.97      0.29      0.45       851\n",
      "\n",
      "    accuracy                           0.94      9732\n",
      "   macro avg       0.95      0.65      0.71      9732\n",
      "weighted avg       0.94      0.94      0.92      9732\n",
      "\n",
      "Y hat\n",
      " [[   0 9477]\n",
      " [   1  255]]\n",
      "actual\n",
      " [[   0 8881]\n",
      " [   1  851]]\n"
     ]
    }
   ],
   "source": [
    "from sklearn import metrics as mt\n",
    "yhat = np.round(model1.predict([X_test_crossed,X_test_cat,X_test_num])).astype(int)\n",
    "print(mt.confusion_matrix(y_test,yhat))\n",
    "print(mt.classification_report(y_test,yhat))\n",
    "unique_yhat, counts_yhat = np.unique(yhat, return_counts=True)\n",
    "print(\"Y hat\\n\",np.asarray((unique_yhat, counts_yhat)).T)\n",
    "unique_ytest, counts_ytest = np.unique(y_test, return_counts=True)\n",
    "print(\"actual\\n\",np.asarray((unique_ytest, counts_ytest)).T)"
   ],
   "metadata": {
    "collapsed": false,
    "pycharm": {
     "name": "#%%\n"
    }
   }
  },
  {
   "cell_type": "markdown",
   "id": "990d48fe",
   "metadata": {
    "pycharm": {
     "name": "#%% md\n"
    }
   },
   "source": [
    "#### 2.2 Investigate Performance by Altering the Number of Layers in the Deep Branch of the Network"
   ]
  },
  {
   "cell_type": "markdown",
   "id": "48d2a928",
   "metadata": {
    "pycharm": {
     "name": "#%% md\n"
    }
   },
   "source": [
    "Investigate generalization performance by altering the number of layers in the deep branch of the network. Try at least two different number of layers. Use the method of cross validation and evaluation metric that you argued for at the beginning of the lab to select the number of layers that performs superiorly."
   ]
  },
  {
   "cell_type": "code",
   "execution_count": 11,
   "outputs": [
    {
     "name": "stdout",
     "output_type": "stream",
     "text": [
      "Epoch 1/20\n",
      "3893/3893 [==============================] - 24s 5ms/step - loss: 0.0901 - precision_1: 0.1138 - val_loss: 0.0786 - val_precision_1: 0.0000e+00\n",
      "Epoch 2/20\n",
      "3893/3893 [==============================] - 24s 6ms/step - loss: 0.0762 - precision_1: 0.0000e+00 - val_loss: 0.0753 - val_precision_1: 0.0000e+00\n",
      "Epoch 3/20\n",
      "3893/3893 [==============================] - 18s 5ms/step - loss: 0.0740 - precision_1: 0.0000e+00 - val_loss: 0.0739 - val_precision_1: 0.6667\n",
      "Epoch 4/20\n",
      "3893/3893 [==============================] - 15s 4ms/step - loss: 0.0724 - precision_1: 0.7127 - val_loss: 0.0727 - val_precision_1: 0.6667\n",
      "Epoch 5/20\n",
      "3893/3893 [==============================] - 13s 3ms/step - loss: 0.0713 - precision_1: 0.7212 - val_loss: 0.0725 - val_precision_1: 0.7288\n",
      "Epoch 6/20\n",
      "3893/3893 [==============================] - 16s 4ms/step - loss: 0.0705 - precision_1: 0.7310 - val_loss: 0.0717 - val_precision_1: 0.7463\n",
      "Epoch 7/20\n",
      "3893/3893 [==============================] - 12s 3ms/step - loss: 0.0698 - precision_1: 0.7290 - val_loss: 0.0710 - val_precision_1: 0.7375\n",
      "Epoch 8/20\n",
      "3893/3893 [==============================] - 15s 4ms/step - loss: 0.0690 - precision_1: 0.7383 - val_loss: 0.0703 - val_precision_1: 0.7463\n",
      "Epoch 9/20\n",
      "3893/3893 [==============================] - 12s 3ms/step - loss: 0.0678 - precision_1: 0.7828 - val_loss: 0.0684 - val_precision_1: 0.7394\n",
      "Epoch 10/20\n",
      "3893/3893 [==============================] - 16s 4ms/step - loss: 0.0660 - precision_1: 0.8307 - val_loss: 0.0666 - val_precision_1: 0.8263\n",
      "Epoch 11/20\n",
      "3893/3893 [==============================] - 14s 4ms/step - loss: 0.0636 - precision_1: 0.8877 - val_loss: 0.0636 - val_precision_1: 0.8550\n",
      "Epoch 12/20\n",
      "3893/3893 [==============================] - 16s 4ms/step - loss: 0.0604 - precision_1: 0.9055 - val_loss: 0.0599 - val_precision_1: 0.8856\n",
      "Epoch 13/20\n",
      "3893/3893 [==============================] - 17s 4ms/step - loss: 0.0573 - precision_1: 0.9215 - val_loss: 0.0573 - val_precision_1: 0.9147\n",
      "Epoch 14/20\n",
      "3893/3893 [==============================] - 16s 4ms/step - loss: 0.0558 - precision_1: 0.9189 - val_loss: 0.0590 - val_precision_1: 0.7640\n",
      "Epoch 15/20\n",
      "3893/3893 [==============================] - 16s 4ms/step - loss: 0.0554 - precision_1: 0.9122 - val_loss: 0.0558 - val_precision_1: 0.9106\n",
      "Epoch 16/20\n",
      "3893/3893 [==============================] - 16s 4ms/step - loss: 0.0548 - precision_1: 0.9231 - val_loss: 0.0555 - val_precision_1: 0.9677\n",
      "Epoch 17/20\n",
      "3893/3893 [==============================] - 17s 4ms/step - loss: 0.0544 - precision_1: 0.9213 - val_loss: 0.0555 - val_precision_1: 0.9776\n",
      "Epoch 18/20\n",
      "3893/3893 [==============================] - 20s 5ms/step - loss: 0.0540 - precision_1: 0.9333 - val_loss: 0.0550 - val_precision_1: 0.9493\n",
      "Epoch 19/20\n",
      "3893/3893 [==============================] - 25s 6ms/step - loss: 0.0537 - precision_1: 0.9215 - val_loss: 0.0551 - val_precision_1: 0.8645\n",
      "Epoch 20/20\n",
      "3893/3893 [==============================] - 24s 6ms/step - loss: 0.0535 - precision_1: 0.9354 - val_loss: 0.0551 - val_precision_1: 0.8769\n",
      "305/305 [==============================] - 1s 3ms/step\n",
      "[[8840   41]\n",
      " [ 559  292]]\n",
      "              precision    recall  f1-score   support\n",
      "\n",
      "           0       0.94      1.00      0.97      8881\n",
      "           1       0.88      0.34      0.49       851\n",
      "\n",
      "    accuracy                           0.94      9732\n",
      "   macro avg       0.91      0.67      0.73      9732\n",
      "weighted avg       0.93      0.94      0.93      9732\n",
      "\n",
      "Y hat\n",
      " [[   0 9399]\n",
      " [   1  333]]\n",
      "actual\n",
      " [[   0 8881]\n",
      " [   1  851]]\n"
     ]
    }
   ],
   "source": [
    "# we need to create separate lists for each branch\n",
    "crossed_outputs = []\n",
    "\n",
    "# CROSSED DATA INPUT\n",
    "input_crossed = Input(shape=(X_train_crossed.shape[1],), dtype='int64', name='wide_inputs')\n",
    "for idx,col in enumerate(cross_col_df_names):\n",
    "\n",
    "    # track what the maximum integer value will be for this variable\n",
    "    # which is the same as the number of categories\n",
    "    N = max(df_train[col].max(),df_test[col].max())+1\n",
    "\n",
    "\n",
    "    # this line of code does this: input_branch[:,idx]\n",
    "    x = tf.gather(input_crossed, idx, axis=1)\n",
    "\n",
    "    # now use an embedding to deal with integers as if they were one hot encoded\n",
    "    x = Embedding(input_dim=N,\n",
    "                  output_dim=int(np.sqrt(N)),\n",
    "                  input_length=1, name=col+'_embed')(x)\n",
    "\n",
    "    # save these outputs to concatenate later\n",
    "    crossed_outputs.append(x)\n",
    "\n",
    "# now concatenate the outputs and add a fully connected layer\n",
    "wide_branch = concatenate(crossed_outputs, name='wide_concat')\n",
    "\n",
    "# reset this input branch\n",
    "all_deep_branch_outputs = []\n",
    "\n",
    "# CATEGORICAL DATA INPUT\n",
    "input_cat = Input(shape=(X_train_cat.shape[1],), dtype='int64', name='categorical_input')\n",
    "for idx,col in enumerate(categorical_headers_ints):\n",
    "\n",
    "    # track what the maximum integer value will be for this variable\n",
    "    # which is the same as the number of categories\n",
    "    N = df_train[col].max()+1\n",
    "\n",
    "    # this line of code does this: input_branch[:,idx]\n",
    "    x = tf.gather(input_cat, idx, axis=1)\n",
    "\n",
    "    # now use an embedding to deal with integers as if they were one hot encoded\n",
    "    x = Embedding(input_dim=N,\n",
    "                  output_dim=int(np.sqrt(N)),\n",
    "                  input_length=1, name=col+'_embed')(x)\n",
    "\n",
    "    # save these outputs to concatenate later\n",
    "    all_deep_branch_outputs.append(x)\n",
    "\n",
    "# NUMERIC DATA INPUT\n",
    "# create dense input branch for numeric\n",
    "input_num = Input(shape=(X_train_num.shape[1],), name='numeric')\n",
    "x_dense = Dense(units=22, activation='relu',name='num_1')(input_num)\n",
    "\n",
    "all_deep_branch_outputs.append(x_dense)\n",
    "\n",
    "\n",
    "# merge the deep branches together\n",
    "deep_branch = concatenate(all_deep_branch_outputs,name='concat_embeds')\n",
    "# 5 layers now\n",
    "deep_branch = Dense(units=50,activation='relu', name='deep1')(deep_branch)\n",
    "deep_branch = Dense(units=40,activation='relu', name='deep2')(deep_branch)\n",
    "deep_branch = Dense(units=30,activation='relu', name='deep3')(deep_branch)\n",
    "deep_branch = Dense(units=20,activation='relu', name='deep4')(deep_branch)\n",
    "deep_branch = Dense(units=10,activation='relu', name='deep5')(deep_branch)\n",
    "\n",
    "# merge the deep and wide branch\n",
    "final_branch = concatenate([wide_branch, deep_branch],\n",
    "                           name='concat_deep_wide')\n",
    "final_branch = Dense(units=1,activation='sigmoid',\n",
    "                     name='combined')(final_branch)\n",
    "\n",
    "model2 = Model(inputs=[input_crossed,input_cat,input_num],\n",
    "              outputs=final_branch)\n",
    "\n",
    "model2.compile(optimizer='sgd',\n",
    "              loss='mean_squared_error',\n",
    "              metrics=[tf.keras.metrics.Precision()])\n",
    "\n",
    "history = model2.fit([X_train_crossed,X_train_cat,X_train_num],\n",
    "                    y_train,\n",
    "                    epochs=20,\n",
    "                    batch_size=10,\n",
    "                    verbose=1,\n",
    "                    validation_data = ([X_test_crossed,X_test_cat,X_test_num],y_test))"
   ],
   "metadata": {
    "collapsed": false,
    "pycharm": {
     "name": "#%%\n"
    }
   }
  },
  {
   "cell_type": "code",
   "execution_count": null,
   "outputs": [],
   "source": [
    "yhat = np.round(model2.predict([X_test_crossed,X_test_cat,X_test_num])).astype(int)\n",
    "print(mt.confusion_matrix(y_test,yhat))\n",
    "print(mt.classification_report(y_test,yhat))\n",
    "unique_yhat, counts_yhat = np.unique(yhat, return_counts=True)\n",
    "print(\"Y hat\\n\",np.asarray((unique_yhat, counts_yhat)).T)\n",
    "unique_ytest, counts_ytest = np.unique(y_test, return_counts=True)\n",
    "print(\"actual\\n\",np.asarray((unique_ytest, counts_ytest)).T)"
   ],
   "metadata": {
    "collapsed": false,
    "pycharm": {
     "name": "#%%\n"
    }
   }
  },
  {
   "cell_type": "code",
   "execution_count": 12,
   "outputs": [
    {
     "data": {
      "text/plain": "<Figure size 640x480 with 1 Axes>",
      "image/png": "[encoded data removed]"
     },
     "metadata": {},
     "output_type": "display_data"
    }
   ],
   "source": [
    "plt.plot(history.history['precision_1'])\n",
    "plt.plot(history.history['val_precision_1'])\n",
    "plt.title('model precision')\n",
    "plt.ylabel('precision')\n",
    "plt.xlabel('epoch')\n",
    "plt.legend(['train', 'validation'], loc='upper left')\n",
    "plt.show()"
   ],
   "metadata": {
    "collapsed": false,
    "pycharm": {
     "name": "#%%\n"
    }
   }
  },
  {
   "cell_type": "markdown",
   "source": [
    "#### 2.3 Third wide and deep network"
   ],
   "metadata": {
    "collapsed": false,
    "pycharm": {
     "name": "#%% md\n"
    }
   }
  },
  {
   "cell_type": "code",
   "execution_count": 13,
   "outputs": [],
   "source": [
    "# # get new crossed columns\n",
    "# cross_columns = [\n",
    "#     ['department','education'],\n",
    "#     ['recruitment_channel','education'],\n",
    "#     ['department', 'region'],\n",
    "#     ['department', 'education', 'region']\n",
    "# ]\n",
    "# cross_col_df_names = []\n",
    "# for cols_list in cross_columns:\n",
    "#     # encode as ints for the embedding\n",
    "#     enc = LabelEncoder()\n",
    "#     # 1. create crossed labels by join operation\n",
    "#     X_crossed_train = df_train[cols_list].apply(lambda x: '_'.join(x), axis=1)\n",
    "#     X_crossed_test = df_test[cols_list].apply(lambda x: '_'.join(x), axis=1)\n",
    "#\n",
    "#     # get a nice name for this new crossed column\n",
    "#     cross_col_name = '_'.join(cols_list)\n",
    "#\n",
    "#     # 2. encode as integers, stacking all possibilities\n",
    "#     enc.fit(np.hstack((X_crossed_train.to_numpy(),  X_crossed_test.to_numpy())))\n",
    "#\n",
    "#     # 3. Save into dataframe with new name\n",
    "#     df_train[cross_col_name] = enc.transform(X_crossed_train)\n",
    "#     df_test[cross_col_name] = enc.transform(X_crossed_test)\n",
    "#\n",
    "#     # keep track of the new names of the crossed columns\n",
    "#     cross_col_df_names.append(cross_col_name)\n",
    "#\n",
    "# cross_col_df_names"
   ],
   "metadata": {
    "collapsed": false,
    "pycharm": {
     "name": "#%%\n"
    }
   }
  },
  {
   "cell_type": "code",
   "execution_count": 14,
   "outputs": [
    {
     "name": "stdout",
     "output_type": "stream",
     "text": [
      "Epoch 1/20\n",
      "3893/3893 [==============================] - 23s 5ms/step - loss: 0.0956 - precision_2: 0.0733 - val_loss: 0.0779 - val_precision_2: 0.0000e+00\n",
      "Epoch 2/20\n",
      "3893/3893 [==============================] - 24s 6ms/step - loss: 0.0764 - precision_2: 0.0000e+00 - val_loss: 0.0763 - val_precision_2: 0.0000e+00\n",
      "Epoch 3/20\n",
      "3893/3893 [==============================] - 23s 6ms/step - loss: 0.0751 - precision_2: 0.0000e+00 - val_loss: 0.0751 - val_precision_2: 0.0000e+00\n",
      "Epoch 4/20\n",
      "3893/3893 [==============================] - 23s 6ms/step - loss: 0.0739 - precision_2: 0.0000e+00 - val_loss: 0.0740 - val_precision_2: 0.0000e+00\n",
      "Epoch 5/20\n",
      "3893/3893 [==============================] - 19s 5ms/step - loss: 0.0724 - precision_2: 1.0000 - val_loss: 0.0724 - val_precision_2: 1.0000\n",
      "Epoch 6/20\n",
      "3893/3893 [==============================] - 21s 5ms/step - loss: 0.0709 - precision_2: 0.7857 - val_loss: 0.0716 - val_precision_2: 0.6630\n",
      "Epoch 7/20\n",
      "3893/3893 [==============================] - 19s 5ms/step - loss: 0.0700 - precision_2: 0.7180 - val_loss: 0.0712 - val_precision_2: 0.6582\n",
      "Epoch 8/20\n",
      "3893/3893 [==============================] - 18s 5ms/step - loss: 0.0693 - precision_2: 0.7391 - val_loss: 0.0706 - val_precision_2: 0.7123\n",
      "Epoch 9/20\n",
      "3893/3893 [==============================] - 18s 5ms/step - loss: 0.0685 - precision_2: 0.7785 - val_loss: 0.0693 - val_precision_2: 0.7453\n",
      "Epoch 10/20\n",
      "3893/3893 [==============================] - 19s 5ms/step - loss: 0.0672 - precision_2: 0.8203 - val_loss: 0.0680 - val_precision_2: 0.8077\n",
      "Epoch 11/20\n",
      "3893/3893 [==============================] - 18s 5ms/step - loss: 0.0657 - precision_2: 0.8564 - val_loss: 0.0659 - val_precision_2: 0.8035\n",
      "Epoch 12/20\n",
      "3893/3893 [==============================] - 22s 6ms/step - loss: 0.0638 - precision_2: 0.8739 - val_loss: 0.0639 - val_precision_2: 0.8982\n",
      "Epoch 13/20\n",
      "3893/3893 [==============================] - 18s 5ms/step - loss: 0.0617 - precision_2: 0.9044 - val_loss: 0.0620 - val_precision_2: 0.9767\n",
      "Epoch 14/20\n",
      "3893/3893 [==============================] - 17s 4ms/step - loss: 0.0593 - precision_2: 0.9218 - val_loss: 0.0592 - val_precision_2: 0.9485\n",
      "Epoch 15/20\n",
      "3893/3893 [==============================] - 20s 5ms/step - loss: 0.0574 - precision_2: 0.9202 - val_loss: 0.0579 - val_precision_2: 0.9405\n",
      "Epoch 16/20\n",
      "3893/3893 [==============================] - 22s 6ms/step - loss: 0.0564 - precision_2: 0.9272 - val_loss: 0.0571 - val_precision_2: 0.9594\n",
      "Epoch 17/20\n",
      "3893/3893 [==============================] - 20s 5ms/step - loss: 0.0558 - precision_2: 0.9233 - val_loss: 0.0570 - val_precision_2: 0.9112\n",
      "Epoch 18/20\n",
      "3893/3893 [==============================] - 20s 5ms/step - loss: 0.0555 - precision_2: 0.9283 - val_loss: 0.0563 - val_precision_2: 0.9360\n",
      "Epoch 19/20\n",
      "3893/3893 [==============================] - 19s 5ms/step - loss: 0.0552 - precision_2: 0.9296 - val_loss: 0.0563 - val_precision_2: 0.9200\n",
      "Epoch 20/20\n",
      "3893/3893 [==============================] - 19s 5ms/step - loss: 0.0550 - precision_2: 0.9134 - val_loss: 0.0563 - val_precision_2: 0.9715\n",
      "305/305 [==============================] - 1s 2ms/step\n",
      "[[8873    8]\n",
      " [ 578  273]]\n",
      "              precision    recall  f1-score   support\n",
      "\n",
      "           0       0.94      1.00      0.97      8881\n",
      "           1       0.97      0.32      0.48       851\n",
      "\n",
      "    accuracy                           0.94      9732\n",
      "   macro avg       0.96      0.66      0.73      9732\n",
      "weighted avg       0.94      0.94      0.93      9732\n",
      "\n",
      "Y hat\n",
      " [[   0 9451]\n",
      " [   1  281]]\n",
      "actual\n",
      " [[   0 8881]\n",
      " [   1  851]]\n"
     ]
    }
   ],
   "source": [
    "crossed_outputs = []\n",
    "# CROSSED DATA INPUT\n",
    "input_crossed = Input(shape=(X_train_crossed.shape[1],), dtype='int64', name='wide_inputs')\n",
    "for idx,col in enumerate(cross_col_df_names):\n",
    "\n",
    "    # track what the maximum integer value will be for this variable\n",
    "    # which is the same as the number of categories\n",
    "    N = max(df_train[col].max(),df_test[col].max())+1\n",
    "\n",
    "\n",
    "    # this line of code does this: input_branch[:,idx]\n",
    "    x = tf.gather(input_crossed, idx, axis=1)\n",
    "\n",
    "    # now use an embedding to deal with integers as if they were one hot encoded\n",
    "    x = Embedding(input_dim=N,\n",
    "                  output_dim=int(np.sqrt(N)),\n",
    "                  input_length=1, name=col+'_embed')(x)\n",
    "\n",
    "    # save these outputs to concatenate later\n",
    "    crossed_outputs.append(x)\n",
    "\n",
    "# now concatenate the outputs and add a fully connected layer\n",
    "wide_branch = concatenate(crossed_outputs, name='wide_concat')\n",
    "\n",
    "# reset this input branch\n",
    "all_deep_branch_outputs = []\n",
    "\n",
    "# CATEGORICAL DATA INPUT\n",
    "input_cat = Input(shape=(X_train_cat.shape[1],), dtype='int64', name='categorical_input')\n",
    "for idx,col in enumerate(categorical_headers_ints):\n",
    "\n",
    "    # track what the maximum integer value will be for this variable\n",
    "    # which is the same as the number of categories\n",
    "    N = max(df_train[col].max(),df_test[col].max())+1\n",
    "\n",
    "    # this line of code does this: input_branch[:,idx]\n",
    "    x = tf.gather(input_cat, idx, axis=1)\n",
    "\n",
    "    # now use an embedding to deal with integers as if they were one hot encoded\n",
    "    x = Embedding(input_dim=N,\n",
    "                  output_dim=int(np.sqrt(N)),\n",
    "                  input_length=1, name=col+'_embed')(x)\n",
    "\n",
    "    # save these outputs to concatenate later\n",
    "    all_deep_branch_outputs.append(x)\n",
    "\n",
    "# NUMERIC DATA INPUT\n",
    "# create dense input branch for numeric\n",
    "input_num = Input(shape=(X_train_num.shape[1],), name='numeric')\n",
    "x_dense = Dense(units=22, activation='relu',name='num_1')(input_num)\n",
    "\n",
    "all_deep_branch_outputs.append(x_dense)\n",
    "\n",
    "\n",
    "# merge the deep branches together\n",
    "deep_branch = concatenate(all_deep_branch_outputs,name='concat_embeds')\n",
    "# 7 layers now\n",
    "deep_branch = Dense(units=30,activation='relu', name='deep1')(deep_branch)\n",
    "deep_branch = Dense(units=20,activation='relu', name='deep2')(deep_branch)\n",
    "deep_branch = Dense(units=10,activation='relu', name='deep3')(deep_branch)\n",
    "deep_branch = Dense(units=5,activation='relu', name='deep4')(deep_branch)\n",
    "\n",
    "# merge the deep and wide branch\n",
    "final_branch = concatenate([wide_branch, deep_branch],\n",
    "                           name='concat_deep_wide')\n",
    "final_branch = Dense(units=1,activation='sigmoid',\n",
    "                     name='combined')(final_branch)\n",
    "\n",
    "model3 = Model(inputs=[input_crossed,input_cat,input_num],\n",
    "              outputs=final_branch)\n",
    "\n",
    "model3.compile(optimizer='sgd',\n",
    "              loss='mean_squared_error',\n",
    "              metrics=[tf.keras.metrics.Precision()])\n",
    "\n",
    "history = model3.fit([X_train_crossed,X_train_cat,X_train_num],\n",
    "                    y_train,\n",
    "                    epochs=20,\n",
    "                    batch_size=10,\n",
    "                    verbose=1,\n",
    "                    validation_data = ([X_test_crossed,X_test_cat,X_test_num],y_test))"
   ],
   "metadata": {
    "collapsed": false,
    "pycharm": {
     "name": "#%%\n"
    }
   }
  },
  {
   "cell_type": "code",
   "execution_count": null,
   "outputs": [
    {
     "name": "stdout",
     "output_type": "stream",
     "text": [
      " 935/3893 [======>.......................] - ETA: 10s - loss: 0.0679 - precision_2: 0.6989"
     ]
    }
   ],
   "source": [
    "yhat = np.round(model3.predict([X_test_crossed,X_test_cat,X_test_num])).astype(int)\n",
    "print(mt.confusion_matrix(y_test,yhat))\n",
    "print(mt.classification_report(y_test,yhat))\n",
    "unique_yhat, counts_yhat = np.unique(yhat, return_counts=True)\n",
    "print(\"Y hat\\n\",np.asarray((unique_yhat, counts_yhat)).T)\n",
    "unique_ytest, counts_ytest = np.unique(y_test, return_counts=True)\n",
    "print(\"actual\\n\",np.asarray((unique_ytest, counts_ytest)).T)"
   ],
   "metadata": {
    "collapsed": false,
    "pycharm": {
     "name": "#%%\n"
    }
   }
  },
  {
   "cell_type": "code",
   "execution_count": 15,
   "outputs": [
    {
     "data": {
      "text/plain": "<Figure size 640x480 with 1 Axes>",
      "image/png": "[encoded data removed]"
     },
     "metadata": {},
     "output_type": "display_data"
    }
   ],
   "source": [
    "plt.plot(history.history['precision_2'])\n",
    "plt.plot(history.history['val_precision_2'])\n",
    "plt.title('model precision')\n",
    "plt.ylabel('precision')\n",
    "plt.xlabel('epoch')\n",
    "plt.legend(['train', 'validation'], loc='upper left')\n",
    "plt.show()"
   ],
   "metadata": {
    "collapsed": false,
    "pycharm": {
     "name": "#%%\n"
    }
   }
  },
  {
   "cell_type": "markdown",
   "id": "ce1d3a88",
   "metadata": {
    "pycharm": {
     "name": "#%% md\n"
    }
   },
   "source": [
    "#### 2.4 Investigate Performance of the Best Wide and Deep Network to Multi-Layer Perceptron"
   ]
  },
  {
   "cell_type": "markdown",
   "id": "7aed9555",
   "metadata": {
    "pycharm": {
     "name": "#%% md\n"
    }
   },
   "source": [
    "Compare the performance of your best wide and deep network to a standard multi-layer perceptron (MLP). Alternatively, you can compare to a network without the wide branch (i.e., just the deep network). For classification tasks, compare using the receiver operating characteristic and area under the curve. For regression tasks, use Bland-Altman plots and residual variance calculations.  Use proper statistical methods to compare the performance of different models.  "
   ]
  },
  {
   "cell_type": "code",
   "execution_count": 16,
   "id": "8c9fc853",
   "metadata": {
    "pycharm": {
     "name": "#%%\n"
    }
   },
   "outputs": [
    {
     "name": "stdout",
     "output_type": "stream",
     "text": [
      "Epoch 1/20\n",
      "3893/3893 [==============================] - 20s 5ms/step - loss: 0.1027 - precision_3: 0.0775 - val_loss: 0.0811 - val_precision_3: 0.0000e+00\n",
      "Epoch 2/20\n",
      "3893/3893 [==============================] - 18s 5ms/step - loss: 0.0785 - precision_3: 0.0000e+00 - val_loss: 0.0770 - val_precision_3: 0.0000e+00\n",
      "Epoch 3/20\n",
      "3893/3893 [==============================] - 18s 5ms/step - loss: 0.0750 - precision_3: 0.7306 - val_loss: 0.0743 - val_precision_3: 0.6782\n",
      "Epoch 4/20\n",
      "3893/3893 [==============================] - 19s 5ms/step - loss: 0.0728 - precision_3: 0.6889 - val_loss: 0.0728 - val_precision_3: 0.7143\n",
      "Epoch 5/20\n",
      "3893/3893 [==============================] - 17s 4ms/step - loss: 0.0714 - precision_3: 0.6883 - val_loss: 0.0722 - val_precision_3: 0.7500\n",
      "Epoch 6/20\n",
      "3893/3893 [==============================] - 17s 4ms/step - loss: 0.0708 - precision_3: 0.7128 - val_loss: 0.0719 - val_precision_3: 0.7432\n",
      "Epoch 7/20\n",
      "3893/3893 [==============================] - 17s 4ms/step - loss: 0.0704 - precision_3: 0.7460 - val_loss: 0.0718 - val_precision_3: 0.6667\n",
      "Epoch 8/20\n",
      "3893/3893 [==============================] - 15s 4ms/step - loss: 0.0702 - precision_3: 0.7361 - val_loss: 0.0717 - val_precision_3: 0.7429\n",
      "Epoch 9/20\n",
      "3893/3893 [==============================] - 17s 4ms/step - loss: 0.0700 - precision_3: 0.7537 - val_loss: 0.0715 - val_precision_3: 0.7639\n",
      "Epoch 10/20\n",
      "3893/3893 [==============================] - 17s 4ms/step - loss: 0.0698 - precision_3: 0.7665 - val_loss: 0.0713 - val_precision_3: 0.6731\n",
      "Epoch 11/20\n",
      "3893/3893 [==============================] - 18s 5ms/step - loss: 0.0696 - precision_3: 0.7448 - val_loss: 0.0711 - val_precision_3: 0.7671\n",
      "Epoch 12/20\n",
      "3893/3893 [==============================] - 18s 5ms/step - loss: 0.0692 - precision_3: 0.7715 - val_loss: 0.0710 - val_precision_3: 0.7360\n",
      "Epoch 13/20\n",
      "3893/3893 [==============================] - 16s 4ms/step - loss: 0.0687 - precision_3: 0.7824 - val_loss: 0.0701 - val_precision_3: 0.7753\n",
      "Epoch 14/20\n",
      "3893/3893 [==============================] - 16s 4ms/step - loss: 0.0679 - precision_3: 0.8162 - val_loss: 0.0690 - val_precision_3: 0.8351\n",
      "Epoch 15/20\n",
      "3893/3893 [==============================] - 18s 5ms/step - loss: 0.0665 - precision_3: 0.8444 - val_loss: 0.0678 - val_precision_3: 0.9000\n",
      "Epoch 16/20\n",
      "3893/3893 [==============================] - 20s 5ms/step - loss: 0.0649 - precision_3: 0.8803 - val_loss: 0.0658 - val_precision_3: 0.8758\n",
      "Epoch 17/20\n",
      "3893/3893 [==============================] - 22s 6ms/step - loss: 0.0636 - precision_3: 0.9117 - val_loss: 0.0645 - val_precision_3: 0.8830\n",
      "Epoch 18/20\n",
      "3893/3893 [==============================] - 21s 5ms/step - loss: 0.0622 - precision_3: 0.9270 - val_loss: 0.0628 - val_precision_3: 0.8934\n",
      "Epoch 19/20\n",
      "3893/3893 [==============================] - 19s 5ms/step - loss: 0.0607 - precision_3: 0.9199 - val_loss: 0.0612 - val_precision_3: 0.9458\n",
      "Epoch 20/20\n",
      "3893/3893 [==============================] - 11s 3ms/step - loss: 0.0587 - precision_3: 0.9307 - val_loss: 0.0582 - val_precision_3: 0.9465\n"
     ]
    }
   ],
   "source": [
    "# Now let's define the architecture for a multi-layer network\n",
    "\n",
    "# reset this input branch\n",
    "all_deep_branch_outputs = []\n",
    "\n",
    "# CATEGORICAL DATA INPUT\n",
    "input_cat = Input(shape=(X_train_cat.shape[1],), dtype='int64', name='categorical_input')\n",
    "for idx,col in enumerate(categorical_headers_ints):\n",
    "\n",
    "    # track what the maximum integer value will be for this variable\n",
    "    # which is the same as the number of categories\n",
    "    N = max(df_train[col].max(),df_test[col].max())+1\n",
    "\n",
    "    # this line of code does this: input_branch[:,idx]\n",
    "    x = tf.gather(input_cat, idx, axis=1)\n",
    "\n",
    "    # now use an embedding to deal with integers as if they were one hot encoded\n",
    "    x = Embedding(input_dim=N,\n",
    "                  output_dim=int(np.sqrt(N)),\n",
    "                  input_length=1, name=col+'_embed')(x)\n",
    "\n",
    "    # save these outputs to concatenate later\n",
    "    all_deep_branch_outputs.append(x)\n",
    "\n",
    "# NUMERIC DATA INPUT\n",
    "# create dense input branch for numeric\n",
    "input_num = Input(shape=(X_train_num.shape[1],), name='numeric')\n",
    "x_dense = Dense(units=22, activation='relu',name='num_1')(input_num)\n",
    "\n",
    "all_deep_branch_outputs.append(x_dense)\n",
    "\n",
    "\n",
    "# merge the deep branches together\n",
    "deep_branch = concatenate(all_deep_branch_outputs,name='concat_embeds')\n",
    "# 7 layers now\n",
    "\n",
    "deep_branch = Dense(units=30,activation='relu', name='deep1')(deep_branch)\n",
    "deep_branch = Dense(units=20,activation='relu', name='deep2')(deep_branch)\n",
    "deep_branch = Dense(units=10,activation='relu', name='deep3')(deep_branch)\n",
    "deep_branch = Dense(units=5,activation='relu', name='deep4')(deep_branch)\n",
    "\n",
    "# merge the deep and wide branch\n",
    "final_branch = Dense(units=1,activation='sigmoid',\n",
    "                     name='combined')(deep_branch)\n",
    "\n",
    "MLPModel = Model(inputs=[input_cat,input_num],\n",
    "              outputs=final_branch)\n",
    "MLPModel.compile(optimizer='sgd',\n",
    "              loss='mean_squared_error',\n",
    "              metrics=[tf.keras.metrics.Precision()])\n",
    "history = MLPModel.fit([X_train_cat,X_train_num],\n",
    "                    y_train,\n",
    "                    epochs=20,\n",
    "                    batch_size=10,\n",
    "                    verbose=1,\n",
    "                    validation_data = ([X_test_cat,X_test_num],y_test))\n",
    "\n"
   ]
  },
  {
   "cell_type": "code",
   "execution_count": 20,
   "outputs": [
    {
     "name": "stdout",
     "output_type": "stream",
     "text": [
      "305/305 [==============================] - 2s 5ms/step\n",
      "[[8868   13]\n",
      " [ 621  230]]\n",
      "              precision    recall  f1-score   support\n",
      "\n",
      "           0       0.93      1.00      0.97      8881\n",
      "           1       0.95      0.27      0.42       851\n",
      "\n",
      "    accuracy                           0.93      9732\n",
      "   macro avg       0.94      0.63      0.69      9732\n",
      "weighted avg       0.94      0.93      0.92      9732\n",
      "\n",
      "Y hat\n",
      " [[   0 9489]\n",
      " [   1  243]]\n",
      "actual\n",
      " [[   0 8881]\n",
      " [   1  851]]\n"
     ]
    }
   ],
   "source": [
    "yhatMLP = np.round(MLPModel.predict([X_test_cat,X_test_num])).astype(int)\n",
    "print(mt.confusion_matrix(y_test,yhatMLP))\n",
    "print(mt.classification_report(y_test,yhatMLP))\n",
    "unique_yhat, counts_yhat = np.unique(yhatMLP, return_counts=True)\n",
    "print(\"Y hat\\n\",np.asarray((unique_yhat, counts_yhat)).T)\n",
    "unique_ytest, counts_ytest = np.unique(y_test, return_counts=True)\n",
    "print(\"actual\\n\",np.asarray((unique_ytest, counts_ytest)).T)"
   ],
   "metadata": {
    "collapsed": false,
    "pycharm": {
     "name": "#%%\n"
    }
   }
  },
  {
   "cell_type": "code",
   "execution_count": 28,
   "outputs": [
    {
     "name": "stdout",
     "output_type": "stream",
     "text": [
      "305/305 [==============================] - 1s 3ms/step\n",
      "305/305 [==============================] - 1s 3ms/step\n",
      "305/305 [==============================] - 1s 3ms/step\n",
      "305/305 [==============================] - 1s 3ms/step\n"
     ]
    },
    {
     "data": {
      "text/plain": "<Figure size 640x480 with 1 Axes>",
      "image/png": "[encoded data removed]"
     },
     "metadata": {},
     "output_type": "display_data"
    }
   ],
   "source": [
    "from sklearn.metrics import roc_curve\n",
    "from sklearn.metrics import auc\n",
    "yhatMLP = MLPModel.predict([X_test_cat,X_test_num]).ravel()\n",
    "fpr_mlp, tpr_mlp, thresholds_keras = roc_curve(y_test, yhatMLP)\n",
    "auc_mlp = auc(fpr_mlp, tpr_mlp)\n",
    "yhat_model1 = model1.predict([X_test_crossed,X_test_cat,X_test_num]).ravel()\n",
    "fpr_model1, tpr_model1, thresholds_keras = roc_curve(y_test, yhat_model1)\n",
    "auc_model1= auc(fpr_model1, tpr_model1)\n",
    "yhat_model2 = model2.predict([X_test_crossed,X_test_cat,X_test_num]).ravel()\n",
    "fpr_model2, tpr_model2, thresholds_keras = roc_curve(y_test, yhat_model2)\n",
    "auc_model2= auc(fpr_model2, tpr_model2)\n",
    "yhat_model3 = model3.predict([X_test_crossed,X_test_cat,X_test_num]).ravel()\n",
    "fpr_model3, tpr_model3, thresholds_keras = roc_curve(y_test, yhat_model3)\n",
    "auc_model3= auc(fpr_model3, tpr_model3)\n",
    "plt.figure(1)\n",
    "plt.plot([0, 1], [0, 1], 'k--')\n",
    "plt.plot(fpr_mlp, tpr_mlp, label='MLP (area = {:.3f})'.format(auc_mlp))\n",
    "plt.plot(fpr_model1, tpr_model1, label='Model 1 (area = {:.3f})'.format(auc_model1))\n",
    "plt.plot(fpr_model2, tpr_model2, label='Model 2 (area = {:.3f})'.format(auc_model2))\n",
    "plt.plot(fpr_model3, tpr_model3, label='Model 3 (area = {:.3f})'.format(auc_model3))\n",
    "plt.xlabel('False positive rate')\n",
    "plt.ylabel('True positive rate')\n",
    "plt.title('ROC curve')\n",
    "plt.legend(loc='best')\n",
    "plt.show()"
   ],
   "metadata": {
    "collapsed": false,
    "pycharm": {
     "name": "#%%\n"
    }
   }
  },
  {
   "cell_type": "markdown",
   "id": "be73ef7e",
   "metadata": {
    "pycharm": {
     "name": "#%% md\n"
    }
   },
   "source": [
    "    ### 3. Capturing the Embedding Weights from the Deep Network"
   ]
  },
  {
   "cell_type": "markdown",
   "id": "c7912e89",
   "metadata": {
    "pycharm": {
     "name": "#%% md\n"
    }
   },
   "source": [
    "Capture the embedding weights from the deep network and (if needed) perform dimensionality reduction on the output of these embedding layers (only if needed). That is, pass the observations into the network, save the embedded weights (called embeddings), and then perform  dimensionality reduction in order to visualize results. Visualize and explain any clusters in the data."
   ]
  },
  {
   "cell_type": "code",
   "execution_count": 29,
   "id": "957af2da",
   "metadata": {
    "pycharm": {
     "name": "#%%\n"
    }
   },
   "outputs": [
    {
     "name": "stdout",
     "output_type": "stream",
     "text": [
      "Model: \"model_2\"\n",
      "__________________________________________________________________________________________________\n",
      " Layer (type)                   Output Shape         Param #     Connected to                     \n",
      "==================================================================================================\n",
      " categorical_input (InputLayer)  [(None, 5)]         0           []                               \n",
      "                                                                                                  \n",
      " tf.compat.v1.gather_19 (TFOpLa  (None,)             0           ['categorical_input[0][0]']      \n",
      " mbda)                                                                                            \n",
      "                                                                                                  \n",
      " tf.compat.v1.gather_20 (TFOpLa  (None,)             0           ['categorical_input[0][0]']      \n",
      " mbda)                                                                                            \n",
      "                                                                                                  \n",
      " tf.compat.v1.gather_21 (TFOpLa  (None,)             0           ['categorical_input[0][0]']      \n",
      " mbda)                                                                                            \n",
      "                                                                                                  \n",
      " tf.compat.v1.gather_22 (TFOpLa  (None,)             0           ['categorical_input[0][0]']      \n",
      " mbda)                                                                                            \n",
      "                                                                                                  \n",
      " tf.compat.v1.gather_23 (TFOpLa  (None,)             0           ['categorical_input[0][0]']      \n",
      " mbda)                                                                                            \n",
      "                                                                                                  \n",
      " numeric (InputLayer)           [(None, 6)]          0           []                               \n",
      "                                                                                                  \n",
      " department_int_embed (Embeddin  (None, 3)           27          ['tf.compat.v1.gather_19[0][0]'] \n",
      " g)                                                                                               \n",
      "                                                                                                  \n",
      " region_int_embed (Embedding)   (None, 5)            170         ['tf.compat.v1.gather_20[0][0]'] \n",
      "                                                                                                  \n",
      " education_int_embed (Embedding  (None, 1)           3           ['tf.compat.v1.gather_21[0][0]'] \n",
      " )                                                                                                \n",
      "                                                                                                  \n",
      " gender_int_embed (Embedding)   (None, 1)            2           ['tf.compat.v1.gather_22[0][0]'] \n",
      "                                                                                                  \n",
      " recruitment_channel_int_embed   (None, 1)           3           ['tf.compat.v1.gather_23[0][0]'] \n",
      " (Embedding)                                                                                      \n",
      "                                                                                                  \n",
      " num_1 (Dense)                  (None, 22)           154         ['numeric[0][0]']                \n",
      "                                                                                                  \n",
      " concat_embeds (Concatenate)    (None, 33)           0           ['department_int_embed[0][0]',   \n",
      "                                                                  'region_int_embed[0][0]',       \n",
      "                                                                  'education_int_embed[0][0]',    \n",
      "                                                                  'gender_int_embed[0][0]',       \n",
      "                                                                  'recruitment_channel_int_embed[0\n",
      "                                                                 ][0]',                           \n",
      "                                                                  'num_1[0][0]']                  \n",
      "                                                                                                  \n",
      " wide_inputs (InputLayer)       [(None, 3)]          0           []                               \n",
      "                                                                                                  \n",
      " deep1 (Dense)                  (None, 30)           1020        ['concat_embeds[0][0]']          \n",
      "                                                                                                  \n",
      " tf.compat.v1.gather_16 (TFOpLa  (None,)             0           ['wide_inputs[0][0]']            \n",
      " mbda)                                                                                            \n",
      "                                                                                                  \n",
      " tf.compat.v1.gather_17 (TFOpLa  (None,)             0           ['wide_inputs[0][0]']            \n",
      " mbda)                                                                                            \n",
      "                                                                                                  \n",
      " tf.compat.v1.gather_18 (TFOpLa  (None,)             0           ['wide_inputs[0][0]']            \n",
      " mbda)                                                                                            \n",
      "                                                                                                  \n",
      " deep2 (Dense)                  (None, 20)           620         ['deep1[0][0]']                  \n",
      "                                                                                                  \n",
      " department_education_embed (Em  (None, 4)           96          ['tf.compat.v1.gather_16[0][0]'] \n",
      " bedding)                                                                                         \n",
      "                                                                                                  \n",
      " recruitment_channel_education_  (None, 3)           27          ['tf.compat.v1.gather_17[0][0]'] \n",
      " embed (Embedding)                                                                                \n",
      "                                                                                                  \n",
      " department_region_embed (Embed  (None, 17)          4964        ['tf.compat.v1.gather_18[0][0]'] \n",
      " ding)                                                                                            \n",
      "                                                                                                  \n",
      " deep3 (Dense)                  (None, 10)           210         ['deep2[0][0]']                  \n",
      "                                                                                                  \n",
      " wide_concat (Concatenate)      (None, 24)           0           ['department_education_embed[0][0\n",
      "                                                                 ]',                              \n",
      "                                                                  'recruitment_channel_education_e\n",
      "                                                                 mbed[0][0]',                     \n",
      "                                                                  'department_region_embed[0][0]']\n",
      "                                                                                                  \n",
      " deep4 (Dense)                  (None, 5)            55          ['deep3[0][0]']                  \n",
      "                                                                                                  \n",
      " concat_deep_wide (Concatenate)  (None, 29)          0           ['wide_concat[0][0]',            \n",
      "                                                                  'deep4[0][0]']                  \n",
      "                                                                                                  \n",
      " combined (Dense)               (None, 1)            30          ['concat_deep_wide[0][0]']       \n",
      "                                                                                                  \n",
      "==================================================================================================\n",
      "Total params: 7,381\n",
      "Trainable params: 7,381\n",
      "Non-trainable params: 0\n",
      "__________________________________________________________________________________________________\n"
     ]
    }
   ],
   "source": [
    "model3.summary()"
   ]
  },
  {
   "cell_type": "code",
   "execution_count": null,
   "outputs": [],
   "source": [
    "model3.get_layer()"
   ],
   "metadata": {
    "collapsed": false,
    "pycharm": {
     "name": "#%%\n"
    }
   }
  }
 ],
 "metadata": {
  "kernelspec": {
   "display_name": "Python 3 (ipykernel)",
   "language": "python",
   "name": "python3"
  },
  "language_info": {
   "codemirror_mode": {
    "name": "ipython",
    "version": 3
   },
   "file_extension": ".py",
   "mimetype": "text/x-python",
   "name": "python",
   "nbconvert_exporter": "python",
   "pygments_lexer": "ipython3",
   "version": "3.9.12"
  }
 },
 "nbformat": 4,
 "nbformat_minor": 5
}