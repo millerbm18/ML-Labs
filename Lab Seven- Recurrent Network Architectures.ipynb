{
 "cells": [
  {
   "cell_type": "markdown",
   "id": "fe86ed7b",
   "metadata": {
    "pycharm": {
     "name": "#%% md\n"
    }
   },
   "source": [
    "# Lab Assignment Seven: Recurrent Network Architectures\n",
    " \n",
    "\n",
    "#### Everett Cienkus, Blake Miller, Colin Weil"
   ]
  },
  {
   "cell_type": "markdown",
   "id": "4adba831",
   "metadata": {
    "pycharm": {
     "name": "#%% md\n"
    }
   },
   "source": [
    "## 1. Preparation"
   ]
  },
  {
   "cell_type": "markdown",
   "id": "26fb0229",
   "metadata": {
    "pycharm": {
     "name": "#%% md\n"
    }
   },
   "source": [
    "### 1.1 Define and Prepare Class Variables"
   ]
  },
  {
   "cell_type": "code",
   "execution_count": null,
   "id": "967d08af",
   "metadata": {},
   "outputs": [],
   "source": []
  },
  {
   "cell_type": "markdown",
   "id": "87b8d148",
   "metadata": {},
   "source": []
  },
  {
   "cell_type": "markdown",
   "id": "d91424e9",
   "metadata": {},
   "source": [
    "### 1.2 Choose Metric for Evaluating Peformance"
   ]
  },
  {
   "cell_type": "code",
   "execution_count": null,
   "id": "564975d6",
   "metadata": {},
   "outputs": [],
   "source": []
  },
  {
   "cell_type": "markdown",
   "id": "4eb04a66",
   "metadata": {
    "pycharm": {
     "name": "#%% md\n"
    }
   },
   "source": [
    "### 1.3 Choose Method for Dividing Data"
   ]
  },
  {
   "cell_type": "markdown",
   "id": "deac1236",
   "metadata": {},
   "source": []
  },
  {
   "cell_type": "code",
   "execution_count": null,
   "id": "0ae2c89a",
   "metadata": {},
   "outputs": [],
   "source": []
  },
  {
   "cell_type": "markdown",
   "id": "8f3f26fd",
   "metadata": {
    "pycharm": {
     "name": "#%% md\n"
    }
   },
   "source": [
    "## 2. Modeling"
   ]
  },
  {
   "cell_type": "markdown",
   "id": "8116c31e",
   "metadata": {},
   "source": [
    "### 2.1 Investigate Two Different Network Architectures"
   ]
  },
  {
   "cell_type": "markdown",
   "id": "ecb9f1ed",
   "metadata": {},
   "source": [
    "#### 2.1.1 LSTM"
   ]
  },
  {
   "cell_type": "code",
   "execution_count": null,
   "id": "46a87fe2",
   "metadata": {},
   "outputs": [],
   "source": []
  },
  {
   "cell_type": "markdown",
   "id": "14ceb153",
   "metadata": {},
   "source": [
    "#### 2.1.2 GRU"
   ]
  },
  {
   "cell_type": "code",
   "execution_count": null,
   "id": "bd347530",
   "metadata": {},
   "outputs": [],
   "source": []
  },
  {
   "cell_type": "markdown",
   "id": "3f71ecea",
   "metadata": {},
   "source": [
    "#### 2.1.3 Discussion and Comparison of RNN's"
   ]
  },
  {
   "cell_type": "markdown",
   "id": "1569a4d8",
   "metadata": {},
   "source": [
    "### 2.2\n",
    "(FREE POINTS WOOHOO +1)"
   ]
  },
  {
   "cell_type": "markdown",
   "id": "cb100398",
   "metadata": {},
   "source": [
    "### 2.3 Visualize Results of RNN's"
   ]
  },
  {
   "cell_type": "code",
   "execution_count": null,
   "id": "6de231f0",
   "metadata": {},
   "outputs": [],
   "source": []
  },
  {
   "cell_type": "markdown",
   "id": "d769933b",
   "metadata": {},
   "source": [
    "## 3. Exceptional Work \n",
    "(FREE POINTS WOOHOO +1)"
   ]
  }
 ],
 "metadata": {
  "kernelspec": {
   "display_name": "Python 3 (ipykernel)",
   "language": "python",
   "name": "python3"
  },
  "language_info": {
   "codemirror_mode": {
    "name": "ipython",
    "version": 3
   },
   "file_extension": ".py",
   "mimetype": "text/x-python",
   "name": "python",
   "nbconvert_exporter": "python",
   "pygments_lexer": "ipython3",
   "version": "3.9.6"
  }
 },
 "nbformat": 4,
 "nbformat_minor": 5
}
