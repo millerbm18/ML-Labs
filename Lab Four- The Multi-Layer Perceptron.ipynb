{
 "cells": [
  {
   "cell_type": "markdown",
   "id": "fe86ed7b",
   "metadata": {
    "pycharm": {
     "name": "#%% md\n"
    }
   },
   "source": [
    "# Lab Four: The Multi-Layer Perceptron\n",
    " \n",
    "\n",
    "#### Everett Cienkus, Blake Miller, Colin Weil"
   ]
  },
  {
   "cell_type": "markdown",
   "id": "4adba831",
   "metadata": {
    "pycharm": {
     "name": "#%% md\n"
    }
   },
   "source": [
    "### 1. Load, Split, and Balance"
   ]
  },
  {
   "cell_type": "markdown",
   "id": "3d55b544",
   "metadata": {},
   "source": [
    "#### 1.1 Load Data"
   ]
  },
  {
   "cell_type": "code",
   "execution_count": 24,
   "id": "d18a0766",
   "metadata": {},
   "outputs": [],
   "source": [
    "import pandas as pd\n",
    "import numpy as np\n",
    "from sklearn.preprocessing import LabelEncoder\n",
    "\n",
    "# Load the data into memory and save it to a pandas data frame.\n",
    "df = pd.read_csv('census_dataset/acs2017_census_tract_data.csv')\n",
    "\n",
    "# Remove any observations that having missing data.\n",
    "df = df.dropna()\n",
    "\n",
    "# Encode any string data as integers for now. \n",
    "le = LabelEncoder()\n",
    "s = le.fit_transform(df['State'])\n",
    "df['State'] = s\n",
    "c = le.fit_transform(df['County'])\n",
    "df['County'] = c"
   ]
  },
  {
   "cell_type": "markdown",
   "id": "19c7bb65",
   "metadata": {},
   "source": [
    "Discuss why we are going to keep/ not keep county variable."
   ]
  },
  {
   "cell_type": "markdown",
   "id": "a3442dce",
   "metadata": {},
   "source": [
    "#### 1.2 Balance (NOT DONE) Should we use state maybe? or just do the 4 different ranges of output"
   ]
  },
  {
   "cell_type": "code",
   "execution_count": 25,
   "id": "dad64985",
   "metadata": {},
   "outputs": [
    {
     "name": "stdout",
     "output_type": "stream",
     "text": [
      "72718\n",
      "18179.5\n"
     ]
    },
    {
     "data": {
      "text/html": [
       "<div>\n",
       "<style scoped>\n",
       "    .dataframe tbody tr th:only-of-type {\n",
       "        vertical-align: middle;\n",
       "    }\n",
       "\n",
       "    .dataframe tbody tr th {\n",
       "        vertical-align: top;\n",
       "    }\n",
       "\n",
       "    .dataframe thead th {\n",
       "        text-align: right;\n",
       "    }\n",
       "</style>\n",
       "<table border=\"1\" class=\"dataframe\">\n",
       "  <thead>\n",
       "    <tr style=\"text-align: right;\">\n",
       "      <th></th>\n",
       "      <th>TractId</th>\n",
       "      <th>State</th>\n",
       "      <th>County</th>\n",
       "      <th>TotalPop</th>\n",
       "      <th>Men</th>\n",
       "      <th>Women</th>\n",
       "      <th>Hispanic</th>\n",
       "      <th>White</th>\n",
       "      <th>Black</th>\n",
       "      <th>Native</th>\n",
       "      <th>...</th>\n",
       "      <th>Walk</th>\n",
       "      <th>OtherTransp</th>\n",
       "      <th>WorkAtHome</th>\n",
       "      <th>MeanCommute</th>\n",
       "      <th>Employed</th>\n",
       "      <th>PrivateWork</th>\n",
       "      <th>PublicWork</th>\n",
       "      <th>SelfEmployed</th>\n",
       "      <th>FamilyWork</th>\n",
       "      <th>Unemployment</th>\n",
       "    </tr>\n",
       "    <tr>\n",
       "      <th>quantized_childPoverty</th>\n",
       "      <th></th>\n",
       "      <th></th>\n",
       "      <th></th>\n",
       "      <th></th>\n",
       "      <th></th>\n",
       "      <th></th>\n",
       "      <th></th>\n",
       "      <th></th>\n",
       "      <th></th>\n",
       "      <th></th>\n",
       "      <th></th>\n",
       "      <th></th>\n",
       "      <th></th>\n",
       "      <th></th>\n",
       "      <th></th>\n",
       "      <th></th>\n",
       "      <th></th>\n",
       "      <th></th>\n",
       "      <th></th>\n",
       "      <th></th>\n",
       "      <th></th>\n",
       "    </tr>\n",
       "  </thead>\n",
       "  <tbody>\n",
       "    <tr>\n",
       "      <th>A</th>\n",
       "      <td>18229</td>\n",
       "      <td>18229</td>\n",
       "      <td>18229</td>\n",
       "      <td>18229</td>\n",
       "      <td>18229</td>\n",
       "      <td>18229</td>\n",
       "      <td>18229</td>\n",
       "      <td>18229</td>\n",
       "      <td>18229</td>\n",
       "      <td>18229</td>\n",
       "      <td>...</td>\n",
       "      <td>18229</td>\n",
       "      <td>18229</td>\n",
       "      <td>18229</td>\n",
       "      <td>18229</td>\n",
       "      <td>18229</td>\n",
       "      <td>18229</td>\n",
       "      <td>18229</td>\n",
       "      <td>18229</td>\n",
       "      <td>18229</td>\n",
       "      <td>18229</td>\n",
       "    </tr>\n",
       "    <tr>\n",
       "      <th>B</th>\n",
       "      <td>18171</td>\n",
       "      <td>18171</td>\n",
       "      <td>18171</td>\n",
       "      <td>18171</td>\n",
       "      <td>18171</td>\n",
       "      <td>18171</td>\n",
       "      <td>18171</td>\n",
       "      <td>18171</td>\n",
       "      <td>18171</td>\n",
       "      <td>18171</td>\n",
       "      <td>...</td>\n",
       "      <td>18171</td>\n",
       "      <td>18171</td>\n",
       "      <td>18171</td>\n",
       "      <td>18171</td>\n",
       "      <td>18171</td>\n",
       "      <td>18171</td>\n",
       "      <td>18171</td>\n",
       "      <td>18171</td>\n",
       "      <td>18171</td>\n",
       "      <td>18171</td>\n",
       "    </tr>\n",
       "    <tr>\n",
       "      <th>C</th>\n",
       "      <td>18148</td>\n",
       "      <td>18148</td>\n",
       "      <td>18148</td>\n",
       "      <td>18148</td>\n",
       "      <td>18148</td>\n",
       "      <td>18148</td>\n",
       "      <td>18148</td>\n",
       "      <td>18148</td>\n",
       "      <td>18148</td>\n",
       "      <td>18148</td>\n",
       "      <td>...</td>\n",
       "      <td>18148</td>\n",
       "      <td>18148</td>\n",
       "      <td>18148</td>\n",
       "      <td>18148</td>\n",
       "      <td>18148</td>\n",
       "      <td>18148</td>\n",
       "      <td>18148</td>\n",
       "      <td>18148</td>\n",
       "      <td>18148</td>\n",
       "      <td>18148</td>\n",
       "    </tr>\n",
       "    <tr>\n",
       "      <th>D</th>\n",
       "      <td>18170</td>\n",
       "      <td>18170</td>\n",
       "      <td>18170</td>\n",
       "      <td>18170</td>\n",
       "      <td>18170</td>\n",
       "      <td>18170</td>\n",
       "      <td>18170</td>\n",
       "      <td>18170</td>\n",
       "      <td>18170</td>\n",
       "      <td>18170</td>\n",
       "      <td>...</td>\n",
       "      <td>18170</td>\n",
       "      <td>18170</td>\n",
       "      <td>18170</td>\n",
       "      <td>18170</td>\n",
       "      <td>18170</td>\n",
       "      <td>18170</td>\n",
       "      <td>18170</td>\n",
       "      <td>18170</td>\n",
       "      <td>18170</td>\n",
       "      <td>18170</td>\n",
       "    </tr>\n",
       "  </tbody>\n",
       "</table>\n",
       "<p>4 rows × 37 columns</p>\n",
       "</div>"
      ],
      "text/plain": [
       "                        TractId  State  County  TotalPop    Men  Women  \\\n",
       "quantized_childPoverty                                                   \n",
       "A                         18229  18229   18229     18229  18229  18229   \n",
       "B                         18171  18171   18171     18171  18171  18171   \n",
       "C                         18148  18148   18148     18148  18148  18148   \n",
       "D                         18170  18170   18170     18170  18170  18170   \n",
       "\n",
       "                        Hispanic  White  Black  Native  ...   Walk  \\\n",
       "quantized_childPoverty                                  ...          \n",
       "A                          18229  18229  18229   18229  ...  18229   \n",
       "B                          18171  18171  18171   18171  ...  18171   \n",
       "C                          18148  18148  18148   18148  ...  18148   \n",
       "D                          18170  18170  18170   18170  ...  18170   \n",
       "\n",
       "                        OtherTransp  WorkAtHome  MeanCommute  Employed  \\\n",
       "quantized_childPoverty                                                   \n",
       "A                             18229       18229        18229     18229   \n",
       "B                             18171       18171        18171     18171   \n",
       "C                             18148       18148        18148     18148   \n",
       "D                             18170       18170        18170     18170   \n",
       "\n",
       "                        PrivateWork  PublicWork  SelfEmployed  FamilyWork  \\\n",
       "quantized_childPoverty                                                      \n",
       "A                             18229       18229         18229       18229   \n",
       "B                             18171       18171         18171       18171   \n",
       "C                             18148       18148         18148       18148   \n",
       "D                             18170       18170         18170       18170   \n",
       "\n",
       "                        Unemployment  \n",
       "quantized_childPoverty                \n",
       "A                              18229  \n",
       "B                              18171  \n",
       "C                              18148  \n",
       "D                              18170  \n",
       "\n",
       "[4 rows x 37 columns]"
      ]
     },
     "execution_count": 25,
     "metadata": {},
     "output_type": "execute_result"
    }
   ],
   "source": [
    "print(len(df))\n",
    "print(len(df)/4)\n",
    "\n",
    "# print(df.ChildPoverty.quantile([0.25,0.5,0.75]))\n",
    "\n",
    "\n",
    "# Uses quantization thresholds for the \"ChildPoverty\" \n",
    "# variable that equally divide the data into four classes\n",
    "# We can change the lables to anything\n",
    "df['quantized_childPoverty'] = pd.qcut(df['ChildPoverty'], 4, labels=['A','B','C','D'])\n",
    "\n",
    "# This just shows that it is seperated for anyone that wants to double check\n",
    "df.quantized_childPoverty.describe()\n",
    "df_grouped = df.groupby(by=['quantized_childPoverty'])\n",
    "df_grouped.count()\n",
    "\n",
    "\n",
    "\n",
    "\n",
    "# q1 = 6.3\n",
    "# q2 = 16.3\n",
    "# q3 = 31.7\n",
    "# print(len(df[df.ChildPoverty < q1]))\n",
    "# print(len(df[df.ChildPoverty.between(q1, q2, inclusive=True)]))\n",
    "# print(len(df[df.ChildPoverty.between(q2, q3, inclusive=False)]))\n",
    "# print(len(df[df.ChildPoverty >= q3]))\n",
    "\n",
    "# df[df.ChildPoverty >= q3] = '31.7-100%'\n",
    "# df[df.ChildPoverty < q3 and df.ChildPoverty > q2] = '16.4-31.6%'\n",
    "# df[df.ChildPoverty < q2] = '6.3- 6.3%'\n",
    "# df[df.ChildPoverty < q1] = '0-6.2%'\n",
    "# # print(len(X_train[X_train.State > 9 & X_train.State < 20]))"
   ]
  },
  {
   "cell_type": "markdown",
   "id": "3875015a",
   "metadata": {},
   "source": [
    "#### 1.3 Split Dataset"
   ]
  },
  {
   "cell_type": "code",
   "execution_count": 26,
   "id": "6b74a3b0",
   "metadata": {
    "scrolled": true
   },
   "outputs": [
    {
     "name": "stdout",
     "output_type": "stream",
     "text": [
      "[[0.000e+00 3.915e+03]\n",
      " [1.000e-01 2.100e+01]\n",
      " [2.000e-01 2.500e+01]\n",
      " ...\n",
      " [9.740e+01 1.000e+00]\n",
      " [9.830e+01 1.000e+00]\n",
      " [1.000e+02 4.900e+01]]\n"
     ]
    }
   ],
   "source": [
    "# Divide your data into training and testing data using an 80% training \n",
    "# and 20% testing split. Use the cross validation modules that are part \n",
    "# of scikit-learn.\n",
    "from sklearn.model_selection import train_test_split\n",
    "\n",
    "X = df.drop(columns = ['ChildPoverty'])\n",
    "y = df['ChildPoverty']\n",
    "X_train, X_test, y_train, y_test = train_test_split(X,y,test_size=0.2, train_size=0.8)\n",
    "\n",
    "unique_ytrain, counts_ytrain = np.unique(y_train, return_counts=True)\n",
    "print(np.asarray((unique_ytrain, counts_ytrain)).T)"
   ]
  },
  {
   "cell_type": "markdown",
   "id": "cd6a5cf2",
   "metadata": {},
   "source": [
    "We balance the training and not the testing set because it is good to balance for training because then we have information for all of our classes but when we are testing, we want to test on the distributuion that would actually be the case in order to get an accurate represenation of the results for testing."
   ]
  },
  {
   "cell_type": "markdown",
   "id": "3c821cc7",
   "metadata": {},
   "source": [
    "### 2. Pre-proccesing"
   ]
  },
  {
   "cell_type": "markdown",
   "id": "957f1fd4",
   "metadata": {},
   "source": [
    "MEGNEMAR for comparing"
   ]
  },
  {
   "cell_type": "markdown",
   "id": "53fa3adf",
   "metadata": {},
   "source": [
    "### 3. Modeling"
   ]
  },
  {
   "cell_type": "markdown",
   "id": "e2bf5e64",
   "metadata": {},
   "source": [
    "Feed forward/ back propogation in for-loop for adding layers"
   ]
  },
  {
   "cell_type": "markdown",
   "id": "3e55130d",
   "metadata": {},
   "source": [
    "### 4. Adaptive momentum (AdaM) "
   ]
  },
  {
   "cell_type": "code",
   "execution_count": null,
   "id": "5bbcdf01",
   "metadata": {},
   "outputs": [],
   "source": []
  }
 ],
 "metadata": {
  "kernelspec": {
   "display_name": "Python 3 (ipykernel)",
   "language": "python",
   "name": "python3"
  },
  "language_info": {
   "codemirror_mode": {
    "name": "ipython",
    "version": 3
   },
   "file_extension": ".py",
   "mimetype": "text/x-python",
   "name": "python",
   "nbconvert_exporter": "python",
   "pygments_lexer": "ipython3",
   "version": "3.9.12"
  }
 },
 "nbformat": 4,
 "nbformat_minor": 5
}
