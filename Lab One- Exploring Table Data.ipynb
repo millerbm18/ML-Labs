{
 "cells": [
  {
   "cell_type": "markdown",
   "source": [
    "# Business Understanding"
   ],
   "metadata": {
    "collapsed": false,
    "pycharm": {
     "name": "#%% md\n"
    }
   }
  },
  {
   "cell_type": "code",
   "execution_count": 1,
   "outputs": [
    {
     "name": "stdout",
     "output_type": "stream",
     "text": [
      "Pandas: 1.4.2\n",
      "Numpy: 1.21.5\n"
     ]
    },
    {
     "data": {
      "text/plain": "     GAME_DATE_EST   GAME_ID GAME_STATUS_TEXT  HOME_TEAM_ID  VISITOR_TEAM_ID  \\\n0       2022-03-12  22101005            Final    1610612748       1610612750   \n1       2022-03-12  22101006            Final    1610612741       1610612739   \n2       2022-03-12  22101007            Final    1610612759       1610612754   \n3       2022-03-12  22101008            Final    1610612744       1610612749   \n4       2022-03-12  22101009            Final    1610612743       1610612761   \n...            ...       ...              ...           ...              ...   \n9995    2009-10-04  10900004            Final    1610612752       1610612751   \n9996    2009-10-04  10900006            Final    1610612750       1610612749   \n9997    2009-10-04  10900005            Final    1610612744       1610612746   \n9998    2009-10-02  10900002            Final    1610612754       1610612741   \n9999    2009-10-01  10900001            Final    1610612762       1610612743   \n\n      SEASON  TEAM_ID_home  PTS_home  FG_PCT_home  FT_PCT_home  ...  AST_home  \\\n0       2021    1610612748     104.0        0.398        0.760  ...      23.0   \n1       2021    1610612741     101.0        0.443        0.933  ...      20.0   \n2       2021    1610612759     108.0        0.412        0.813  ...      28.0   \n3       2021    1610612744     122.0        0.484        0.933  ...      33.0   \n4       2021    1610612743     115.0        0.551        0.750  ...      32.0   \n...      ...           ...       ...          ...          ...  ...       ...   \n9995    2009    1610612752     115.0        0.432        0.743  ...      23.0   \n9996    2009    1610612750     117.0        0.508        0.893  ...      19.0   \n9997    2009    1610612744     108.0        0.437        0.743  ...      24.0   \n9998    2009    1610612754      95.0        0.431        0.839  ...      22.0   \n9999    2009    1610612762     103.0        0.432        0.565  ...      26.0   \n\n      REB_home  TEAM_ID_away  PTS_away  FG_PCT_away  FT_PCT_away  \\\n0         53.0    1610612750     113.0        0.422        0.875   \n1         46.0    1610612739      91.0        0.419        0.824   \n2         52.0    1610612754     119.0        0.489        1.000   \n3         55.0    1610612749     109.0        0.413        0.696   \n4         39.0    1610612761     127.0        0.471        0.760   \n...        ...           ...       ...          ...          ...   \n9995      45.0    1610612751     107.0        0.441        0.732   \n9996      49.0    1610612749     103.0        0.443        0.684   \n9997      43.0    1610612746     101.0        0.493        0.739   \n9998      38.0    1610612741     104.0        0.417        0.861   \n9999      44.0    1610612743      87.0        0.475        0.643   \n\n      FG3_PCT_away  AST_away  REB_away  HOME_TEAM_WINS  \n0            0.357      21.0      46.0               0  \n1            0.208      19.0      40.0               1  \n2            0.389      23.0      47.0               0  \n3            0.386      27.0      39.0               1  \n4            0.387      28.0      50.0               0  \n...            ...       ...       ...             ...  \n9995         0.375      15.0      47.0               1  \n9996         0.350      25.0      24.0               1  \n9997         0.435      27.0      43.0               1  \n9998         0.250      17.0      43.0               0  \n9999         0.308      21.0      37.0               1  \n\n[10000 rows x 21 columns]",
      "text/html": "<div>\n<style scoped>\n    .dataframe tbody tr th:only-of-type {\n        vertical-align: middle;\n    }\n\n    .dataframe tbody tr th {\n        vertical-align: top;\n    }\n\n    .dataframe thead th {\n        text-align: right;\n    }\n</style>\n<table border=\"1\" class=\"dataframe\">\n  <thead>\n    <tr style=\"text-align: right;\">\n      <th></th>\n      <th>GAME_DATE_EST</th>\n      <th>GAME_ID</th>\n      <th>GAME_STATUS_TEXT</th>\n      <th>HOME_TEAM_ID</th>\n      <th>VISITOR_TEAM_ID</th>\n      <th>SEASON</th>\n      <th>TEAM_ID_home</th>\n      <th>PTS_home</th>\n      <th>FG_PCT_home</th>\n      <th>FT_PCT_home</th>\n      <th>...</th>\n      <th>AST_home</th>\n      <th>REB_home</th>\n      <th>TEAM_ID_away</th>\n      <th>PTS_away</th>\n      <th>FG_PCT_away</th>\n      <th>FT_PCT_away</th>\n      <th>FG3_PCT_away</th>\n      <th>AST_away</th>\n      <th>REB_away</th>\n      <th>HOME_TEAM_WINS</th>\n    </tr>\n  </thead>\n  <tbody>\n    <tr>\n      <th>0</th>\n      <td>2022-03-12</td>\n      <td>22101005</td>\n      <td>Final</td>\n      <td>1610612748</td>\n      <td>1610612750</td>\n      <td>2021</td>\n      <td>1610612748</td>\n      <td>104.0</td>\n      <td>0.398</td>\n      <td>0.760</td>\n      <td>...</td>\n      <td>23.0</td>\n      <td>53.0</td>\n      <td>1610612750</td>\n      <td>113.0</td>\n      <td>0.422</td>\n      <td>0.875</td>\n      <td>0.357</td>\n      <td>21.0</td>\n      <td>46.0</td>\n      <td>0</td>\n    </tr>\n    <tr>\n      <th>1</th>\n      <td>2022-03-12</td>\n      <td>22101006</td>\n      <td>Final</td>\n      <td>1610612741</td>\n      <td>1610612739</td>\n      <td>2021</td>\n      <td>1610612741</td>\n      <td>101.0</td>\n      <td>0.443</td>\n      <td>0.933</td>\n      <td>...</td>\n      <td>20.0</td>\n      <td>46.0</td>\n      <td>1610612739</td>\n      <td>91.0</td>\n      <td>0.419</td>\n      <td>0.824</td>\n      <td>0.208</td>\n      <td>19.0</td>\n      <td>40.0</td>\n      <td>1</td>\n    </tr>\n    <tr>\n      <th>2</th>\n      <td>2022-03-12</td>\n      <td>22101007</td>\n      <td>Final</td>\n      <td>1610612759</td>\n      <td>1610612754</td>\n      <td>2021</td>\n      <td>1610612759</td>\n      <td>108.0</td>\n      <td>0.412</td>\n      <td>0.813</td>\n      <td>...</td>\n      <td>28.0</td>\n      <td>52.0</td>\n      <td>1610612754</td>\n      <td>119.0</td>\n      <td>0.489</td>\n      <td>1.000</td>\n      <td>0.389</td>\n      <td>23.0</td>\n      <td>47.0</td>\n      <td>0</td>\n    </tr>\n    <tr>\n      <th>3</th>\n      <td>2022-03-12</td>\n      <td>22101008</td>\n      <td>Final</td>\n      <td>1610612744</td>\n      <td>1610612749</td>\n      <td>2021</td>\n      <td>1610612744</td>\n      <td>122.0</td>\n      <td>0.484</td>\n      <td>0.933</td>\n      <td>...</td>\n      <td>33.0</td>\n      <td>55.0</td>\n      <td>1610612749</td>\n      <td>109.0</td>\n      <td>0.413</td>\n      <td>0.696</td>\n      <td>0.386</td>\n      <td>27.0</td>\n      <td>39.0</td>\n      <td>1</td>\n    </tr>\n    <tr>\n      <th>4</th>\n      <td>2022-03-12</td>\n      <td>22101009</td>\n      <td>Final</td>\n      <td>1610612743</td>\n      <td>1610612761</td>\n      <td>2021</td>\n      <td>1610612743</td>\n      <td>115.0</td>\n      <td>0.551</td>\n      <td>0.750</td>\n      <td>...</td>\n      <td>32.0</td>\n      <td>39.0</td>\n      <td>1610612761</td>\n      <td>127.0</td>\n      <td>0.471</td>\n      <td>0.760</td>\n      <td>0.387</td>\n      <td>28.0</td>\n      <td>50.0</td>\n      <td>0</td>\n    </tr>\n    <tr>\n      <th>...</th>\n      <td>...</td>\n      <td>...</td>\n      <td>...</td>\n      <td>...</td>\n      <td>...</td>\n      <td>...</td>\n      <td>...</td>\n      <td>...</td>\n      <td>...</td>\n      <td>...</td>\n      <td>...</td>\n      <td>...</td>\n      <td>...</td>\n      <td>...</td>\n      <td>...</td>\n      <td>...</td>\n      <td>...</td>\n      <td>...</td>\n      <td>...</td>\n      <td>...</td>\n      <td>...</td>\n    </tr>\n    <tr>\n      <th>9995</th>\n      <td>2009-10-04</td>\n      <td>10900004</td>\n      <td>Final</td>\n      <td>1610612752</td>\n      <td>1610612751</td>\n      <td>2009</td>\n      <td>1610612752</td>\n      <td>115.0</td>\n      <td>0.432</td>\n      <td>0.743</td>\n      <td>...</td>\n      <td>23.0</td>\n      <td>45.0</td>\n      <td>1610612751</td>\n      <td>107.0</td>\n      <td>0.441</td>\n      <td>0.732</td>\n      <td>0.375</td>\n      <td>15.0</td>\n      <td>47.0</td>\n      <td>1</td>\n    </tr>\n    <tr>\n      <th>9996</th>\n      <td>2009-10-04</td>\n      <td>10900006</td>\n      <td>Final</td>\n      <td>1610612750</td>\n      <td>1610612749</td>\n      <td>2009</td>\n      <td>1610612750</td>\n      <td>117.0</td>\n      <td>0.508</td>\n      <td>0.893</td>\n      <td>...</td>\n      <td>19.0</td>\n      <td>49.0</td>\n      <td>1610612749</td>\n      <td>103.0</td>\n      <td>0.443</td>\n      <td>0.684</td>\n      <td>0.350</td>\n      <td>25.0</td>\n      <td>24.0</td>\n      <td>1</td>\n    </tr>\n    <tr>\n      <th>9997</th>\n      <td>2009-10-04</td>\n      <td>10900005</td>\n      <td>Final</td>\n      <td>1610612744</td>\n      <td>1610612746</td>\n      <td>2009</td>\n      <td>1610612744</td>\n      <td>108.0</td>\n      <td>0.437</td>\n      <td>0.743</td>\n      <td>...</td>\n      <td>24.0</td>\n      <td>43.0</td>\n      <td>1610612746</td>\n      <td>101.0</td>\n      <td>0.493</td>\n      <td>0.739</td>\n      <td>0.435</td>\n      <td>27.0</td>\n      <td>43.0</td>\n      <td>1</td>\n    </tr>\n    <tr>\n      <th>9998</th>\n      <td>2009-10-02</td>\n      <td>10900002</td>\n      <td>Final</td>\n      <td>1610612754</td>\n      <td>1610612741</td>\n      <td>2009</td>\n      <td>1610612754</td>\n      <td>95.0</td>\n      <td>0.431</td>\n      <td>0.839</td>\n      <td>...</td>\n      <td>22.0</td>\n      <td>38.0</td>\n      <td>1610612741</td>\n      <td>104.0</td>\n      <td>0.417</td>\n      <td>0.861</td>\n      <td>0.250</td>\n      <td>17.0</td>\n      <td>43.0</td>\n      <td>0</td>\n    </tr>\n    <tr>\n      <th>9999</th>\n      <td>2009-10-01</td>\n      <td>10900001</td>\n      <td>Final</td>\n      <td>1610612762</td>\n      <td>1610612743</td>\n      <td>2009</td>\n      <td>1610612762</td>\n      <td>103.0</td>\n      <td>0.432</td>\n      <td>0.565</td>\n      <td>...</td>\n      <td>26.0</td>\n      <td>44.0</td>\n      <td>1610612743</td>\n      <td>87.0</td>\n      <td>0.475</td>\n      <td>0.643</td>\n      <td>0.308</td>\n      <td>21.0</td>\n      <td>37.0</td>\n      <td>1</td>\n    </tr>\n  </tbody>\n</table>\n<p>10000 rows × 21 columns</p>\n</div>"
     },
     "execution_count": 1,
     "metadata": {},
     "output_type": "execute_result"
    }
   ],
   "source": [
    "import pandas as pd\n",
    "import numpy as np\n",
    "\n",
    "print('Pandas:', pd.__version__)\n",
    "print('Numpy:',np.__version__)\n",
    "df = pd.read_csv('NBA_datasets/games.csv') # read in the csv file\n",
    "df.head(n = 100)"
   ],
   "metadata": {
    "collapsed": false,
    "pycharm": {
     "name": "#%%\n"
    }
   }
  },
  {
   "cell_type": "code",
   "execution_count": 11,
   "outputs": [],
   "source": [],
   "metadata": {
    "collapsed": false,
    "pycharm": {
     "name": "#%%\n"
    }
   }
  }
 ],
 "metadata": {
  "kernelspec": {
   "display_name": "Python 3 (ipykernel)",
   "language": "python",
   "name": "python3"
  },
  "language_info": {
   "codemirror_mode": {
    "name": "ipython",
    "version": 3
   },
   "file_extension": ".py",
   "mimetype": "text/x-python",
   "name": "python",
   "nbconvert_exporter": "python",
   "pygments_lexer": "ipython3",
   "version": "3.9.12"
  }
 },
 "nbformat": 4,
 "nbformat_minor": 5
}