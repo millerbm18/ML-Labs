{
 "cells": [
  {
   "cell_type": "markdown",
   "id": "00365c10",
   "metadata": {
    "pycharm": {
     "name": "#%% md\n"
    }
   },
   "source": [
    "# Lab Assignment One: Exploring Table Data\n",
    "\n",
    "#### Everett Cienkus, Blake Miller, Colin Weil"
   ]
  },
  {
   "cell_type": "markdown",
   "source": [
    "### 1. Business Understanding\n",
    "This dataset can be useful for various parties, including NBA teams, coaches, players, sports bettors, or anyone looking to better understand basketball statistics. In our exploration, we will be specifically looking at the application of this data for an NBA team General Manager.\n",
    "\n",
    "According to www.investopedia.com, of the 30 NBA teams \"a team is worth on average $2.12 billion\", and \"total revenue across the organization reached 8.76 billion in the 2018-2019 season.\" This makes the role of a GM extremely important, as they must manage a multi-billion dollar business.\n",
    "\n",
    "Through analyzing thousands of NBA game data from this dataset, a GM could make better-informed decisions on what statistics are most impactful on the game, and use that information to draft players which have the strengths that they need to build their team. If a machine learning algorithm used this data set, the algorithm could show the managers of an NBA team where they can improve their team. This data would allow the team to draft players that have strengths in these areas of weakness. To ensure that this algorithm would be feasible, the accuracy would have to be 60.29% accurate. This percentage was used because this was the average win percentage of the teams that made the playoffs last year. To determine if the algorithm produces a correct result, the drafted player would have to increase the number of wins for a team that did not make the playoffs the year before, or ensure that the team stays in the playoffs if they did make the playoffs the year before."
   ],
   "metadata": {
    "collapsed": false,
    "pycharm": {
     "name": "#%% md\n"
    }
   }
  },
  {
   "cell_type": "code",
   "execution_count": null,
   "outputs": [],
   "source": [
    "## 2. Data Understanding"
   ],
   "metadata": {
    "collapsed": false,
    "pycharm": {
     "name": "#%%\n"
    }
   }
  },
  {
   "cell_type": "markdown",
   "source": [
    "### 2.1 Data Description"
   ],
   "metadata": {
    "collapsed": false,
    "pycharm": {
     "name": "#%% md\n"
    }
   }
  },
  {
   "cell_type": "code",
   "execution_count": null,
   "outputs": [],
   "source": [
    "import pandas as pd\n",
    "import numpy as np\n",
    "\n",
    "print('Pandas:', pd.__version__)\n",
    "print('Numpy:',np.__version__)\n",
    "df = pd.read_csv('NBA_datasets/games.csv') # read in the csv file\n",
    "#Split stats into home and away\n",
    "home_df = df[[\"GAME_DATE_EST\",\"PTS_home\",\"FG_PCT_home\",\"FT_PCT_home\",\"FG3_PCT_home\",\"AST_home\",\"REB_home\", \"HOME_TEAM_WINS\"]]\n",
    "away_df = df[[\"GAME_DATE_EST\",\"PTS_away\",\"FG_PCT_away\",\"FT_PCT_away\",\"FG3_PCT_away\",\"AST_away\",\"REB_away\", \"HOME_TEAM_WINS\"]]\n",
    "\n",
    "#Convert HOME_TEAM_WINS the to appropriate value based on home or away team\n",
    "home_df=home_df.rename(columns={'HOME_TEAM_WINS':'WIN'})\n",
    "away_df=away_df.rename(columns={'HOME_TEAM_WINS':'WIN'})\n",
    "away_df[\"WIN\"]=np.logical_not(away_df[\"WIN\"]).astype(int)\n",
    "\n",
    "home_df.columns = ['GAME_DATE_EST', 'PTS', 'FG_PCT', 'FT_PCT', 'FG3_PCT', 'AST', 'REB', 'WIN']\n",
    "home_df[\"HOME\"]= 1\n",
    "away_df.columns = ['GAME_DATE_EST', 'PTS', 'FG_PCT', 'FT_PCT', 'FG3_PCT', 'AST', 'REB', 'WIN']\n",
    "away_df[\"HOME\"]= 0\n",
    "df = pd.concat([home_df, away_df])\n",
    "df['GAME_DATE_EST'] = pd.DatetimeIndex(df['GAME_DATE_EST']).year\n",
    "\n",
    "#display\n",
    "display(df.head())"
   ],
   "metadata": {
    "collapsed": false,
    "pycharm": {
     "name": "#%%\n"
    }
   }
  },
  {
   "cell_type": "markdown",
   "source": [
    "Home and away statistics were originally in the same instance. We split each instance into two, one instance representing the home game and one representing the away game played. The home feature is shown as 1 for a home game and a 0 as not home (away).\n",
    "Also, the GAME_DATE_EST was originally a full date but we changed that to be just the year."
   ],
   "metadata": {
    "collapsed": false,
    "pycharm": {
     "name": "#%% md\n"
    }
   }
  },
  {
   "cell_type": "code",
   "execution_count": null,
   "outputs": [],
   "source": [
    "# find the data summary\n",
    "display(df.describe())"
   ],
   "metadata": {
    "collapsed": false,
    "pycharm": {
     "name": "#%%\n"
    }
   }
  },
  {
   "cell_type": "code",
   "execution_count": null,
   "outputs": [],
   "source": [
    "# create a data description table\n",
    "data_des = pd.DataFrame()\n",
    "\n",
    "data_des['Features'] = df.columns\n",
    "\n",
    "data_des['Description'] = ['date the game occured', 'number of points scored', 'percentage of all shots made',\n",
    "                          'percentage of free throws made', 'percentage of three point shots made',\n",
    "                          'number of assists', 'number of rebounds',\n",
    "                          'whether the game was won', 'whether the team was home or away']\n",
    "\n",
    "data_des['Scales'] = ['ordinal'] * 2 + ['ratio'] * 3 + ['ordinal'] * 2 + ['norminal'] * 2\n",
    "\n",
    "data_des['Discrete\\Continuous'] = ['discrete'] + ['continuous'] * 6  + ['discrete'] * 2\n",
    "\n",
    "data_des['Range'] = ['Placeholder','33 - 168','.244 - .687','.143 - 1','0 - 1','4 - 50','15 - 81','0: No; 1: Yes','0: No; 1: Yes']\n",
    "\n",
    "data_des"
   ],
   "metadata": {
    "collapsed": false,
    "pycharm": {
     "name": "#%%\n"
    }
   }
  },
  {
   "cell_type": "markdown",
   "source": [
    "The table above shows the features description, scales, discrete or continuous classification, and range."
   ],
   "metadata": {
    "collapsed": false,
    "pycharm": {
     "name": "#%% md\n"
    }
   }
  },
  {
   "cell_type": "markdown",
   "source": [
    "### 2.2 Data Quality"
   ],
   "metadata": {
    "collapsed": false,
    "pycharm": {
     "name": "#%% md\n"
    }
   }
  },
  {
   "cell_type": "code",
   "execution_count": null,
   "outputs": [],
   "source": [
    "# find the data type\n",
    "print('Number of missing values: ', df['PTS'].isna().sum())\n",
    "df = df.dropna()\n",
    "print(df.info())"
   ],
   "metadata": {
    "collapsed": false,
    "pycharm": {
     "name": "#%%\n"
    }
   }
  },
  {
   "cell_type": "markdown",
   "source": [
    "Based on the datafram information, we found that there were 198 missing values found in the dataset (out of 51394 instances). Since we broke the away games and home games in two, the original number of missing values was only 99 (out of 25796 instances). \n",
    "\n",
    "We decided to remove the instances because the missing values were for all of the features so they didn't add any statistical data."
   ],
   "metadata": {
    "collapsed": false,
    "pycharm": {
     "name": "#%% md\n"
    }
   }
  },
  {
   "cell_type": "code",
   "execution_count": null,
   "outputs": [],
   "source": [
    "# find the duplicate instances\n",
    "idx = df.duplicated()\n",
    "\n",
    "# find the number of duplicate (not first show)\n",
    "print('Number of duplicate instances: ',len(df[idx]))\n",
    "\n",
    "# df.drop_duplicates()\n",
    "df[idx]"
   ],
   "metadata": {
    "collapsed": false,
    "pycharm": {
     "name": "#%%\n"
    }
   }
  },
  {
   "cell_type": "markdown",
   "source": [
    "After removing the missing values, we looked to see if there were duplicated values.\n",
    "\n",
    "By running pandas.duplicated(), it was returned that 28 instances were duplicated. After further investigation of the data, we can see that the games were actually not duplicates by comparing the teams and dates. We cross-referenced the duplicate table with the original database and saw that these games that came back as duplicated had unique date+team combinations. This shows that there were no duplications because teams only play one game a day. By removing the team feature and modifying the date feature to only include the year, we might have changed the algorithm to find duplicate instances."
   ],
   "metadata": {
    "collapsed": false,
    "pycharm": {
     "name": "#%% md\n"
    }
   }
  },
  {
   "cell_type": "markdown",
   "source": [
    "Lastly, for the data quality, we decided to keep outliers because outlier statistics for sports games are very important. Games where teams play exceptionally well in certain features can explain a lot on how they play against other teams as well as what team compositions play well together."
   ],
   "metadata": {
    "collapsed": false,
    "pycharm": {
     "name": "#%% md\n"
    }
   }
  },
  {
   "cell_type": "markdown",
   "source": [
    "## 3. Data Visualization"
   ],
   "metadata": {
    "collapsed": false,
    "pycharm": {
     "name": "#%% md\n"
    }
   }
  },
  {
   "cell_type": "markdown",
   "source": [
    "### 3.1 Data Exploration"
   ],
   "metadata": {
    "collapsed": false,
    "pycharm": {
     "name": "#%% md\n"
    }
   }
  },
  {
   "cell_type": "code",
   "execution_count": null,
   "outputs": [],
   "source": [
    "import matplotlib.pyplot as plt\n",
    "import warnings\n",
    "import seaborn as sns\n",
    "warnings.simplefilter('ignore', DeprecationWarning)\n",
    "np.warnings.filterwarnings('ignore')\n",
    "%matplotlib inline"
   ],
   "metadata": {
    "collapsed": false,
    "pycharm": {
     "name": "#%%\n"
    }
   }
  },
  {
   "cell_type": "code",
   "execution_count": null,
   "outputs": [],
   "source": [
    "df_wins = df[df['WIN'] == 1]\n",
    "df_losses =  df[df['WIN'] == 0]"
   ],
   "metadata": {
    "collapsed": false,
    "pycharm": {
     "name": "#%%\n"
    }
   }
  },
  {
   "cell_type": "markdown",
   "source": [
    "#### 3.1.1 Points by Win/Loss"
   ],
   "metadata": {
    "collapsed": false,
    "pycharm": {
     "name": "#%% md\n"
    }
   }
  },
  {
   "cell_type": "code",
   "execution_count": null,
   "outputs": [],
   "source": [
    "plt.figure(figsize=(20,10))\n",
    "\n",
    "plt.subplot(1,2,1)\n",
    "sns.distplot(df_losses.PTS)\n",
    "sns.distplot(df_wins.PTS)\n",
    "plt.title('Distribution of Points for Win vs Loss')\n",
    "\n",
    "\n",
    "ax2 = plt.subplot(1,2,2)\n",
    "sns.violinplot(x=\"WIN\", y=\"PTS\", data=df)\n",
    "plt.title('Violin Plot of Points for Win vs Loss')"
   ],
   "metadata": {
    "collapsed": false,
    "pycharm": {
     "name": "#%%\n"
    }
   }
  },
  {
   "cell_type": "markdown",
   "source": [
    "As shown by the histogram, points distribution is normal both for wins and losses. \n",
    "\n",
    "As shown by the Violin plots, the median and IQR of wins is obviously higher than that of the loss. The median seems to be around 10 higher for the wins than losses so teams that win score 10 more points than teams that lose on average. This shows that scoring more points, in general, is important to win which is logical because the team that scores more points is the team that wins the game."
   ],
   "metadata": {
    "collapsed": false,
    "pycharm": {
     "name": "#%% md\n"
    }
   }
  },
  {
   "cell_type": "markdown",
   "source": [
    "#### 3.1.2 Field Goal Percent by Win/Loss"
   ],
   "metadata": {
    "collapsed": false,
    "pycharm": {
     "name": "#%% md\n"
    }
   }
  },
  {
   "cell_type": "code",
   "execution_count": null,
   "outputs": [],
   "source": [
    "plt.figure(figsize=(20,10))\n",
    "\n",
    "plt.subplot(1,2,1)\n",
    "sns.distplot(df_losses.FG_PCT)\n",
    "sns.distplot(df_wins.FG_PCT)\n",
    "plt.title('Distribution of Field Goal Percent for Win vs Loss')\n",
    "\n",
    "\n",
    "ax2 = plt.subplot(1,2,2)\n",
    "sns.violinplot(x=\"WIN\", y=\"FG_PCT\", data=df)\n",
    "plt.title('Violin Plot of Field Goal Percent for Win vs Loss')"
   ],
   "metadata": {
    "collapsed": false,
    "pycharm": {
     "name": "#%%\n"
    }
   }
  },
  {
   "cell_type": "markdown",
   "source": [
    "As shown by the histogram, field goal percentage distribution is normal both for wins and losses. \n",
    "\n",
    "As shown by the Violin plots, the median and IQR of wins is higher than that of the loss. This shows that having a higher field goal percentage is important to win because it means the more shots you make which means more points."
   ],
   "metadata": {
    "collapsed": false,
    "pycharm": {
     "name": "#%% md\n"
    }
   }
  },
  {
   "cell_type": "markdown",
   "source": [
    "#### 3.1.3 Free Throw Percent by Win/Loss"
   ],
   "metadata": {
    "collapsed": false,
    "pycharm": {
     "name": "#%% md\n"
    }
   }
  },
  {
   "cell_type": "code",
   "execution_count": null,
   "outputs": [],
   "source": [
    "plt.figure(figsize=(20,10))\n",
    "\n",
    "plt.subplot(1,2,1)\n",
    "sns.distplot(df_losses.FT_PCT)\n",
    "sns.distplot(df_wins.FT_PCT)\n",
    "plt.title('Distribution of Free Throw Percent for Win vs Loss')\n",
    "\n",
    "\n",
    "ax2 = plt.subplot(1,2,2)\n",
    "sns.violinplot(x=\"WIN\", y=\"FT_PCT\", data=df, split=False)\n",
    "plt.title('Violin Plot of Free Throw Percent Win vs Loss')"
   ],
   "metadata": {
    "collapsed": false,
    "pycharm": {
     "name": "#%%\n"
    }
   }
  },
  {
   "cell_type": "markdown",
   "source": [
    "As shown by the histogram, field throw percentage distribution is normal both for wins and losses. \n",
    "\n",
    "As shown by the Violin plots, the median and IQR of wins and losses are very similar. This is very interesting because this means that players are very consistent in their free throws. This makes sense because it is an uncontested shot that many good players practice and have a very good free throw percentage. This shows that this feature is probably the least useful for winning games compared to the others."
   ],
   "metadata": {
    "collapsed": false,
    "pycharm": {
     "name": "#%% md\n"
    }
   }
  },
  {
   "cell_type": "markdown",
   "source": [
    "#### 3.1.4   3-Point Percentage by Win/Loss"
   ],
   "metadata": {
    "collapsed": false,
    "pycharm": {
     "name": "#%% md\n"
    }
   }
  },
  {
   "cell_type": "code",
   "execution_count": null,
   "outputs": [],
   "source": [
    "plt.figure(figsize=(20,10))\n",
    "\n",
    "plt.subplot(1,2,1)\n",
    "sns.distplot(df_losses.FG3_PCT)\n",
    "sns.distplot(df_wins.FG3_PCT)\n",
    "plt.title('Distribution of 3-Point Percentage for Win vs Loss')\n",
    "\n",
    "\n",
    "ax2 = plt.subplot(1,2,2)\n",
    "sns.violinplot(x=\"WIN\", y=\"FG3_PCT\", data=df)\n",
    "plt.title('Violin Plot of 3-Point Percentage for Win vs Loss')"
   ],
   "metadata": {
    "collapsed": false,
    "pycharm": {
     "name": "#%%\n"
    }
   }
  },
  {
   "cell_type": "markdown",
   "source": [
    "As shown by the histogram, 3-point percentage distribution is normal both for wins and losses. \n",
    "\n",
    "As shown by the Violin plots, the median and IQR of wins is higher than that of the loss. This shows that having a higher 3-point percentage is important to win because it means more points worth three points which is better to win games. 3-point shots have changed the NBA in recent years and we will explore this later in section 3.2."
   ],
   "metadata": {
    "collapsed": false,
    "pycharm": {
     "name": "#%% md\n"
    }
   }
  },
  {
   "cell_type": "markdown",
   "source": [
    "#### 3.1.5 Assists by Win/ Loss"
   ],
   "metadata": {
    "collapsed": false,
    "pycharm": {
     "name": "#%% md\n"
    }
   }
  },
  {
   "cell_type": "code",
   "execution_count": null,
   "outputs": [],
   "source": [
    "plt.figure(figsize=(20,10))\n",
    "\n",
    "plt.subplot(1,2,1)\n",
    "sns.distplot(df_losses.AST)\n",
    "sns.distplot(df_wins.AST)\n",
    "plt.title('Distribution of Assists for Win vs Loss')\n",
    "\n",
    "\n",
    "ax2 = plt.subplot(1,2,2)\n",
    "sns.violinplot(x=\"WIN\", y=\"AST\", data=df)\n",
    "plt.title('Violin Plot of Assists for Win vs Loss')"
   ],
   "metadata": {
    "collapsed": false,
    "pycharm": {
     "name": "#%%\n"
    }
   }
  },
  {
   "cell_type": "markdown",
   "source": [
    "As shown by the histogram, assist distribution is normal both for wins and losses. \n",
    "\n",
    "As shown by the Violin plots, the median and IQR of wins is higher than that of the loss. This shows that having more assists is important to win because that means more passes to people who make shots for more points to win. After points, assists has the biggest difference in distributions which makes sense because assists and points tend to be correlated since most points are scored by someone passing to another person."
   ],
   "metadata": {
    "collapsed": false,
    "pycharm": {
     "name": "#%% md\n"
    }
   }
  },
  {
   "cell_type": "markdown",
   "source": [
    "#### 3.1.6 Rebounds by Win/ Loss"
   ],
   "metadata": {
    "collapsed": false,
    "pycharm": {
     "name": "#%% md\n"
    }
   }
  },
  {
   "cell_type": "code",
   "execution_count": null,
   "outputs": [],
   "source": [
    "plt.figure(figsize=(20,10))\n",
    "\n",
    "plt.subplot(1,2,1)\n",
    "sns.distplot(df_losses.REB)\n",
    "sns.distplot(df_wins.REB)\n",
    "plt.title('Distribution of Rebounds for Win vs Loss')\n",
    "\n",
    "\n",
    "ax2 = plt.subplot(1,2,2)\n",
    "sns.violinplot(x=\"WIN\", y=\"REB\", data=df)\n",
    "plt.title('Violin Plot of Rebounds for Win vs Loss')"
   ],
   "metadata": {
    "collapsed": false,
    "pycharm": {
     "name": "#%%\n"
    }
   }
  },
  {
   "cell_type": "markdown",
   "source": [
    "As shown by the histogram, rebound distribution is normal both for wins and losses. \n",
    "\n",
    "As shown by the Violin plots, the median and IQR of rebound is higher than that of the loss. This shows that having more assists is important to win because more rebounds means more opportunities to score on offense or fewer opportunities for your opponent to score while you are on defense. After free throw percentage, rebounds has the least difference in distributions which is an interesting thing to note as a GM because having a point scorer is more important than someone that can only rebound."
   ],
   "metadata": {
    "collapsed": false,
    "pycharm": {
     "name": "#%% md\n"
    }
   }
  },
  {
   "cell_type": "markdown",
   "source": [
    "#### 3.1.7 Wins per Year"
   ],
   "metadata": {
    "collapsed": false,
    "pycharm": {
     "name": "#%% md\n"
    }
   }
  },
  {
   "cell_type": "code",
   "execution_count": null,
   "outputs": [],
   "source": [
    "list_year_games = pd.Series(df.groupby('GAME_DATE_EST')['WIN'].sum()).to_list()\n",
    "list_years = df['GAME_DATE_EST'].unique()\n",
    "list_years.sort()\n",
    "\n",
    "df_years_games = pd.DataFrame({'YEAR': list_years, 'NUM_GAMES':list_year_games })\n",
    "\n",
    "plt.figure(figsize=(20,10))\n",
    "sns.barplot(data=df_years_games, x='YEAR', y='NUM_GAMES')\n",
    "plt.title('Games Per Year')\n",
    "\n",
    "print(df_years_games)"
   ],
   "metadata": {
    "collapsed": false,
    "pycharm": {
     "name": "#%%\n"
    }
   }
  },
  {
   "cell_type": "markdown",
   "source": [
    "This bar chart gives some interesting information about how many games were played in each season and also how many games were recorded from each season. The low seasons like 2003, 2011, 2020, and 2022 give some information.\n",
    "\n",
    "The 2003 and 2022 seasons were probably when the data started and stopped being collected which explains their limited games but 2011 and 2020 are short for different reasons. In 2011 there was a lockout so there were not as many games played and in 2020 COVID-19 came to the United States and cut the season short. Both of these facts might make us want to focus on these seasons if there is a similar situation to them in the future or take them out of the data if there are outliers compared to the other seasons. In general, there does not seem to be outliers caused by these seasons, but there are some niche effects caused by them which we discuss more in section 3.2."
   ],
   "metadata": {
    "collapsed": false,
    "pycharm": {
     "name": "#%% md\n"
    }
   }
  },
  {
   "cell_type": "markdown",
   "source": [
    "#### 3.1.8 Wins by Home or Away"
   ],
   "metadata": {
    "collapsed": false,
    "pycharm": {
     "name": "#%% md\n"
    }
   }
  },
  {
   "cell_type": "code",
   "execution_count": null,
   "outputs": [],
   "source": [
    "num_home_wins = len(df_wins[(df_wins['HOME'] == 1)])\n",
    "num_away_wins = len(df_wins[(df_wins['HOME'] == 0)])\n",
    "\n",
    "home_win_perc = num_home_wins / len(df[df['HOME'] == 1])\n",
    "away_win_perc = num_away_wins / len(df[df['HOME'] == 0])\n",
    "\n",
    "plt.figure(figsize=(10,10))\n",
    "\n",
    "df_num_wins_home_away = pd.DataFrame({'HOME': ['YES','NO'], 'NUM_WINS':[num_home_wins, num_away_wins] })\n",
    "sns.barplot(data=df_num_wins_home_away, x='HOME', y='NUM_WINS')\n",
    "plt.title('Number of Wins Home and Away')\n",
    "\n",
    "print('Total number of wins home: ', num_home_wins)\n",
    "print('Total number of games home: ', len(df[df['HOME'] == 1]))\n",
    "print('Total number of wins away: ', num_away_wins)\n",
    "print('Total number of games away: ', len(df[df['HOME'] == 0]))"
   ],
   "metadata": {
    "collapsed": false,
    "pycharm": {
     "name": "#%%\n"
    }
   }
  },
  {
   "cell_type": "markdown",
   "source": [
    "This data and bar chart show that playing at home makes a significant difference in winning games. In all sports, teams and players tend to be more comfortable at home because they don't have to fly or travel to the game, they are used to the court that they practice on, and their fans supporting them all makes big difference. This data supports the 'Home Team Advantage' phenomenon in the NBA."
   ],
   "metadata": {
    "collapsed": false,
    "pycharm": {
     "name": "#%% md\n"
    }
   }
  },
  {
   "cell_type": "markdown",
   "source": [
    "### 3.2 Data Relationship Exploration"
   ],
   "metadata": {
    "collapsed": false,
    "pycharm": {
     "name": "#%% md\n"
    }
   }
  },
  {
   "cell_type": "markdown",
   "source": [
    "#### QUESTIONS:\n",
    "1. What is the most important stat for winning games (is there a difference for home and away)?\n",
    "2. Is there a correlation of Winning/ 3pts through the years?\n",
    "3. Throughout the years, has playing at home become more or less important for winning?\n",
    "\n",
    "#### 3.2.1 What is the most important stat for winning games?"
   ],
   "metadata": {
    "collapsed": false,
    "pycharm": {
     "name": "#%% md\n"
    }
   }
  },
  {
   "cell_type": "code",
   "execution_count": null,
   "outputs": [],
   "source": [
    "import seaborn as sns\n",
    "#sns.pairplot(df, hue='WIN')"
   ],
   "metadata": {
    "collapsed": false,
    "pycharm": {
     "name": "#%%\n"
    }
   }
  },
  {
   "cell_type": "code",
   "execution_count": null,
   "outputs": [],
   "source": [
    "import matplotlib.pyplot as plt\n",
    "cmap = sns.diverging_palette(220, 10, as_cmap=True)\n",
    "sns.set(style=\"darkgrid\") # one of the many styles to plot using\n",
    "plt.figure(figsize=(20,10))\n",
    "ax1 = plt.subplot(1,2,1)\n",
    "ax2 = plt.subplot(1,2,2)\n",
    "#f, ax = plt.subplots(figsize=(7, 7))\n",
    "sns.heatmap(away_df.drop(columns=[\"HOME\"]).corr(), cmap=cmap, annot=True, ax = ax1)\n",
    "ax1.title.set_text('Away Correlation Matrix')\n",
    "sns.heatmap(home_df.drop(columns=[\"HOME\"]).corr(), cmap=cmap, annot=True, ax = ax2)\n",
    "ax2.title.set_text('Home Correlation Matrix')"
   ],
   "metadata": {
    "collapsed": false,
    "pycharm": {
     "name": "#%%\n"
    }
   }
  },
  {
   "cell_type": "markdown",
   "source": [
    "According to the correlation table, we can see that \"FG_PCT\" (Field Goal Percentage) has the highest correlation with winning. Whether the team is home or away, this statistic stays as the statistic with the highest correlation with winning. Another statistic that has a very high correlation with winning is \"PTS\" (Points). To win the game, the team must score more points than the opposing team, meaning the more points the better. However, this table shows that it is more important to score a higher percentage of shots than it is to score as many points as possible."
   ],
   "metadata": {
    "collapsed": false,
    "pycharm": {
     "name": "#%% md\n"
    }
   }
  },
  {
   "cell_type": "markdown",
   "source": [
    "#### 3.2.2 Is there a correlation of Winning/ 3pts through the years?"
   ],
   "metadata": {
    "collapsed": false,
    "pycharm": {
     "name": "#%% md\n"
    }
   }
  },
  {
   "cell_type": "code",
   "execution_count": null,
   "outputs": [],
   "source": [
    "\n",
    "corr_df = df\n",
    "corr_df=[corr_df[corr_df['GAME_DATE_EST'] == y] for y in corr_df['GAME_DATE_EST'].unique()]\n",
    "years = []\n",
    "corr = []\n",
    "for x in corr_df:\n",
    "    years.append(x.GAME_DATE_EST.unique()[0])\n",
    "    corr.append(x.corr().FG3_PCT['WIN'])\n",
    "\n",
    "plt.subplots(figsize=(20, 5))\n",
    "plt.subplot(1,1,1)\n",
    "sns.lineplot(years, corr)\n",
    "plt.title(\"3pt FG Correlation With Win Over the Seasons\")\n",
    "plt.show()"
   ],
   "metadata": {
    "collapsed": false,
    "pycharm": {
     "name": "#%%\n"
    }
   }
  },
  {
   "cell_type": "markdown",
   "source": [
    "According to the graph above, over the years, the correlation between \"3pt FG\" (3-point shots made) and \"Win\" (whether the team won or not) increased. This data shows that the play style of the game of basketball has changed over the years. The game of basketball used to be a more physical sport, but as skills and ball handling increases, players are able to take advantage of the 3-point shot. The shot is worth more points, allowing the team to score more points per possession."
   ],
   "metadata": {
    "collapsed": false,
    "pycharm": {
     "name": "#%% md\n"
    }
   }
  },
  {
   "cell_type": "markdown",
   "source": [
    "#### 3.2.3 Home vs Away Wins by Year"
   ],
   "metadata": {
    "collapsed": false,
    "pycharm": {
     "name": "#%% md\n"
    }
   }
  },
  {
   "cell_type": "code",
   "execution_count": null,
   "outputs": [],
   "source": [
    "# the cross tab operator provides an easy way to get these numbers\n",
    "df_wins = (df[(df['WIN'] == 1)])\n",
    "df_home = (df[(df['HOME'] == 1)])\n",
    "plt.figure(figsize=(20,10))\n",
    "ax1 = plt.subplot(1,2,1)\n",
    "ax2 = plt.subplot(1,2,2)\n",
    "\n",
    "pd.crosstab([df_home['GAME_DATE_EST']], df_home.WIN.astype(bool)).plot(kind='bar', stacked=True, ax = ax1, color = ['red', 'green'])\n",
    "ax1.title.set_text('Total Home Wins and Losses')\n",
    "\n",
    "df_wins = pd.crosstab([df_home['GAME_DATE_EST']], df_home.WIN.astype(bool))\n",
    "win_rate = df_wins.div(df_wins.sum(1).astype(float), axis=0)\n",
    "win_rate.plot(kind = 'bar', stacked = True,  ax = ax2, color = ['red', 'green'])\n",
    "ax2.title.set_text('Ratio of Home Wins to Losses')"
   ],
   "metadata": {
    "collapsed": false,
    "pycharm": {
     "name": "#%%\n"
    }
   }
  },
  {
   "cell_type": "markdown",
   "source": [
    "The graph on the left shows the total amount of wins and losses per year since 2003. The graph on the right shows the winning percentage of the home team. The graph on the right allows us to compare years by creating the ratio of wins to loss, putting all the years on a comparable scale. The trend in the graph to the right shows that the ratio of losses to wins is increasing, meaning that teams are losing at home more than they have before. This could be due to many reasons; coaches could be training their players to dismiss distractions or maybe the league is putting restrictions on stadiums which is causing fans to be tamer. An interesting piece of information can be seen in the year 2020. Due to covid, a majority of the 2020 season was played in Orlando, Florida in a controlled, \"covid-free\", environment. In this environment, the teams were never playing at their home stadiums, preventing the crowd to influence the game. The graph on the right shows that the 2020 season was the season where the ratio of home wins to losses was the closest to even. This shows the impact a crowd or stadium can have on a game."
   ],
   "metadata": {
    "collapsed": false,
    "pycharm": {
     "name": "#%% md\n"
    }
   }
  },
  {
   "cell_type": "markdown",
   "source": [
    "## 4. Dimensionality Reduction\n",
    "\n",
    "UMAP is a dimensionality reduction algorithm that works by creating a connected graph of all the points in a dataset. Each of the datapoints are given radii. If the radii of two datapoints intersect then they are considered neighbors, and a connection is made in the graph. The size of the radii is also varying; points that are in dense regions have smaller radii, while points in less dense regions have larger radii. Density is defined as higher when the $k$th nearest neighbor is close, and lower when the $k$th nearest neighbor is far. Using a larger $k$ value will keep local structure preserved in the projection, while a lower $k$ will have more global structure preserved."
   ],
   "metadata": {
    "collapsed": false,
    "pycharm": {
     "name": "#%% md\n"
    }
   }
  },
  {
   "cell_type": "code",
   "execution_count": null,
   "outputs": [],
   "source": [
    "import umap\n",
    "import umap.plot\n",
    "data = df.drop(columns=['WIN','GAME_DATE_EST', 'HOME'])\n",
    "\n",
    "mapper = umap.UMAP(n_neighbors=200, min_dist=0.01).fit(data)\n",
    "umap.plot.points(mapper, labels=df['WIN'])"
   ],
   "metadata": {
    "collapsed": false,
    "pycharm": {
     "name": "#%%\n"
    }
   }
  },
  {
   "cell_type": "markdown",
   "source": [],
   "metadata": {
    "collapsed": false,
    "pycharm": {
     "name": "#%% md\n"
    }
   }
  },
  {
   "cell_type": "markdown",
   "source": [
    "There is quite a bit of mixing between win and loss, but we can still see that the left side of the projection contains mostly losses and the right side contains mostly wins. While it isn't a perfect projection, you can conclude from the plot that points on the right are more likely to be a win, and those on the left are more likely to be a loss. This specific example of using a game's data to predict win or loss would not be as useful for real life application since you don't need to predict a game that has already finished. However, if we were to do a similar projection with the stats of games that are part-way through, we might be able to predict the outcome of a game."
   ],
   "metadata": {
    "collapsed": false,
    "pycharm": {
     "name": "#%% md\n"
    }
   }
  },
  {
   "cell_type": "code",
   "execution_count": null,
   "id": "a87ce064",
   "metadata": {
    "pycharm": {
     "name": "#%%\n"
    }
   },
   "outputs": [],
   "source": [
    "# the cross tab operator provides an easy way to get these numbers\n",
    "df_wins = (df[(df['WIN'] == 1)])\n",
    "df_home = (df[(df['HOME'] == 1)])\n",
    "plt.figure(figsize=(20,10))\n",
    "ax1 = plt.subplot(1,2,1)\n",
    "ax2 = plt.subplot(1,2,2)\n",
    "\n",
    "pd.crosstab([df_home['GAME_DATE_EST']], df_home.WIN.astype(bool)).plot(kind='bar', stacked=True, ax = ax1, color = ['red', 'green'])\n",
    "ax1.title.set_text('Total Home Wins and Losses')\n",
    "\n",
    "df_wins = pd.crosstab([df_home['GAME_DATE_EST']], df_home.WIN.astype(bool))\n",
    "win_rate = df_wins.div(df_wins.sum(1).astype(float), axis=0)\n",
    "win_rate.plot(kind = 'bar', stacked = True,  ax = ax2, color = ['red', 'green'])\n",
    "ax2.title.set_text('Ratio of Home Wins to Losses')"
   ]
  },
  {
   "cell_type": "markdown",
   "id": "13a30624",
   "metadata": {
    "pycharm": {
     "name": "#%% md\n"
    }
   },
   "source": [
    "The graph on the left shows the total amount of wins and losses per year since 2003. The graph on the right shows the winning percentage of the home team. The graph on the right allows us to compare years by creating the ratio of wins to loss, putting all the years on a comparable scale. The trend in the graph to the right shows that the ratio of losses to wins is increasing, meaning that teams are losing at home more than they have before. This could be due to many reasons; coaches could be training their players to dismiss distractions or maybe the league is putting restrictions on stadiums which is causing fans to be tamer. An interesting piece of information can be seen in the year 2020. Due to covid, a majority of the 2020 season was played in Orlando, Florida in a controlled, \"covid-free\", environment. In this environment, the teams were never playing at their home stadiums, preventing the crowd to influence the game. The graph on the right shows that the 2020 season was the season where the ratio of home wins to losses was the closest to even. This shows the impact a crowd or stadium can have on a game."
   ]
  },
  {
   "cell_type": "markdown",
   "id": "2b01278a",
   "metadata": {
    "pycharm": {
     "name": "#%% md\n"
    }
   },
   "source": [
    "## 4. Dimensionality Reduction\n",
    "\n",
    "UMAP is a dimensionality reduction algorithm that works by creating a connected graph of all the points in a dataset. Each of the datapoints are given radii. If the radii of two datapoints intersect then they are considered neighbors, and a connection is made in the graph. The size of the radii is also varying; points that are in dense regions have smaller radii, while points in less dense regions have larger radii. Density is defined as higher when the $k$th nearest neighbor is close, and lower when the $k$th nearest neighbor is far. Using a larger $k$ value will keep local structure preserved in the projection, while a lower $k$ will have more global structure preserved."
   ]
  },
  {
   "cell_type": "code",
   "execution_count": null,
   "id": "442a346a",
   "metadata": {
    "pycharm": {
     "name": "#%%\n"
    }
   },
   "outputs": [],
   "source": [
    "import umap\n",
    "import umap.plot\n",
    "data = df.drop(columns=['WIN','GAME_DATE_EST', 'HOME'])\n",
    "\n",
    "mapper = umap.UMAP(n_neighbors=200, min_dist=0.01).fit(data)\n",
    "umap.plot.points(mapper, labels=df['WIN'])"
   ]
  },
  {
   "cell_type": "markdown",
   "id": "baa09419",
   "metadata": {
    "pycharm": {
     "name": "#%% md\n"
    }
   },
   "source": []
  },
  {
   "cell_type": "markdown",
   "id": "17f9b851",
   "metadata": {
    "pycharm": {
     "name": "#%% md\n"
    }
   },
   "source": [
    "There is quite a bit of mixing between win and loss, but we can still see that the left side of the projection contains mostly losses and the right side contains mostly wins. While it isn't a perfect projection, you can conclude from the plot that points on the right are more likely to be a win, and those on the left are more likely to be a loss. This specific example of using a game's data to predict win or loss would not be as useful for real life application since you don't need to predict a game that has already finished. However, if we were to do a similar projection with the stats of games that are part-way through, we might be able to predict the outcome of a game."
   ]
  }
 ],
 "metadata": {
  "kernelspec": {
   "display_name": "Python 3 (ipykernel)",
   "language": "python",
   "name": "python3"
  },
  "language_info": {
   "codemirror_mode": {
    "name": "ipython",
    "version": 3
   },
   "file_extension": ".py",
   "mimetype": "text/x-python",
   "name": "python",
   "nbconvert_exporter": "python",
   "pygments_lexer": "ipython3",
   "version": "3.9.12"
  }
 },
 "nbformat": 4,
 "nbformat_minor": 5
}