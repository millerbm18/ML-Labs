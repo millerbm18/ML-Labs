{
 "cells": [
  {
   "cell_type": "markdown",
   "source": [
    "# Business Understanding\n",
    "This dataset contains data for all NBA games from the 2004-2005 season until March of the 2021-2022 season.\n",
    "From the description of the dataset, the data was collected from the NBA stats website.\n",
    "\n",
    "This dataset can be useful for various parties, including NBA teams, coaches, players, sports bettors, or  anyone looking to better understand basketball statistics. According to www.investopedia.com, of the 30 NBA teams \"a team is worth on average $2.12 billion\", and \"total revenue across the organization reached 8.76 billion in the 2018-2019 season.\""
   ],
   "metadata": {
    "collapsed": false,
    "pycharm": {
     "name": "#%% md\n"
    }
   }
  },
  {
   "cell_type": "code",
   "execution_count": 4,
   "outputs": [
    {
     "name": "stdout",
     "output_type": "stream",
     "text": [
      "Pandas: 1.4.2\n",
      "Numpy: 1.21.5\n"
     ]
    },
    {
     "data": {
      "text/plain": "   GAME_DATE_EST   GAME_ID GAME_STATUS_TEXT  HOME_TEAM_ID  VISITOR_TEAM_ID  \\\n0     2022-03-12  22101005            Final    1610612748       1610612750   \n1     2022-03-12  22101006            Final    1610612741       1610612739   \n2     2022-03-12  22101007            Final    1610612759       1610612754   \n3     2022-03-12  22101008            Final    1610612744       1610612749   \n4     2022-03-12  22101009            Final    1610612743       1610612761   \n..           ...       ...              ...           ...              ...   \n95    2022-02-28  22100925            Final    1610612760       1610612758   \n96    2022-02-27  22100912            Final    1610612752       1610612755   \n97    2022-02-27  22100913            Final    1610612756       1610612762   \n98    2022-02-27  22100914            Final    1610612754       1610612738   \n99    2022-02-27  22100915            Final    1610612766       1610612765   \n\n    SEASON  TEAM_ID_home  PTS_home  FG_PCT_home  FT_PCT_home  ...  AST_home  \\\n0     2021    1610612748     104.0        0.398        0.760  ...      23.0   \n1     2021    1610612741     101.0        0.443        0.933  ...      20.0   \n2     2021    1610612759     108.0        0.412        0.813  ...      28.0   \n3     2021    1610612744     122.0        0.484        0.933  ...      33.0   \n4     2021    1610612743     115.0        0.551        0.750  ...      32.0   \n..     ...           ...       ...          ...          ...  ...       ...   \n95    2021    1610612760     110.0        0.465        0.704  ...      28.0   \n96    2021    1610612752     109.0        0.447        0.629  ...      21.0   \n97    2021    1610612756     114.0        0.512        0.813  ...      24.0   \n98    2021    1610612754     128.0        0.522        0.850  ...      25.0   \n99    2021    1610612766     126.0        0.506        0.676  ...      25.0   \n\n    REB_home  TEAM_ID_away  PTS_away  FG_PCT_away  FT_PCT_away  FG3_PCT_away  \\\n0       53.0    1610612750     113.0        0.422        0.875         0.357   \n1       46.0    1610612739      91.0        0.419        0.824         0.208   \n2       52.0    1610612754     119.0        0.489        1.000         0.389   \n3       55.0    1610612749     109.0        0.413        0.696         0.386   \n4       39.0    1610612761     127.0        0.471        0.760         0.387   \n..       ...           ...       ...          ...          ...           ...   \n95      38.0    1610612758     131.0        0.563        0.767         0.323   \n96      47.0    1610612755     125.0        0.487        0.886         0.303   \n97      36.0    1610612762     118.0        0.468        0.650         0.425   \n98      49.0    1610612738     107.0        0.429        0.850         0.279   \n99      46.0    1610612765     127.0        0.455        0.722         0.350   \n\n    AST_away  REB_away  HOME_TEAM_WINS  \n0       21.0      46.0               0  \n1       19.0      40.0               1  \n2       23.0      47.0               0  \n3       27.0      39.0               1  \n4       28.0      50.0               0  \n..       ...       ...             ...  \n95      30.0      46.0               0  \n96      28.0      43.0               0  \n97      23.0      41.0               0  \n98      25.0      40.0               1  \n99      30.0      54.0               0  \n\n[100 rows x 21 columns]",
      "text/html": "<div>\n<style scoped>\n    .dataframe tbody tr th:only-of-type {\n        vertical-align: middle;\n    }\n\n    .dataframe tbody tr th {\n        vertical-align: top;\n    }\n\n    .dataframe thead th {\n        text-align: right;\n    }\n</style>\n<table border=\"1\" class=\"dataframe\">\n  <thead>\n    <tr style=\"text-align: right;\">\n      <th></th>\n      <th>GAME_DATE_EST</th>\n      <th>GAME_ID</th>\n      <th>GAME_STATUS_TEXT</th>\n      <th>HOME_TEAM_ID</th>\n      <th>VISITOR_TEAM_ID</th>\n      <th>SEASON</th>\n      <th>TEAM_ID_home</th>\n      <th>PTS_home</th>\n      <th>FG_PCT_home</th>\n      <th>FT_PCT_home</th>\n      <th>...</th>\n      <th>AST_home</th>\n      <th>REB_home</th>\n      <th>TEAM_ID_away</th>\n      <th>PTS_away</th>\n      <th>FG_PCT_away</th>\n      <th>FT_PCT_away</th>\n      <th>FG3_PCT_away</th>\n      <th>AST_away</th>\n      <th>REB_away</th>\n      <th>HOME_TEAM_WINS</th>\n    </tr>\n  </thead>\n  <tbody>\n    <tr>\n      <th>0</th>\n      <td>2022-03-12</td>\n      <td>22101005</td>\n      <td>Final</td>\n      <td>1610612748</td>\n      <td>1610612750</td>\n      <td>2021</td>\n      <td>1610612748</td>\n      <td>104.0</td>\n      <td>0.398</td>\n      <td>0.760</td>\n      <td>...</td>\n      <td>23.0</td>\n      <td>53.0</td>\n      <td>1610612750</td>\n      <td>113.0</td>\n      <td>0.422</td>\n      <td>0.875</td>\n      <td>0.357</td>\n      <td>21.0</td>\n      <td>46.0</td>\n      <td>0</td>\n    </tr>\n    <tr>\n      <th>1</th>\n      <td>2022-03-12</td>\n      <td>22101006</td>\n      <td>Final</td>\n      <td>1610612741</td>\n      <td>1610612739</td>\n      <td>2021</td>\n      <td>1610612741</td>\n      <td>101.0</td>\n      <td>0.443</td>\n      <td>0.933</td>\n      <td>...</td>\n      <td>20.0</td>\n      <td>46.0</td>\n      <td>1610612739</td>\n      <td>91.0</td>\n      <td>0.419</td>\n      <td>0.824</td>\n      <td>0.208</td>\n      <td>19.0</td>\n      <td>40.0</td>\n      <td>1</td>\n    </tr>\n    <tr>\n      <th>2</th>\n      <td>2022-03-12</td>\n      <td>22101007</td>\n      <td>Final</td>\n      <td>1610612759</td>\n      <td>1610612754</td>\n      <td>2021</td>\n      <td>1610612759</td>\n      <td>108.0</td>\n      <td>0.412</td>\n      <td>0.813</td>\n      <td>...</td>\n      <td>28.0</td>\n      <td>52.0</td>\n      <td>1610612754</td>\n      <td>119.0</td>\n      <td>0.489</td>\n      <td>1.000</td>\n      <td>0.389</td>\n      <td>23.0</td>\n      <td>47.0</td>\n      <td>0</td>\n    </tr>\n    <tr>\n      <th>3</th>\n      <td>2022-03-12</td>\n      <td>22101008</td>\n      <td>Final</td>\n      <td>1610612744</td>\n      <td>1610612749</td>\n      <td>2021</td>\n      <td>1610612744</td>\n      <td>122.0</td>\n      <td>0.484</td>\n      <td>0.933</td>\n      <td>...</td>\n      <td>33.0</td>\n      <td>55.0</td>\n      <td>1610612749</td>\n      <td>109.0</td>\n      <td>0.413</td>\n      <td>0.696</td>\n      <td>0.386</td>\n      <td>27.0</td>\n      <td>39.0</td>\n      <td>1</td>\n    </tr>\n    <tr>\n      <th>4</th>\n      <td>2022-03-12</td>\n      <td>22101009</td>\n      <td>Final</td>\n      <td>1610612743</td>\n      <td>1610612761</td>\n      <td>2021</td>\n      <td>1610612743</td>\n      <td>115.0</td>\n      <td>0.551</td>\n      <td>0.750</td>\n      <td>...</td>\n      <td>32.0</td>\n      <td>39.0</td>\n      <td>1610612761</td>\n      <td>127.0</td>\n      <td>0.471</td>\n      <td>0.760</td>\n      <td>0.387</td>\n      <td>28.0</td>\n      <td>50.0</td>\n      <td>0</td>\n    </tr>\n    <tr>\n      <th>...</th>\n      <td>...</td>\n      <td>...</td>\n      <td>...</td>\n      <td>...</td>\n      <td>...</td>\n      <td>...</td>\n      <td>...</td>\n      <td>...</td>\n      <td>...</td>\n      <td>...</td>\n      <td>...</td>\n      <td>...</td>\n      <td>...</td>\n      <td>...</td>\n      <td>...</td>\n      <td>...</td>\n      <td>...</td>\n      <td>...</td>\n      <td>...</td>\n      <td>...</td>\n      <td>...</td>\n    </tr>\n    <tr>\n      <th>95</th>\n      <td>2022-02-28</td>\n      <td>22100925</td>\n      <td>Final</td>\n      <td>1610612760</td>\n      <td>1610612758</td>\n      <td>2021</td>\n      <td>1610612760</td>\n      <td>110.0</td>\n      <td>0.465</td>\n      <td>0.704</td>\n      <td>...</td>\n      <td>28.0</td>\n      <td>38.0</td>\n      <td>1610612758</td>\n      <td>131.0</td>\n      <td>0.563</td>\n      <td>0.767</td>\n      <td>0.323</td>\n      <td>30.0</td>\n      <td>46.0</td>\n      <td>0</td>\n    </tr>\n    <tr>\n      <th>96</th>\n      <td>2022-02-27</td>\n      <td>22100912</td>\n      <td>Final</td>\n      <td>1610612752</td>\n      <td>1610612755</td>\n      <td>2021</td>\n      <td>1610612752</td>\n      <td>109.0</td>\n      <td>0.447</td>\n      <td>0.629</td>\n      <td>...</td>\n      <td>21.0</td>\n      <td>47.0</td>\n      <td>1610612755</td>\n      <td>125.0</td>\n      <td>0.487</td>\n      <td>0.886</td>\n      <td>0.303</td>\n      <td>28.0</td>\n      <td>43.0</td>\n      <td>0</td>\n    </tr>\n    <tr>\n      <th>97</th>\n      <td>2022-02-27</td>\n      <td>22100913</td>\n      <td>Final</td>\n      <td>1610612756</td>\n      <td>1610612762</td>\n      <td>2021</td>\n      <td>1610612756</td>\n      <td>114.0</td>\n      <td>0.512</td>\n      <td>0.813</td>\n      <td>...</td>\n      <td>24.0</td>\n      <td>36.0</td>\n      <td>1610612762</td>\n      <td>118.0</td>\n      <td>0.468</td>\n      <td>0.650</td>\n      <td>0.425</td>\n      <td>23.0</td>\n      <td>41.0</td>\n      <td>0</td>\n    </tr>\n    <tr>\n      <th>98</th>\n      <td>2022-02-27</td>\n      <td>22100914</td>\n      <td>Final</td>\n      <td>1610612754</td>\n      <td>1610612738</td>\n      <td>2021</td>\n      <td>1610612754</td>\n      <td>128.0</td>\n      <td>0.522</td>\n      <td>0.850</td>\n      <td>...</td>\n      <td>25.0</td>\n      <td>49.0</td>\n      <td>1610612738</td>\n      <td>107.0</td>\n      <td>0.429</td>\n      <td>0.850</td>\n      <td>0.279</td>\n      <td>25.0</td>\n      <td>40.0</td>\n      <td>1</td>\n    </tr>\n    <tr>\n      <th>99</th>\n      <td>2022-02-27</td>\n      <td>22100915</td>\n      <td>Final</td>\n      <td>1610612766</td>\n      <td>1610612765</td>\n      <td>2021</td>\n      <td>1610612766</td>\n      <td>126.0</td>\n      <td>0.506</td>\n      <td>0.676</td>\n      <td>...</td>\n      <td>25.0</td>\n      <td>46.0</td>\n      <td>1610612765</td>\n      <td>127.0</td>\n      <td>0.455</td>\n      <td>0.722</td>\n      <td>0.350</td>\n      <td>30.0</td>\n      <td>54.0</td>\n      <td>0</td>\n    </tr>\n  </tbody>\n</table>\n<p>100 rows × 21 columns</p>\n</div>"
     },
     "execution_count": 4,
     "metadata": {},
     "output_type": "execute_result"
    }
   ],
   "source": [
    "import pandas as pd\n",
    "import numpy as np\n",
    "\n",
    "print('Pandas:', pd.__version__)\n",
    "print('Numpy:',np.__version__)\n",
    "df = pd.read_csv('NBA_datasets/games.csv') # read in the csv file\n",
    "df.head(n = 100)"
   ],
   "metadata": {
    "collapsed": false,
    "pycharm": {
     "name": "#%%\n"
    }
   }
  },
  {
   "cell_type": "code",
   "execution_count": 11,
   "outputs": [],
   "source": [],
   "metadata": {
    "collapsed": false,
    "pycharm": {
     "name": "#%%\n"
    }
   }
  }
 ],
 "metadata": {
  "kernelspec": {
   "display_name": "Python 3 (ipykernel)",
   "language": "python",
   "name": "python3"
  },
  "language_info": {
   "codemirror_mode": {
    "name": "ipython",
    "version": 3
   },
   "file_extension": ".py",
   "mimetype": "text/x-python",
   "name": "python",
   "nbconvert_exporter": "python",
   "pygments_lexer": "ipython3",
   "version": "3.9.12"
  }
 },
 "nbformat": 4,
 "nbformat_minor": 5
}