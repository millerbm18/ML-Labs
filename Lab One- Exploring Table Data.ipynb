{
 "cells": [
  {
   "cell_type": "markdown",
   "source": [
    "# Business Understanding\n",
    "This dataset contains data for all NBA games from the 2004-2005 season until March of the 2021-2022 season.\n",
    "From the description of the dataset, the data was collected from the NBA stats website.\n",
    "\n",
    "This dataset can be useful for various parties, including NBA teams, coaches, players, sports bettors, or  anyone looking to better understand basketball statistics. In our exploration we will be specifically looking at the application of this data for an NBA team GM. According to www.investopedia.com, of the 30 NBA teams \"a team is worth on average $2.12 billion\", and \"total revenue across the organization reached 8.76 billion in the 2018-2019 season.\""
   ],
   "metadata": {
    "collapsed": false,
    "pycharm": {
     "name": "#%% md\n"
    }
   }
  },
  {
   "cell_type": "code",
   "execution_count": 13,
   "outputs": [
    {
     "name": "stdout",
     "output_type": "stream",
     "text": [
      "Pandas: 1.4.2\n",
      "Numpy: 1.21.5\n",
      "   GAME_DATE_EST  PTS_home  FG_PCT_home  FT_PCT_home  FG3_PCT_home  AST_home  \\\n",
      "0     2022-03-12     104.0        0.398        0.760         0.333      23.0   \n",
      "1     2022-03-12     101.0        0.443        0.933         0.429      20.0   \n",
      "2     2022-03-12     108.0        0.412        0.813         0.324      28.0   \n",
      "3     2022-03-12     122.0        0.484        0.933         0.400      33.0   \n",
      "4     2022-03-12     115.0        0.551        0.750         0.407      32.0   \n",
      "..           ...       ...          ...          ...           ...       ...   \n",
      "95    2022-02-28     110.0        0.465        0.704         0.314      28.0   \n",
      "96    2022-02-27     109.0        0.447        0.629         0.333      21.0   \n",
      "97    2022-02-27     114.0        0.512        0.813         0.464      24.0   \n",
      "98    2022-02-27     128.0        0.522        0.850         0.515      25.0   \n",
      "99    2022-02-27     126.0        0.506        0.676         0.419      25.0   \n",
      "\n",
      "    REB_home  \n",
      "0       53.0  \n",
      "1       46.0  \n",
      "2       52.0  \n",
      "3       55.0  \n",
      "4       39.0  \n",
      "..       ...  \n",
      "95      38.0  \n",
      "96      47.0  \n",
      "97      36.0  \n",
      "98      49.0  \n",
      "99      46.0  \n",
      "\n",
      "[100 rows x 7 columns]\n",
      "   GAME_DATE_EST  PTS_away  FG_PCT_away  FT_PCT_away  FG3_PCT_away  AST_away  \\\n",
      "0     2022-03-12     113.0        0.422        0.875         0.357      21.0   \n",
      "1     2022-03-12      91.0        0.419        0.824         0.208      19.0   \n",
      "2     2022-03-12     119.0        0.489        1.000         0.389      23.0   \n",
      "3     2022-03-12     109.0        0.413        0.696         0.386      27.0   \n",
      "4     2022-03-12     127.0        0.471        0.760         0.387      28.0   \n",
      "..           ...       ...          ...          ...           ...       ...   \n",
      "95    2022-02-28     131.0        0.563        0.767         0.323      30.0   \n",
      "96    2022-02-27     125.0        0.487        0.886         0.303      28.0   \n",
      "97    2022-02-27     118.0        0.468        0.650         0.425      23.0   \n",
      "98    2022-02-27     107.0        0.429        0.850         0.279      25.0   \n",
      "99    2022-02-27     127.0        0.455        0.722         0.350      30.0   \n",
      "\n",
      "    REB_away  \n",
      "0       46.0  \n",
      "1       40.0  \n",
      "2       47.0  \n",
      "3       39.0  \n",
      "4       50.0  \n",
      "..       ...  \n",
      "95      46.0  \n",
      "96      43.0  \n",
      "97      41.0  \n",
      "98      40.0  \n",
      "99      54.0  \n",
      "\n",
      "[100 rows x 7 columns]\n"
     ]
    }
   ],
   "source": [
    "import pandas as pd\n",
    "import numpy as np\n",
    "\n",
    "print('Pandas:', pd.__version__)\n",
    "print('Numpy:',np.__version__)\n",
    "df = pd.read_csv('NBA_datasets/games.csv') # read in the csv file\n",
    "home_df = df[[\"GAME_DATE_EST\",\"PTS_home\",\"FG_PCT_home\",\"FT_PCT_home\",\"FG3_PCT_home\",\"AST_home\",\"REB_home\"]]\n",
    "away_df = df[[\"GAME_DATE_EST\",\"PTS_away\",\"FG_PCT_away\",\"FT_PCT_away\",\"FG3_PCT_away\",\"AST_away\",\"REB_away\"]]\n",
    "home_df.head(n = 100)\n",
    "away_df.head(n = 100)"
   ],
   "metadata": {
    "collapsed": false,
    "pycharm": {
     "name": "#%%\n"
    }
   }
  },
  {
   "cell_type": "code",
   "execution_count": 11,
   "outputs": [],
   "source": [],
   "metadata": {
    "collapsed": false,
    "pycharm": {
     "name": "#%%\n"
    }
   }
  }
 ],
 "metadata": {
  "kernelspec": {
   "display_name": "Python 3 (ipykernel)",
   "language": "python",
   "name": "python3"
  },
  "language_info": {
   "codemirror_mode": {
    "name": "ipython",
    "version": 3
   },
   "file_extension": ".py",
   "mimetype": "text/x-python",
   "name": "python",
   "nbconvert_exporter": "python",
   "pygments_lexer": "ipython3",
   "version": "3.9.12"
  }
 },
 "nbformat": 4,
 "nbformat_minor": 5
}