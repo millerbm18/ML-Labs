{
 "cells": [
  {
   "cell_type": "code",
   "execution_count": 10,
   "id": "b5c71038",
   "metadata": {
    "pycharm": {
     "name": "#%%\n"
    }
   },
   "outputs": [
    {
     "name": "stdout",
     "output_type": "stream",
     "text": [
      "Pandas: 1.4.2\n",
      "Numpy: 1.21.5\n"
     ]
    },
    {
     "data": {
      "text/plain": "     GAME_ID  G_home  W_PCT_home  HOME_RECORD_home  ROAD_RECORD_home  \\\n0   10700001      82       0.293          0.292683          0.292683   \n1   10700005      82       0.488          0.609756          0.365854   \n2   10700006      82       0.646          0.634146          0.658537   \n3   10700007      82       0.610          0.731707          0.487805   \n4   10700008      82       0.341          0.439024          0.243902   \n..       ...     ...         ...               ...               ...   \n95  10800001      82       0.183          0.219512          0.146341   \n96  10800002      82       0.683          0.731707          0.634146   \n97  10800003      82       0.634          0.609756          0.658537   \n98  10800004      82       0.317          0.463415          0.170732   \n99  10800005      82       0.549          0.658537          0.439024   \n\n    W_PCT_prev_home  HOME_RECORD_prev_home  ROAD_RECORD_prev_home  G_away  \\\n0             0.402               0.512195               0.292683      82   \n1             0.439               0.634146               0.243902      82   \n2             0.780               0.902439               0.658537      82   \n3             0.610               0.756098               0.463415      82   \n4             0.488               0.609756               0.365854      82   \n..              ...                    ...                    ...     ...   \n95            0.537               0.658537               0.414634      82   \n96            0.476               0.585366               0.365854      82   \n97            0.488               0.609756               0.365854      82   \n98            0.341               0.439024               0.243902      82   \n99            0.610               0.731707               0.487805      82   \n\n    W_PCT_away  ...  REB_home_10g  WIN_PRCT_away_10g  PTS_away_10g  \\\n0        0.573  ...          37.5                0.4          94.2   \n1        0.366  ...          41.7                0.3          96.8   \n2        0.537  ...          39.1                0.2          88.2   \n3        0.500  ...          41.2                0.2          89.3   \n4        0.598  ...          36.7                0.6          92.4   \n..         ...  ...           ...                ...           ...   \n95       0.720  ...          35.6                0.5          90.6   \n96       0.585  ...          42.7                0.4         110.9   \n97       0.451  ...          42.9                0.3          90.3   \n98       0.268  ...          43.6                0.3         101.7   \n99       0.500  ...          39.9                0.4          99.3   \n\n    FG_PCT_away_10g  FT_PCT_away_10g  FG3_PCT_away_10g  AST_away_10g  \\\n0            0.4471           0.7917            0.3460          19.3   \n1            0.4723           0.7376            0.2604          21.3   \n2            0.4612           0.6901            0.3780          18.1   \n3            0.4112           0.6934            0.3144          18.4   \n4            0.4300           0.7320            0.3553          20.6   \n..              ...              ...               ...           ...   \n95           0.4392           0.8257            0.3028          18.9   \n96           0.4506           0.7700            0.3206          20.3   \n97           0.4266           0.7582            0.2771          19.4   \n98           0.4639           0.7492            0.3798          19.8   \n99           0.4531           0.8258            0.3498          24.8   \n\n    REB_away_10g  SEASON  HOME_TEAM_WINS  \n0           38.4    2007               1  \n1           42.1    2007               0  \n2           35.0    2007               1  \n3           38.5    2007               0  \n4           41.9    2007               1  \n..           ...     ...             ...  \n95          33.8    2008               0  \n96          45.6    2008               1  \n97          39.2    2008               0  \n98          42.5    2008               0  \n99          39.6    2008               0  \n\n[100 rows x 45 columns]",
      "text/html": "<div>\n<style scoped>\n    .dataframe tbody tr th:only-of-type {\n        vertical-align: middle;\n    }\n\n    .dataframe tbody tr th {\n        vertical-align: top;\n    }\n\n    .dataframe thead th {\n        text-align: right;\n    }\n</style>\n<table border=\"1\" class=\"dataframe\">\n  <thead>\n    <tr style=\"text-align: right;\">\n      <th></th>\n      <th>GAME_ID</th>\n      <th>G_home</th>\n      <th>W_PCT_home</th>\n      <th>HOME_RECORD_home</th>\n      <th>ROAD_RECORD_home</th>\n      <th>W_PCT_prev_home</th>\n      <th>HOME_RECORD_prev_home</th>\n      <th>ROAD_RECORD_prev_home</th>\n      <th>G_away</th>\n      <th>W_PCT_away</th>\n      <th>...</th>\n      <th>REB_home_10g</th>\n      <th>WIN_PRCT_away_10g</th>\n      <th>PTS_away_10g</th>\n      <th>FG_PCT_away_10g</th>\n      <th>FT_PCT_away_10g</th>\n      <th>FG3_PCT_away_10g</th>\n      <th>AST_away_10g</th>\n      <th>REB_away_10g</th>\n      <th>SEASON</th>\n      <th>HOME_TEAM_WINS</th>\n    </tr>\n  </thead>\n  <tbody>\n    <tr>\n      <th>0</th>\n      <td>10700001</td>\n      <td>82</td>\n      <td>0.293</td>\n      <td>0.292683</td>\n      <td>0.292683</td>\n      <td>0.402</td>\n      <td>0.512195</td>\n      <td>0.292683</td>\n      <td>82</td>\n      <td>0.573</td>\n      <td>...</td>\n      <td>37.5</td>\n      <td>0.4</td>\n      <td>94.2</td>\n      <td>0.4471</td>\n      <td>0.7917</td>\n      <td>0.3460</td>\n      <td>19.3</td>\n      <td>38.4</td>\n      <td>2007</td>\n      <td>1</td>\n    </tr>\n    <tr>\n      <th>1</th>\n      <td>10700005</td>\n      <td>82</td>\n      <td>0.488</td>\n      <td>0.609756</td>\n      <td>0.365854</td>\n      <td>0.439</td>\n      <td>0.634146</td>\n      <td>0.243902</td>\n      <td>82</td>\n      <td>0.366</td>\n      <td>...</td>\n      <td>41.7</td>\n      <td>0.3</td>\n      <td>96.8</td>\n      <td>0.4723</td>\n      <td>0.7376</td>\n      <td>0.2604</td>\n      <td>21.3</td>\n      <td>42.1</td>\n      <td>2007</td>\n      <td>0</td>\n    </tr>\n    <tr>\n      <th>2</th>\n      <td>10700006</td>\n      <td>82</td>\n      <td>0.646</td>\n      <td>0.634146</td>\n      <td>0.658537</td>\n      <td>0.780</td>\n      <td>0.902439</td>\n      <td>0.658537</td>\n      <td>82</td>\n      <td>0.537</td>\n      <td>...</td>\n      <td>39.1</td>\n      <td>0.2</td>\n      <td>88.2</td>\n      <td>0.4612</td>\n      <td>0.6901</td>\n      <td>0.3780</td>\n      <td>18.1</td>\n      <td>35.0</td>\n      <td>2007</td>\n      <td>1</td>\n    </tr>\n    <tr>\n      <th>3</th>\n      <td>10700007</td>\n      <td>82</td>\n      <td>0.610</td>\n      <td>0.731707</td>\n      <td>0.487805</td>\n      <td>0.610</td>\n      <td>0.756098</td>\n      <td>0.463415</td>\n      <td>82</td>\n      <td>0.500</td>\n      <td>...</td>\n      <td>41.2</td>\n      <td>0.2</td>\n      <td>89.3</td>\n      <td>0.4112</td>\n      <td>0.6934</td>\n      <td>0.3144</td>\n      <td>18.4</td>\n      <td>38.5</td>\n      <td>2007</td>\n      <td>0</td>\n    </tr>\n    <tr>\n      <th>4</th>\n      <td>10700008</td>\n      <td>82</td>\n      <td>0.341</td>\n      <td>0.439024</td>\n      <td>0.243902</td>\n      <td>0.488</td>\n      <td>0.609756</td>\n      <td>0.365854</td>\n      <td>82</td>\n      <td>0.598</td>\n      <td>...</td>\n      <td>36.7</td>\n      <td>0.6</td>\n      <td>92.4</td>\n      <td>0.4300</td>\n      <td>0.7320</td>\n      <td>0.3553</td>\n      <td>20.6</td>\n      <td>41.9</td>\n      <td>2007</td>\n      <td>1</td>\n    </tr>\n    <tr>\n      <th>...</th>\n      <td>...</td>\n      <td>...</td>\n      <td>...</td>\n      <td>...</td>\n      <td>...</td>\n      <td>...</td>\n      <td>...</td>\n      <td>...</td>\n      <td>...</td>\n      <td>...</td>\n      <td>...</td>\n      <td>...</td>\n      <td>...</td>\n      <td>...</td>\n      <td>...</td>\n      <td>...</td>\n      <td>...</td>\n      <td>...</td>\n      <td>...</td>\n      <td>...</td>\n      <td>...</td>\n    </tr>\n    <tr>\n      <th>95</th>\n      <td>10800001</td>\n      <td>82</td>\n      <td>0.183</td>\n      <td>0.219512</td>\n      <td>0.146341</td>\n      <td>0.537</td>\n      <td>0.658537</td>\n      <td>0.414634</td>\n      <td>82</td>\n      <td>0.720</td>\n      <td>...</td>\n      <td>35.6</td>\n      <td>0.5</td>\n      <td>90.6</td>\n      <td>0.4392</td>\n      <td>0.8257</td>\n      <td>0.3028</td>\n      <td>18.9</td>\n      <td>33.8</td>\n      <td>2008</td>\n      <td>0</td>\n    </tr>\n    <tr>\n      <th>96</th>\n      <td>10800002</td>\n      <td>82</td>\n      <td>0.683</td>\n      <td>0.731707</td>\n      <td>0.634146</td>\n      <td>0.476</td>\n      <td>0.585366</td>\n      <td>0.365854</td>\n      <td>82</td>\n      <td>0.585</td>\n      <td>...</td>\n      <td>42.7</td>\n      <td>0.4</td>\n      <td>110.9</td>\n      <td>0.4506</td>\n      <td>0.7700</td>\n      <td>0.3206</td>\n      <td>20.3</td>\n      <td>45.6</td>\n      <td>2008</td>\n      <td>1</td>\n    </tr>\n    <tr>\n      <th>97</th>\n      <td>10800003</td>\n      <td>82</td>\n      <td>0.634</td>\n      <td>0.609756</td>\n      <td>0.658537</td>\n      <td>0.488</td>\n      <td>0.609756</td>\n      <td>0.365854</td>\n      <td>82</td>\n      <td>0.451</td>\n      <td>...</td>\n      <td>42.9</td>\n      <td>0.3</td>\n      <td>90.3</td>\n      <td>0.4266</td>\n      <td>0.7582</td>\n      <td>0.2771</td>\n      <td>19.4</td>\n      <td>39.2</td>\n      <td>2008</td>\n      <td>0</td>\n    </tr>\n    <tr>\n      <th>98</th>\n      <td>10800004</td>\n      <td>82</td>\n      <td>0.317</td>\n      <td>0.463415</td>\n      <td>0.170732</td>\n      <td>0.341</td>\n      <td>0.439024</td>\n      <td>0.243902</td>\n      <td>82</td>\n      <td>0.268</td>\n      <td>...</td>\n      <td>43.6</td>\n      <td>0.3</td>\n      <td>101.7</td>\n      <td>0.4639</td>\n      <td>0.7492</td>\n      <td>0.3798</td>\n      <td>19.8</td>\n      <td>42.5</td>\n      <td>2008</td>\n      <td>0</td>\n    </tr>\n    <tr>\n      <th>99</th>\n      <td>10800005</td>\n      <td>82</td>\n      <td>0.549</td>\n      <td>0.658537</td>\n      <td>0.439024</td>\n      <td>0.610</td>\n      <td>0.731707</td>\n      <td>0.487805</td>\n      <td>82</td>\n      <td>0.500</td>\n      <td>...</td>\n      <td>39.9</td>\n      <td>0.4</td>\n      <td>99.3</td>\n      <td>0.4531</td>\n      <td>0.8258</td>\n      <td>0.3498</td>\n      <td>24.8</td>\n      <td>39.6</td>\n      <td>2008</td>\n      <td>0</td>\n    </tr>\n  </tbody>\n</table>\n<p>100 rows × 45 columns</p>\n</div>"
     },
     "execution_count": 10,
     "metadata": {},
     "output_type": "execute_result"
    }
   ],
   "source": [
    "import pandas as pd\n",
    "import numpy as np\n",
    "\n",
    "print('Pandas:', pd.__version__)\n",
    "print('Numpy:',np.__version__)\n",
    "df = pd.read_csv('https://raw.githubusercontent.com/Nathanlauga/nba-data-scrapping/master/notebooks/games_formated_07_20.csv') # read in the csv file\n",
    "\n",
    "df.head(n = 100)"
   ]
  },
  {
   "cell_type": "code",
   "execution_count": 10,
   "outputs": [],
   "source": [],
   "metadata": {
    "collapsed": false,
    "pycharm": {
     "name": "#%%\n"
    }
   }
  }
 ],
 "metadata": {
  "kernelspec": {
   "display_name": "Python 3 (ipykernel)",
   "language": "python",
   "name": "python3"
  },
  "language_info": {
   "codemirror_mode": {
    "name": "ipython",
    "version": 3
   },
   "file_extension": ".py",
   "mimetype": "text/x-python",
   "name": "python",
   "nbconvert_exporter": "python",
   "pygments_lexer": "ipython3",
   "version": "3.9.12"
  }
 },
 "nbformat": 4,
 "nbformat_minor": 5
}