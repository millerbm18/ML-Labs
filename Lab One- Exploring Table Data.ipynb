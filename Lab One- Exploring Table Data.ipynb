{
 "cells": [
  {
   "cell_type": "markdown",
   "id": "00365c10",
   "metadata": {},
   "source": [
    "# Lab Assignment One: Exploring Table Data\n",
    "\n",
    "#### Everett Cienkus, Blake Miller, Colin Weil"
   ]
  },
  {
   "cell_type": "markdown",
   "id": "585358c4",
   "metadata": {
    "pycharm": {
     "name": "#%% md\n"
    }
   },
   "source": [
    "## 1. Business Understanding\n",
    "This dataset contains data for all NBA games from the 2004-2005 season until March of the 2021-2022 season.From the description of the dataset, the data was collected from the NBA stats website.\n",
    "\n",
    "This dataset can be useful for various parties, including NBA teams, coaches, players, sports bettors, or anyone looking to better understand basketball statistics. In our exploration we will be specifically looking at the application of this data for an NBA team General Manager.\n",
    "\n",
    "According to www.investopedia.com, of the 30 NBA teams \"a team is worth on average $2.12 billion\", and \"total revenue across the organization reached 8.76 billion in the 2018-2019 season.\" This makes the role of a GM extremely important, as they must manage a multi-billion dollar business.\n",
    "\n",
    "Through analyzing thousands of NBA game data from this dataset, a GM could make better informed decisions on what statistics are most impactful on the game, and use that information to draft players which have the strengths that they need to build their team.\n"
   ]
  },
  {
   "cell_type": "markdown",
   "id": "a96d0c5b",
   "metadata": {
    "pycharm": {
     "name": "#%%\n"
    }
   },
   "source": [
    "## 2. Data Understanding"
   ]
  },
  {
   "cell_type": "markdown",
   "id": "15ec2c5f",
   "metadata": {},
   "source": [
    "### 2.1 Data Description"
   ]
  },
  {
   "cell_type": "code",
   "execution_count": 70,
   "id": "c02248e0",
   "metadata": {
    "pycharm": {
     "name": "#%%\n"
    }
   },
   "outputs": [
    {
     "name": "stdout",
     "output_type": "stream",
     "text": [
      "Pandas: 1.4.2\n",
      "Numpy: 1.21.5\n"
     ]
    },
    {
     "data": {
      "text/html": [
       "<div>\n",
       "<style scoped>\n",
       "    .dataframe tbody tr th:only-of-type {\n",
       "        vertical-align: middle;\n",
       "    }\n",
       "\n",
       "    .dataframe tbody tr th {\n",
       "        vertical-align: top;\n",
       "    }\n",
       "\n",
       "    .dataframe thead th {\n",
       "        text-align: right;\n",
       "    }\n",
       "</style>\n",
       "<table border=\"1\" class=\"dataframe\">\n",
       "  <thead>\n",
       "    <tr style=\"text-align: right;\">\n",
       "      <th></th>\n",
       "      <th>GAME_DATE_EST</th>\n",
       "      <th>PTS</th>\n",
       "      <th>FG_PCT</th>\n",
       "      <th>FT_PCT</th>\n",
       "      <th>FG3_PCT</th>\n",
       "      <th>AST</th>\n",
       "      <th>REB</th>\n",
       "      <th>WIN</th>\n",
       "      <th>HOME</th>\n",
       "    </tr>\n",
       "  </thead>\n",
       "  <tbody>\n",
       "    <tr>\n",
       "      <th>0</th>\n",
       "      <td>2022-03-12</td>\n",
       "      <td>104.0</td>\n",
       "      <td>0.398</td>\n",
       "      <td>0.760</td>\n",
       "      <td>0.333</td>\n",
       "      <td>23.0</td>\n",
       "      <td>53.0</td>\n",
       "      <td>0</td>\n",
       "      <td>1</td>\n",
       "    </tr>\n",
       "    <tr>\n",
       "      <th>1</th>\n",
       "      <td>2022-03-12</td>\n",
       "      <td>101.0</td>\n",
       "      <td>0.443</td>\n",
       "      <td>0.933</td>\n",
       "      <td>0.429</td>\n",
       "      <td>20.0</td>\n",
       "      <td>46.0</td>\n",
       "      <td>1</td>\n",
       "      <td>1</td>\n",
       "    </tr>\n",
       "    <tr>\n",
       "      <th>2</th>\n",
       "      <td>2022-03-12</td>\n",
       "      <td>108.0</td>\n",
       "      <td>0.412</td>\n",
       "      <td>0.813</td>\n",
       "      <td>0.324</td>\n",
       "      <td>28.0</td>\n",
       "      <td>52.0</td>\n",
       "      <td>0</td>\n",
       "      <td>1</td>\n",
       "    </tr>\n",
       "    <tr>\n",
       "      <th>3</th>\n",
       "      <td>2022-03-12</td>\n",
       "      <td>122.0</td>\n",
       "      <td>0.484</td>\n",
       "      <td>0.933</td>\n",
       "      <td>0.400</td>\n",
       "      <td>33.0</td>\n",
       "      <td>55.0</td>\n",
       "      <td>1</td>\n",
       "      <td>1</td>\n",
       "    </tr>\n",
       "    <tr>\n",
       "      <th>4</th>\n",
       "      <td>2022-03-12</td>\n",
       "      <td>115.0</td>\n",
       "      <td>0.551</td>\n",
       "      <td>0.750</td>\n",
       "      <td>0.407</td>\n",
       "      <td>32.0</td>\n",
       "      <td>39.0</td>\n",
       "      <td>0</td>\n",
       "      <td>1</td>\n",
       "    </tr>\n",
       "  </tbody>\n",
       "</table>\n",
       "</div>"
      ],
      "text/plain": [
       "  GAME_DATE_EST    PTS  FG_PCT  FT_PCT  FG3_PCT   AST   REB  WIN  HOME\n",
       "0    2022-03-12  104.0   0.398   0.760    0.333  23.0  53.0    0     1\n",
       "1    2022-03-12  101.0   0.443   0.933    0.429  20.0  46.0    1     1\n",
       "2    2022-03-12  108.0   0.412   0.813    0.324  28.0  52.0    0     1\n",
       "3    2022-03-12  122.0   0.484   0.933    0.400  33.0  55.0    1     1\n",
       "4    2022-03-12  115.0   0.551   0.750    0.407  32.0  39.0    0     1"
      ]
     },
     "metadata": {},
     "output_type": "display_data"
    }
   ],
   "source": [
    "import pandas as pd\n",
    "import numpy as np\n",
    "\n",
    "print('Pandas:', pd.__version__)\n",
    "print('Numpy:',np.__version__)\n",
    "df = pd.read_csv('NBA_datasets/games.csv') # read in the csv file\n",
    "#Split stats into home and away\n",
    "home_df = df[[\"GAME_DATE_EST\",\"PTS_home\",\"FG_PCT_home\",\"FT_PCT_home\",\"FG3_PCT_home\",\"AST_home\",\"REB_home\", \"HOME_TEAM_WINS\"]]\n",
    "away_df = df[[\"GAME_DATE_EST\",\"PTS_away\",\"FG_PCT_away\",\"FT_PCT_away\",\"FG3_PCT_away\",\"AST_away\",\"REB_away\", \"HOME_TEAM_WINS\"]]\n",
    "\n",
    "#Convert HOME_TEAM_WINS the to appropriate value based on home or away team\n",
    "home_df=home_df.rename(columns={'HOME_TEAM_WINS':'WIN'})\n",
    "away_df=away_df.rename(columns={'HOME_TEAM_WINS':'WIN'})\n",
    "away_df[\"WIN\"]=np.logical_not(away_df[\"WIN\"]).astype(int)\n",
    "\n",
    "home_df.columns = ['GAME_DATE_EST', 'PTS', 'FG_PCT', 'FT_PCT', 'FG3_PCT', 'AST', 'REB', 'WIN']\n",
    "home_df[\"HOME\"]= 1\n",
    "away_df.columns = ['GAME_DATE_EST', 'PTS', 'FG_PCT', 'FT_PCT', 'FG3_PCT', 'AST', 'REB', 'WIN']\n",
    "away_df[\"HOME\"]= 0\n",
    "df = pd.concat([home_df, away_df])\n",
    "\n",
    "#display\n",
    "display(df.head())"
   ]
  },
  {
   "cell_type": "markdown",
   "id": "5b1eedde",
   "metadata": {
    "pycharm": {
     "name": "#%% md\n"
    }
   },
   "source": [
    "(NEED TO DO) Need to describe the changes made"
   ]
  },
  {
   "cell_type": "code",
   "execution_count": 71,
   "id": "aac55d3a",
   "metadata": {
    "pycharm": {
     "name": "#%%\n"
    }
   },
   "outputs": [
    {
     "name": "stdout",
     "output_type": "stream",
     "text": [
      "<class 'pandas.core.frame.DataFrame'>\n",
      "Int64Index: 51592 entries, 0 to 25795\n",
      "Data columns (total 9 columns):\n",
      " #   Column         Non-Null Count  Dtype  \n",
      "---  ------         --------------  -----  \n",
      " 0   GAME_DATE_EST  51592 non-null  object \n",
      " 1   PTS            51394 non-null  float64\n",
      " 2   FG_PCT         51394 non-null  float64\n",
      " 3   FT_PCT         51394 non-null  float64\n",
      " 4   FG3_PCT        51394 non-null  float64\n",
      " 5   AST            51394 non-null  float64\n",
      " 6   REB            51394 non-null  float64\n",
      " 7   WIN            51592 non-null  int64  \n",
      " 8   HOME           51592 non-null  int64  \n",
      "dtypes: float64(6), int64(2), object(1)\n",
      "memory usage: 3.9+ MB\n",
      "None\n"
     ]
    }
   ],
   "source": [
    "# find the data type\n",
    "print(df.info())"
   ]
  },
  {
   "cell_type": "markdown",
   "id": "a3992a16",
   "metadata": {
    "pycharm": {
     "name": "#%% md\n"
    }
   },
   "source": [
    "(NEED TO DO) Describe the data"
   ]
  },
  {
   "cell_type": "code",
   "execution_count": 74,
   "id": "f7ba5c48",
   "metadata": {
    "pycharm": {
     "name": "#%%\n"
    }
   },
   "outputs": [
    {
     "data": {
      "text/html": [
       "<div>\n",
       "<style scoped>\n",
       "    .dataframe tbody tr th:only-of-type {\n",
       "        vertical-align: middle;\n",
       "    }\n",
       "\n",
       "    .dataframe tbody tr th {\n",
       "        vertical-align: top;\n",
       "    }\n",
       "\n",
       "    .dataframe thead th {\n",
       "        text-align: right;\n",
       "    }\n",
       "</style>\n",
       "<table border=\"1\" class=\"dataframe\">\n",
       "  <thead>\n",
       "    <tr style=\"text-align: right;\">\n",
       "      <th></th>\n",
       "      <th>PTS</th>\n",
       "      <th>FG_PCT</th>\n",
       "      <th>FT_PCT</th>\n",
       "      <th>FG3_PCT</th>\n",
       "      <th>AST</th>\n",
       "      <th>REB</th>\n",
       "      <th>WIN</th>\n",
       "      <th>HOME</th>\n",
       "    </tr>\n",
       "  </thead>\n",
       "  <tbody>\n",
       "    <tr>\n",
       "      <th>count</th>\n",
       "      <td>51394.000000</td>\n",
       "      <td>51394.000000</td>\n",
       "      <td>51394.000000</td>\n",
       "      <td>51394.000000</td>\n",
       "      <td>51394.000000</td>\n",
       "      <td>51394.000000</td>\n",
       "      <td>51592.000000</td>\n",
       "      <td>51592.000000</td>\n",
       "    </tr>\n",
       "    <tr>\n",
       "      <th>mean</th>\n",
       "      <td>101.700082</td>\n",
       "      <td>0.454789</td>\n",
       "      <td>0.758893</td>\n",
       "      <td>0.352655</td>\n",
       "      <td>22.070339</td>\n",
       "      <td>42.715473</td>\n",
       "      <td>0.500000</td>\n",
       "      <td>0.500000</td>\n",
       "    </tr>\n",
       "    <tr>\n",
       "      <th>std</th>\n",
       "      <td>13.333345</td>\n",
       "      <td>0.056352</td>\n",
       "      <td>0.102066</td>\n",
       "      <td>0.111117</td>\n",
       "      <td>5.202080</td>\n",
       "      <td>6.604647</td>\n",
       "      <td>0.500005</td>\n",
       "      <td>0.500005</td>\n",
       "    </tr>\n",
       "    <tr>\n",
       "      <th>min</th>\n",
       "      <td>33.000000</td>\n",
       "      <td>0.244000</td>\n",
       "      <td>0.143000</td>\n",
       "      <td>0.000000</td>\n",
       "      <td>4.000000</td>\n",
       "      <td>15.000000</td>\n",
       "      <td>0.000000</td>\n",
       "      <td>0.000000</td>\n",
       "    </tr>\n",
       "    <tr>\n",
       "      <th>25%</th>\n",
       "      <td>93.000000</td>\n",
       "      <td>0.417000</td>\n",
       "      <td>0.696000</td>\n",
       "      <td>0.281000</td>\n",
       "      <td>18.000000</td>\n",
       "      <td>38.000000</td>\n",
       "      <td>0.000000</td>\n",
       "      <td>0.000000</td>\n",
       "    </tr>\n",
       "    <tr>\n",
       "      <th>50%</th>\n",
       "      <td>101.000000</td>\n",
       "      <td>0.453000</td>\n",
       "      <td>0.765000</td>\n",
       "      <td>0.353000</td>\n",
       "      <td>22.000000</td>\n",
       "      <td>42.000000</td>\n",
       "      <td>0.500000</td>\n",
       "      <td>0.500000</td>\n",
       "    </tr>\n",
       "    <tr>\n",
       "      <th>75%</th>\n",
       "      <td>111.000000</td>\n",
       "      <td>0.494000</td>\n",
       "      <td>0.829000</td>\n",
       "      <td>0.423000</td>\n",
       "      <td>25.000000</td>\n",
       "      <td>47.000000</td>\n",
       "      <td>1.000000</td>\n",
       "      <td>1.000000</td>\n",
       "    </tr>\n",
       "    <tr>\n",
       "      <th>max</th>\n",
       "      <td>168.000000</td>\n",
       "      <td>0.687000</td>\n",
       "      <td>1.000000</td>\n",
       "      <td>1.000000</td>\n",
       "      <td>50.000000</td>\n",
       "      <td>81.000000</td>\n",
       "      <td>1.000000</td>\n",
       "      <td>1.000000</td>\n",
       "    </tr>\n",
       "  </tbody>\n",
       "</table>\n",
       "</div>"
      ],
      "text/plain": [
       "                PTS        FG_PCT        FT_PCT       FG3_PCT           AST  \\\n",
       "count  51394.000000  51394.000000  51394.000000  51394.000000  51394.000000   \n",
       "mean     101.700082      0.454789      0.758893      0.352655     22.070339   \n",
       "std       13.333345      0.056352      0.102066      0.111117      5.202080   \n",
       "min       33.000000      0.244000      0.143000      0.000000      4.000000   \n",
       "25%       93.000000      0.417000      0.696000      0.281000     18.000000   \n",
       "50%      101.000000      0.453000      0.765000      0.353000     22.000000   \n",
       "75%      111.000000      0.494000      0.829000      0.423000     25.000000   \n",
       "max      168.000000      0.687000      1.000000      1.000000     50.000000   \n",
       "\n",
       "                REB           WIN          HOME  \n",
       "count  51394.000000  51592.000000  51592.000000  \n",
       "mean      42.715473      0.500000      0.500000  \n",
       "std        6.604647      0.500005      0.500005  \n",
       "min       15.000000      0.000000      0.000000  \n",
       "25%       38.000000      0.000000      0.000000  \n",
       "50%       42.000000      0.500000      0.500000  \n",
       "75%       47.000000      1.000000      1.000000  \n",
       "max       81.000000      1.000000      1.000000  "
      ]
     },
     "metadata": {},
     "output_type": "display_data"
    }
   ],
   "source": [
    "# find the data summary\n",
    "display(df.describe())"
   ]
  },
  {
   "cell_type": "code",
   "execution_count": 81,
   "id": "ca595201",
   "metadata": {
    "pycharm": {
     "name": "#%%\n"
    }
   },
   "outputs": [
    {
     "data": {
      "text/html": [
       "<div>\n",
       "<style scoped>\n",
       "    .dataframe tbody tr th:only-of-type {\n",
       "        vertical-align: middle;\n",
       "    }\n",
       "\n",
       "    .dataframe tbody tr th {\n",
       "        vertical-align: top;\n",
       "    }\n",
       "\n",
       "    .dataframe thead th {\n",
       "        text-align: right;\n",
       "    }\n",
       "</style>\n",
       "<table border=\"1\" class=\"dataframe\">\n",
       "  <thead>\n",
       "    <tr style=\"text-align: right;\">\n",
       "      <th></th>\n",
       "      <th>Features</th>\n",
       "      <th>Description</th>\n",
       "      <th>Scales</th>\n",
       "      <th>Discrete\\Continuous</th>\n",
       "      <th>Range</th>\n",
       "    </tr>\n",
       "  </thead>\n",
       "  <tbody>\n",
       "    <tr>\n",
       "      <th>0</th>\n",
       "      <td>GAME_DATE_EST</td>\n",
       "      <td>date the game occured</td>\n",
       "      <td>ordinal</td>\n",
       "      <td>discrete</td>\n",
       "      <td>Placeholder</td>\n",
       "    </tr>\n",
       "    <tr>\n",
       "      <th>1</th>\n",
       "      <td>PTS</td>\n",
       "      <td>number of points scored</td>\n",
       "      <td>ordinal</td>\n",
       "      <td>continuous</td>\n",
       "      <td>33 - 168</td>\n",
       "    </tr>\n",
       "    <tr>\n",
       "      <th>2</th>\n",
       "      <td>FG_PCT</td>\n",
       "      <td>percentage of all shots made</td>\n",
       "      <td>ratio</td>\n",
       "      <td>continuous</td>\n",
       "      <td>.244 - .687</td>\n",
       "    </tr>\n",
       "    <tr>\n",
       "      <th>3</th>\n",
       "      <td>FT_PCT</td>\n",
       "      <td>percentage of free throws made</td>\n",
       "      <td>ratio</td>\n",
       "      <td>continuous</td>\n",
       "      <td>.143 - 1</td>\n",
       "    </tr>\n",
       "    <tr>\n",
       "      <th>4</th>\n",
       "      <td>FG3_PCT</td>\n",
       "      <td>percentage of three point shots made</td>\n",
       "      <td>ratio</td>\n",
       "      <td>continuous</td>\n",
       "      <td>0 - 1</td>\n",
       "    </tr>\n",
       "    <tr>\n",
       "      <th>5</th>\n",
       "      <td>AST</td>\n",
       "      <td>number of assists</td>\n",
       "      <td>ordinal</td>\n",
       "      <td>continuous</td>\n",
       "      <td>4 - 50</td>\n",
       "    </tr>\n",
       "    <tr>\n",
       "      <th>6</th>\n",
       "      <td>REB</td>\n",
       "      <td>number of rebounds</td>\n",
       "      <td>ordinal</td>\n",
       "      <td>continuous</td>\n",
       "      <td>15 - 81</td>\n",
       "    </tr>\n",
       "    <tr>\n",
       "      <th>7</th>\n",
       "      <td>WIN</td>\n",
       "      <td>whether the game was won</td>\n",
       "      <td>norminal</td>\n",
       "      <td>discrete</td>\n",
       "      <td>0: No; 1: Yes</td>\n",
       "    </tr>\n",
       "    <tr>\n",
       "      <th>8</th>\n",
       "      <td>HOME</td>\n",
       "      <td>whether the team was home or away</td>\n",
       "      <td>norminal</td>\n",
       "      <td>discrete</td>\n",
       "      <td>0: No; 1: Yes</td>\n",
       "    </tr>\n",
       "  </tbody>\n",
       "</table>\n",
       "</div>"
      ],
      "text/plain": [
       "        Features                           Description    Scales  \\\n",
       "0  GAME_DATE_EST                 date the game occured   ordinal   \n",
       "1            PTS               number of points scored   ordinal   \n",
       "2         FG_PCT          percentage of all shots made     ratio   \n",
       "3         FT_PCT        percentage of free throws made     ratio   \n",
       "4        FG3_PCT  percentage of three point shots made     ratio   \n",
       "5            AST                     number of assists   ordinal   \n",
       "6            REB                    number of rebounds   ordinal   \n",
       "7            WIN              whether the game was won  norminal   \n",
       "8           HOME     whether the team was home or away  norminal   \n",
       "\n",
       "  Discrete\\Continuous          Range  \n",
       "0            discrete    Placeholder  \n",
       "1          continuous       33 - 168  \n",
       "2          continuous    .244 - .687  \n",
       "3          continuous       .143 - 1  \n",
       "4          continuous          0 - 1  \n",
       "5          continuous         4 - 50  \n",
       "6          continuous        15 - 81  \n",
       "7            discrete  0: No; 1: Yes  \n",
       "8            discrete  0: No; 1: Yes  "
      ]
     },
     "execution_count": 81,
     "metadata": {},
     "output_type": "execute_result"
    }
   ],
   "source": [
    "# create a data description table\n",
    "data_des = pd.DataFrame()\n",
    "\n",
    "data_des['Features'] = df.columns\n",
    "\n",
    "data_des['Description'] = ['date the game occured', 'number of points scored', 'percentage of all shots made',\n",
    "                          'percentage of free throws made', 'percentage of three point shots made',\n",
    "                          'number of assists', 'number of rebounds',\n",
    "                          'whether the game was won', 'whether the team was home or away']\n",
    "\n",
    "data_des['Scales'] = ['ordinal'] * 2 + ['ratio'] * 3 + ['ordinal'] * 2 + ['norminal'] * 2\n",
    "\n",
    "data_des['Discrete\\Continuous'] = ['discrete'] + ['continuous'] * 6  + ['discrete'] * 2\n",
    "\n",
    "data_des['Range'] = ['Placeholder','33 - 168','.244 - .687','.143 - 1','0 - 1','4 - 50','15 - 81','0: No; 1: Yes','0: No; 1: Yes']\n",
    "\n",
    "data_des"
   ]
  },
  {
   "cell_type": "markdown",
   "id": "d629d402",
   "metadata": {},
   "source": [
    "(NEED TO DO) Need to describe the changes made"
   ]
  },
  {
   "cell_type": "code",
   "execution_count": null,
   "id": "6787d926",
   "metadata": {},
   "outputs": [],
   "source": []
  },
  {
   "cell_type": "code",
   "execution_count": 82,
   "id": "c8a5a585",
   "metadata": {},
   "outputs": [
    {
     "data": {
      "text/plain": [
       "190"
      ]
     },
     "execution_count": 82,
     "metadata": {},
     "output_type": "execute_result"
    }
   ],
   "source": [
    "# find the duplicate instances\n",
    "idx = df.duplicated()\n",
    "\n",
    "# find the number of duplicate (not first show)\n",
    "len(df[idx])\n"
   ]
  },
  {
   "cell_type": "markdown",
   "id": "b1441e8c",
   "metadata": {},
   "source": [
    "(NEED TO DO) Describe the data"
   ]
  },
  {
   "cell_type": "code",
   "execution_count": 26,
   "id": "6dc6de2c",
   "metadata": {},
   "outputs": [],
   "source": [
    "# find the data summary\n",
    "display(home_df.describe())\n",
    "display(away_df.describe())"
   ]
  },
  {
   "cell_type": "code",
   "execution_count": 27,
   "id": "830ecaa5",
   "metadata": {},
   "outputs": [],
   "source": []
  },
  {
   "cell_type": "markdown",
   "id": "b91d1ad7",
   "metadata": {},
   "source": [
    "### 2.2 Data Quality"
   ]
  },
  {
   "cell_type": "code",
   "execution_count": 28,
   "id": "d232468d",
   "metadata": {},
   "outputs": [],
   "source": [
    "# Code goes here"
   ]
  },
  {
   "cell_type": "markdown",
   "id": "a897dafe",
   "metadata": {},
   "source": [
    "## 3. Data Visualization"
   ]
  },
  {
   "cell_type": "markdown",
   "id": "86999eac",
   "metadata": {},
   "source": [
    "### 3.1 Data Exploration"
   ]
  },
  {
   "cell_type": "code",
   "execution_count": 29,
   "id": "f6213861",
   "metadata": {},
   "outputs": [],
   "source": [
    "# Code goes here"
   ]
  },
  {
   "cell_type": "markdown",
   "id": "15a72795",
   "metadata": {},
   "source": [
    "### 3.2 Data Relationship Exploration"
   ]
  },
  {
   "cell_type": "code",
   "execution_count": null,
   "id": "4f0a4ed0",
   "metadata": {},
   "outputs": [],
   "source": [
    "# Code goes here"
   ]
  },
  {
   "cell_type": "markdown",
   "id": "ed3884c9",
   "metadata": {},
   "source": [
    "## 4. Dimensionality Reduction"
   ]
  },
  {
   "cell_type": "code",
   "execution_count": null,
   "id": "7c255b97",
   "metadata": {},
   "outputs": [],
   "source": [
    "# Code goes here"
   ]
  },
  {
   "cell_type": "code",
   "execution_count": 19,
   "id": "211c92c8",
   "metadata": {},
   "outputs": [],
   "source": [
    "# Code goes here"
   ]
  }
 ],
 "metadata": {
  "kernelspec": {
   "display_name": "Python 3 (ipykernel)",
   "language": "python",
   "name": "python3"
  },
  "language_info": {
   "codemirror_mode": {
    "name": "ipython",
    "version": 3
   },
   "file_extension": ".py",
   "mimetype": "text/x-python",
   "name": "python",
   "nbconvert_exporter": "python",
   "pygments_lexer": "ipython3",
   "version": "3.9.12"
  }
 },
 "nbformat": 4,
 "nbformat_minor": 5
}
